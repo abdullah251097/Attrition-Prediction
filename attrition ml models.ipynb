{
 "cells": [
  {
   "cell_type": "code",
   "execution_count": 19,
   "id": "8e9a53e4",
   "metadata": {},
   "outputs": [],
   "source": [
    "Group 17 \n",
    "Abdulllah Shad \n",
    "Chetan Shastry\n",
    "Agasthya"
   ]
  },
  {
   "cell_type": "code",
   "execution_count": 44,
   "id": "1337d774",
   "metadata": {},
   "outputs": [],
   "source": [
    "import os\n",
    "os.chdir(\"C:\\\\Users\\\\A\")\n",
    "\n",
    "#Read the cars.csv data\n",
    "import pandas as pd\n",
    "import matplotlib.pyplot as plt\n",
    "import seaborn as sns\n",
    "emp = pd.read_csv(\"attrition.csv\")"
   ]
  },
  {
   "cell_type": "code",
   "execution_count": 45,
   "id": "ddd53eca",
   "metadata": {},
   "outputs": [
    {
     "data": {
      "text/html": [
       "<div>\n",
       "<style scoped>\n",
       "    .dataframe tbody tr th:only-of-type {\n",
       "        vertical-align: middle;\n",
       "    }\n",
       "\n",
       "    .dataframe tbody tr th {\n",
       "        vertical-align: top;\n",
       "    }\n",
       "\n",
       "    .dataframe thead th {\n",
       "        text-align: right;\n",
       "    }\n",
       "</style>\n",
       "<table border=\"1\" class=\"dataframe\">\n",
       "  <thead>\n",
       "    <tr style=\"text-align: right;\">\n",
       "      <th></th>\n",
       "      <th>Age</th>\n",
       "      <th>Attrition</th>\n",
       "      <th>BusinessTravel</th>\n",
       "      <th>Department</th>\n",
       "      <th>EducationField</th>\n",
       "      <th>EnvironmentSatisfaction</th>\n",
       "      <th>Gender</th>\n",
       "      <th>JobInvolvement</th>\n",
       "      <th>JobLevel</th>\n",
       "      <th>JobSatisfaction</th>\n",
       "      <th>MaritalStatus</th>\n",
       "      <th>MonthlyIncome</th>\n",
       "      <th>OverTime</th>\n",
       "      <th>TotalWorkingYears</th>\n",
       "      <th>WorkLifeBalance</th>\n",
       "      <th>YearsAtCompany</th>\n",
       "      <th>YearsInCurrentRole</th>\n",
       "      <th>YearsSinceLastPromotion</th>\n",
       "      <th>YearsWithCurrManager</th>\n",
       "      <th>DistanceFromHome</th>\n",
       "    </tr>\n",
       "  </thead>\n",
       "  <tbody>\n",
       "    <tr>\n",
       "      <th>0</th>\n",
       "      <td>41</td>\n",
       "      <td>1</td>\n",
       "      <td>Travel_Rarely</td>\n",
       "      <td>Sales</td>\n",
       "      <td>Life Sciences</td>\n",
       "      <td>2</td>\n",
       "      <td>Female</td>\n",
       "      <td>3</td>\n",
       "      <td>2</td>\n",
       "      <td>4</td>\n",
       "      <td>Single</td>\n",
       "      <td>5993</td>\n",
       "      <td>Yes</td>\n",
       "      <td>8</td>\n",
       "      <td>1</td>\n",
       "      <td>6</td>\n",
       "      <td>4</td>\n",
       "      <td>0</td>\n",
       "      <td>5</td>\n",
       "      <td>1</td>\n",
       "    </tr>\n",
       "    <tr>\n",
       "      <th>1</th>\n",
       "      <td>49</td>\n",
       "      <td>0</td>\n",
       "      <td>Travel_Frequently</td>\n",
       "      <td>Research &amp; Development</td>\n",
       "      <td>Life Sciences</td>\n",
       "      <td>3</td>\n",
       "      <td>Male</td>\n",
       "      <td>2</td>\n",
       "      <td>2</td>\n",
       "      <td>2</td>\n",
       "      <td>Married</td>\n",
       "      <td>5130</td>\n",
       "      <td>No</td>\n",
       "      <td>10</td>\n",
       "      <td>3</td>\n",
       "      <td>10</td>\n",
       "      <td>7</td>\n",
       "      <td>1</td>\n",
       "      <td>7</td>\n",
       "      <td>8</td>\n",
       "    </tr>\n",
       "    <tr>\n",
       "      <th>2</th>\n",
       "      <td>37</td>\n",
       "      <td>1</td>\n",
       "      <td>Travel_Rarely</td>\n",
       "      <td>Research &amp; Development</td>\n",
       "      <td>Other</td>\n",
       "      <td>4</td>\n",
       "      <td>Male</td>\n",
       "      <td>2</td>\n",
       "      <td>1</td>\n",
       "      <td>3</td>\n",
       "      <td>Single</td>\n",
       "      <td>2090</td>\n",
       "      <td>Yes</td>\n",
       "      <td>7</td>\n",
       "      <td>3</td>\n",
       "      <td>0</td>\n",
       "      <td>0</td>\n",
       "      <td>0</td>\n",
       "      <td>0</td>\n",
       "      <td>2</td>\n",
       "    </tr>\n",
       "    <tr>\n",
       "      <th>3</th>\n",
       "      <td>33</td>\n",
       "      <td>0</td>\n",
       "      <td>Travel_Frequently</td>\n",
       "      <td>Research &amp; Development</td>\n",
       "      <td>Life Sciences</td>\n",
       "      <td>4</td>\n",
       "      <td>Female</td>\n",
       "      <td>3</td>\n",
       "      <td>1</td>\n",
       "      <td>3</td>\n",
       "      <td>Married</td>\n",
       "      <td>2909</td>\n",
       "      <td>Yes</td>\n",
       "      <td>8</td>\n",
       "      <td>3</td>\n",
       "      <td>8</td>\n",
       "      <td>7</td>\n",
       "      <td>3</td>\n",
       "      <td>0</td>\n",
       "      <td>3</td>\n",
       "    </tr>\n",
       "    <tr>\n",
       "      <th>4</th>\n",
       "      <td>27</td>\n",
       "      <td>0</td>\n",
       "      <td>Travel_Rarely</td>\n",
       "      <td>Research &amp; Development</td>\n",
       "      <td>Medical</td>\n",
       "      <td>1</td>\n",
       "      <td>Male</td>\n",
       "      <td>3</td>\n",
       "      <td>1</td>\n",
       "      <td>2</td>\n",
       "      <td>Married</td>\n",
       "      <td>3468</td>\n",
       "      <td>No</td>\n",
       "      <td>6</td>\n",
       "      <td>3</td>\n",
       "      <td>2</td>\n",
       "      <td>2</td>\n",
       "      <td>2</td>\n",
       "      <td>2</td>\n",
       "      <td>2</td>\n",
       "    </tr>\n",
       "  </tbody>\n",
       "</table>\n",
       "</div>"
      ],
      "text/plain": [
       "   Age  Attrition     BusinessTravel              Department EducationField  \\\n",
       "0   41          1      Travel_Rarely                   Sales  Life Sciences   \n",
       "1   49          0  Travel_Frequently  Research & Development  Life Sciences   \n",
       "2   37          1      Travel_Rarely  Research & Development          Other   \n",
       "3   33          0  Travel_Frequently  Research & Development  Life Sciences   \n",
       "4   27          0      Travel_Rarely  Research & Development        Medical   \n",
       "\n",
       "   EnvironmentSatisfaction  Gender  JobInvolvement  JobLevel  JobSatisfaction  \\\n",
       "0                        2  Female               3         2                4   \n",
       "1                        3    Male               2         2                2   \n",
       "2                        4    Male               2         1                3   \n",
       "3                        4  Female               3         1                3   \n",
       "4                        1    Male               3         1                2   \n",
       "\n",
       "  MaritalStatus  MonthlyIncome OverTime  TotalWorkingYears  WorkLifeBalance  \\\n",
       "0        Single           5993      Yes                  8                1   \n",
       "1       Married           5130       No                 10                3   \n",
       "2        Single           2090      Yes                  7                3   \n",
       "3       Married           2909      Yes                  8                3   \n",
       "4       Married           3468       No                  6                3   \n",
       "\n",
       "   YearsAtCompany  YearsInCurrentRole  YearsSinceLastPromotion  \\\n",
       "0               6                   4                        0   \n",
       "1              10                   7                        1   \n",
       "2               0                   0                        0   \n",
       "3               8                   7                        3   \n",
       "4               2                   2                        2   \n",
       "\n",
       "   YearsWithCurrManager  DistanceFromHome  \n",
       "0                     5                 1  \n",
       "1                     7                 8  \n",
       "2                     0                 2  \n",
       "3                     0                 3  \n",
       "4                     2                 2  "
      ]
     },
     "execution_count": 45,
     "metadata": {},
     "output_type": "execute_result"
    }
   ],
   "source": [
    "emp.head()"
   ]
  },
  {
   "cell_type": "code",
   "execution_count": 8,
   "id": "8a88182d",
   "metadata": {},
   "outputs": [
    {
     "data": {
      "text/plain": [
       "(1470, 20)"
      ]
     },
     "execution_count": 8,
     "metadata": {},
     "output_type": "execute_result"
    }
   ],
   "source": [
    "emp.shape #no. of rows and columns"
   ]
  },
  {
   "cell_type": "code",
   "execution_count": 9,
   "id": "77c4bfc8",
   "metadata": {},
   "outputs": [
    {
     "data": {
      "text/plain": [
       "0    1233\n",
       "1     237\n",
       "Name: Attrition, dtype: int64"
      ]
     },
     "execution_count": 9,
     "metadata": {},
     "output_type": "execute_result"
    }
   ],
   "source": [
    "emp.Attrition.value_counts()"
   ]
  },
  {
   "cell_type": "code",
   "execution_count": 22,
   "id": "2da0c817",
   "metadata": {},
   "outputs": [
    {
     "data": {
      "text/plain": [
       "Age                         int64\n",
       "Attrition                   int64\n",
       "BusinessTravel             object\n",
       "Department                 object\n",
       "EducationField             object\n",
       "EnvironmentSatisfaction     int64\n",
       "Gender                     object\n",
       "JobInvolvement              int64\n",
       "JobLevel                    int64\n",
       "JobSatisfaction             int64\n",
       "MaritalStatus              object\n",
       "MonthlyIncome               int64\n",
       "OverTime                   object\n",
       "TotalWorkingYears           int64\n",
       "WorkLifeBalance             int64\n",
       "YearsAtCompany              int64\n",
       "YearsInCurrentRole          int64\n",
       "YearsSinceLastPromotion     int64\n",
       "YearsWithCurrManager        int64\n",
       "DistanceFromHome            int64\n",
       "dtype: object"
      ]
     },
     "execution_count": 22,
     "metadata": {},
     "output_type": "execute_result"
    }
   ],
   "source": [
    "emp.dtypes    #All columns and their data types \n",
    "\n"
   ]
  },
  {
   "cell_type": "code",
   "execution_count": 23,
   "id": "6eeec591",
   "metadata": {},
   "outputs": [
    {
     "data": {
      "text/plain": [
       "0    1233\n",
       "1     237\n",
       "Name: Attrition, dtype: int64"
      ]
     },
     "execution_count": 23,
     "metadata": {},
     "output_type": "execute_result"
    }
   ],
   "source": [
    "emp['Attrition'].value_counts()"
   ]
  },
  {
   "cell_type": "code",
   "execution_count": 24,
   "id": "893bda2d",
   "metadata": {},
   "outputs": [
    {
     "data": {
      "text/plain": [
       "Age                        0\n",
       "Attrition                  0\n",
       "BusinessTravel             0\n",
       "Department                 0\n",
       "EducationField             0\n",
       "EnvironmentSatisfaction    0\n",
       "Gender                     0\n",
       "JobInvolvement             0\n",
       "JobLevel                   0\n",
       "JobSatisfaction            0\n",
       "MaritalStatus              0\n",
       "MonthlyIncome              0\n",
       "OverTime                   0\n",
       "TotalWorkingYears          0\n",
       "WorkLifeBalance            0\n",
       "YearsAtCompany             0\n",
       "YearsInCurrentRole         0\n",
       "YearsSinceLastPromotion    0\n",
       "YearsWithCurrManager       0\n",
       "DistanceFromHome           0\n",
       "dtype: int64"
      ]
     },
     "execution_count": 24,
     "metadata": {},
     "output_type": "execute_result"
    }
   ],
   "source": [
    "emp.isnull().sum() #Finding null values. \n",
    "                   #For the record there are no null values\n",
    "\n"
   ]
  },
  {
   "cell_type": "code",
   "execution_count": 25,
   "id": "bca4bcc2",
   "metadata": {},
   "outputs": [
    {
     "data": {
      "text/html": [
       "<div>\n",
       "<style scoped>\n",
       "    .dataframe tbody tr th:only-of-type {\n",
       "        vertical-align: middle;\n",
       "    }\n",
       "\n",
       "    .dataframe tbody tr th {\n",
       "        vertical-align: top;\n",
       "    }\n",
       "\n",
       "    .dataframe thead th {\n",
       "        text-align: right;\n",
       "    }\n",
       "</style>\n",
       "<table border=\"1\" class=\"dataframe\">\n",
       "  <thead>\n",
       "    <tr style=\"text-align: right;\">\n",
       "      <th></th>\n",
       "      <th>Age</th>\n",
       "      <th>Attrition</th>\n",
       "      <th>EnvironmentSatisfaction</th>\n",
       "      <th>JobInvolvement</th>\n",
       "      <th>JobLevel</th>\n",
       "      <th>JobSatisfaction</th>\n",
       "      <th>MonthlyIncome</th>\n",
       "      <th>TotalWorkingYears</th>\n",
       "      <th>WorkLifeBalance</th>\n",
       "      <th>YearsAtCompany</th>\n",
       "      <th>YearsInCurrentRole</th>\n",
       "      <th>YearsSinceLastPromotion</th>\n",
       "      <th>YearsWithCurrManager</th>\n",
       "      <th>DistanceFromHome</th>\n",
       "    </tr>\n",
       "  </thead>\n",
       "  <tbody>\n",
       "    <tr>\n",
       "      <th>count</th>\n",
       "      <td>1470.000000</td>\n",
       "      <td>1470.000000</td>\n",
       "      <td>1470.000000</td>\n",
       "      <td>1470.000000</td>\n",
       "      <td>1470.000000</td>\n",
       "      <td>1470.000000</td>\n",
       "      <td>1470.000000</td>\n",
       "      <td>1470.000000</td>\n",
       "      <td>1470.000000</td>\n",
       "      <td>1470.000000</td>\n",
       "      <td>1470.000000</td>\n",
       "      <td>1470.000000</td>\n",
       "      <td>1470.000000</td>\n",
       "      <td>1470.000000</td>\n",
       "    </tr>\n",
       "    <tr>\n",
       "      <th>mean</th>\n",
       "      <td>36.923810</td>\n",
       "      <td>0.161224</td>\n",
       "      <td>2.721769</td>\n",
       "      <td>2.729932</td>\n",
       "      <td>2.063946</td>\n",
       "      <td>2.728571</td>\n",
       "      <td>6502.931293</td>\n",
       "      <td>11.279592</td>\n",
       "      <td>2.761224</td>\n",
       "      <td>7.008163</td>\n",
       "      <td>4.229252</td>\n",
       "      <td>2.187755</td>\n",
       "      <td>4.123129</td>\n",
       "      <td>9.192517</td>\n",
       "    </tr>\n",
       "    <tr>\n",
       "      <th>std</th>\n",
       "      <td>9.135373</td>\n",
       "      <td>0.367863</td>\n",
       "      <td>1.093082</td>\n",
       "      <td>0.711561</td>\n",
       "      <td>1.106940</td>\n",
       "      <td>1.102846</td>\n",
       "      <td>4707.956783</td>\n",
       "      <td>7.780782</td>\n",
       "      <td>0.706476</td>\n",
       "      <td>6.126525</td>\n",
       "      <td>3.623137</td>\n",
       "      <td>3.222430</td>\n",
       "      <td>3.568136</td>\n",
       "      <td>8.106864</td>\n",
       "    </tr>\n",
       "    <tr>\n",
       "      <th>min</th>\n",
       "      <td>18.000000</td>\n",
       "      <td>0.000000</td>\n",
       "      <td>1.000000</td>\n",
       "      <td>1.000000</td>\n",
       "      <td>1.000000</td>\n",
       "      <td>1.000000</td>\n",
       "      <td>1009.000000</td>\n",
       "      <td>0.000000</td>\n",
       "      <td>1.000000</td>\n",
       "      <td>0.000000</td>\n",
       "      <td>0.000000</td>\n",
       "      <td>0.000000</td>\n",
       "      <td>0.000000</td>\n",
       "      <td>1.000000</td>\n",
       "    </tr>\n",
       "    <tr>\n",
       "      <th>25%</th>\n",
       "      <td>30.000000</td>\n",
       "      <td>0.000000</td>\n",
       "      <td>2.000000</td>\n",
       "      <td>2.000000</td>\n",
       "      <td>1.000000</td>\n",
       "      <td>2.000000</td>\n",
       "      <td>2911.000000</td>\n",
       "      <td>6.000000</td>\n",
       "      <td>2.000000</td>\n",
       "      <td>3.000000</td>\n",
       "      <td>2.000000</td>\n",
       "      <td>0.000000</td>\n",
       "      <td>2.000000</td>\n",
       "      <td>2.000000</td>\n",
       "    </tr>\n",
       "    <tr>\n",
       "      <th>50%</th>\n",
       "      <td>36.000000</td>\n",
       "      <td>0.000000</td>\n",
       "      <td>3.000000</td>\n",
       "      <td>3.000000</td>\n",
       "      <td>2.000000</td>\n",
       "      <td>3.000000</td>\n",
       "      <td>4919.000000</td>\n",
       "      <td>10.000000</td>\n",
       "      <td>3.000000</td>\n",
       "      <td>5.000000</td>\n",
       "      <td>3.000000</td>\n",
       "      <td>1.000000</td>\n",
       "      <td>3.000000</td>\n",
       "      <td>7.000000</td>\n",
       "    </tr>\n",
       "    <tr>\n",
       "      <th>75%</th>\n",
       "      <td>43.000000</td>\n",
       "      <td>0.000000</td>\n",
       "      <td>4.000000</td>\n",
       "      <td>3.000000</td>\n",
       "      <td>3.000000</td>\n",
       "      <td>4.000000</td>\n",
       "      <td>8379.000000</td>\n",
       "      <td>15.000000</td>\n",
       "      <td>3.000000</td>\n",
       "      <td>9.000000</td>\n",
       "      <td>7.000000</td>\n",
       "      <td>3.000000</td>\n",
       "      <td>7.000000</td>\n",
       "      <td>14.000000</td>\n",
       "    </tr>\n",
       "    <tr>\n",
       "      <th>max</th>\n",
       "      <td>60.000000</td>\n",
       "      <td>1.000000</td>\n",
       "      <td>4.000000</td>\n",
       "      <td>4.000000</td>\n",
       "      <td>5.000000</td>\n",
       "      <td>4.000000</td>\n",
       "      <td>19999.000000</td>\n",
       "      <td>40.000000</td>\n",
       "      <td>4.000000</td>\n",
       "      <td>40.000000</td>\n",
       "      <td>18.000000</td>\n",
       "      <td>15.000000</td>\n",
       "      <td>17.000000</td>\n",
       "      <td>29.000000</td>\n",
       "    </tr>\n",
       "  </tbody>\n",
       "</table>\n",
       "</div>"
      ],
      "text/plain": [
       "               Age    Attrition  EnvironmentSatisfaction  JobInvolvement  \\\n",
       "count  1470.000000  1470.000000              1470.000000     1470.000000   \n",
       "mean     36.923810     0.161224                 2.721769        2.729932   \n",
       "std       9.135373     0.367863                 1.093082        0.711561   \n",
       "min      18.000000     0.000000                 1.000000        1.000000   \n",
       "25%      30.000000     0.000000                 2.000000        2.000000   \n",
       "50%      36.000000     0.000000                 3.000000        3.000000   \n",
       "75%      43.000000     0.000000                 4.000000        3.000000   \n",
       "max      60.000000     1.000000                 4.000000        4.000000   \n",
       "\n",
       "          JobLevel  JobSatisfaction  MonthlyIncome  TotalWorkingYears  \\\n",
       "count  1470.000000      1470.000000    1470.000000        1470.000000   \n",
       "mean      2.063946         2.728571    6502.931293          11.279592   \n",
       "std       1.106940         1.102846    4707.956783           7.780782   \n",
       "min       1.000000         1.000000    1009.000000           0.000000   \n",
       "25%       1.000000         2.000000    2911.000000           6.000000   \n",
       "50%       2.000000         3.000000    4919.000000          10.000000   \n",
       "75%       3.000000         4.000000    8379.000000          15.000000   \n",
       "max       5.000000         4.000000   19999.000000          40.000000   \n",
       "\n",
       "       WorkLifeBalance  YearsAtCompany  YearsInCurrentRole  \\\n",
       "count      1470.000000     1470.000000         1470.000000   \n",
       "mean          2.761224        7.008163            4.229252   \n",
       "std           0.706476        6.126525            3.623137   \n",
       "min           1.000000        0.000000            0.000000   \n",
       "25%           2.000000        3.000000            2.000000   \n",
       "50%           3.000000        5.000000            3.000000   \n",
       "75%           3.000000        9.000000            7.000000   \n",
       "max           4.000000       40.000000           18.000000   \n",
       "\n",
       "       YearsSinceLastPromotion  YearsWithCurrManager  DistanceFromHome  \n",
       "count              1470.000000           1470.000000       1470.000000  \n",
       "mean                  2.187755              4.123129          9.192517  \n",
       "std                   3.222430              3.568136          8.106864  \n",
       "min                   0.000000              0.000000          1.000000  \n",
       "25%                   0.000000              2.000000          2.000000  \n",
       "50%                   1.000000              3.000000          7.000000  \n",
       "75%                   3.000000              7.000000         14.000000  \n",
       "max                  15.000000             17.000000         29.000000  "
      ]
     },
     "execution_count": 25,
     "metadata": {},
     "output_type": "execute_result"
    }
   ],
   "source": [
    "emp.describe()"
   ]
  },
  {
   "cell_type": "code",
   "execution_count": null,
   "id": "10a312ab",
   "metadata": {},
   "outputs": [],
   "source": []
  },
  {
   "cell_type": "markdown",
   "id": "5183d0a9",
   "metadata": {},
   "source": [
    "Univariate Analysis"
   ]
  },
  {
   "cell_type": "code",
   "execution_count": null,
   "id": "b16641f7",
   "metadata": {},
   "outputs": [],
   "source": [
    "#Under our analysis,there are 1470 employees, the colum attrtion has two categoical values - 0 and 1, 0 means that\n",
    "#the employee is working in the company and 1 means that employee has left the company."
   ]
  },
  {
   "cell_type": "code",
   "execution_count": null,
   "id": "ec9a7a65",
   "metadata": {},
   "outputs": [],
   "source": [
    "#Under our analysis,there are 1470 employees, the mean age of an employee is 36 years, the youngest employee is 18 years \n",
    "#old, the oldest employee is 36 years old.\n",
    "#Age is normally distributed"
   ]
  },
  {
   "cell_type": "code",
   "execution_count": null,
   "id": "ed6b5c09",
   "metadata": {},
   "outputs": [],
   "source": [
    "#Under our analysis,there are 1470 employees, the mean monthly income of an employee is 6520, the lowest monhly income \n",
    "#drawn by an employee is 1009 is 18 years and highest earning employee has monthly income of 199999.\n",
    "#Income is skewed."
   ]
  },
  {
   "cell_type": "code",
   "execution_count": null,
   "id": "f5aea56f",
   "metadata": {},
   "outputs": [],
   "source": [
    "#Under our analysis,there are 1470 employees, the mean total working years of an employee is 11, the minimum total \n",
    "#working year is 0 and maximum total working year is 40.\n",
    "\n"
   ]
  },
  {
   "cell_type": "code",
   "execution_count": null,
   "id": "92afc9aa",
   "metadata": {},
   "outputs": [],
   "source": [
    "#Under our analysis,there are 1470 employees, the mean years at company of an employee is 7, the minimum years at company is\n",
    "# is 0 and maximum years at company is 40."
   ]
  },
  {
   "cell_type": "code",
   "execution_count": null,
   "id": "d243fb1b",
   "metadata": {},
   "outputs": [],
   "source": []
  },
  {
   "cell_type": "code",
   "execution_count": null,
   "id": "66954206",
   "metadata": {},
   "outputs": [],
   "source": []
  },
  {
   "cell_type": "code",
   "execution_count": null,
   "id": "430916a8",
   "metadata": {},
   "outputs": [],
   "source": []
  },
  {
   "cell_type": "markdown",
   "id": "c8f302aa",
   "metadata": {},
   "source": [
    "Bi-Variate Analysis of Numerical Columns"
   ]
  },
  {
   "cell_type": "markdown",
   "id": "1dd3b8b6",
   "metadata": {},
   "source": [
    "1. Age"
   ]
  },
  {
   "cell_type": "code",
   "execution_count": 26,
   "id": "5b7fa13b",
   "metadata": {},
   "outputs": [
    {
     "data": {
      "text/plain": [
       "<AxesSubplot:xlabel='Age', ylabel='count'>"
      ]
     },
     "execution_count": 26,
     "metadata": {},
     "output_type": "execute_result"
    },
    {
     "data": {
      "image/png": "[encoded data removed]",
      "text/plain": [
       "<Figure size 1500x700 with 1 Axes>"
      ]
     },
     "metadata": {
      "needs_background": "light"
     },
     "output_type": "display_data"
    }
   ],
   "source": [
    "# Frequency distribution of age with attrtion status\n",
    "plt.figure(figsize = (15, 7), dpi = 100)\n",
    "sns.countplot(x='Age', hue='Attrition', data=emp,\n",
    "            palette=['purple', 'steelblue'])"
   ]
  },
  {
   "cell_type": "code",
   "execution_count": 27,
   "id": "4cee9a12",
   "metadata": {},
   "outputs": [
    {
     "name": "stderr",
     "output_type": "stream",
     "text": [
      "C:\\ProgramData\\Anaconda3\\lib\\site-packages\\seaborn\\distributions.py:2619: FutureWarning: `distplot` is a deprecated function and will be removed in a future version. Please adapt your code to use either `displot` (a figure-level function with similar flexibility) or `histplot` (an axes-level function for histograms).\n",
      "  warnings.warn(msg, FutureWarning)\n",
      "C:\\ProgramData\\Anaconda3\\lib\\site-packages\\seaborn\\distributions.py:2619: FutureWarning: `distplot` is a deprecated function and will be removed in a future version. Please adapt your code to use either `displot` (a figure-level function with similar flexibility) or `histplot` (an axes-level function for histograms).\n",
      "  warnings.warn(msg, FutureWarning)\n"
     ]
    },
    {
     "data": {
      "text/plain": [
       "<matplotlib.legend.Legend at 0x225d8c150a0>"
      ]
     },
     "execution_count": 27,
     "metadata": {},
     "output_type": "execute_result"
    },
    {
     "data": {
      "image/png": "[encoded data removed]",
      "text/plain": [
       "<Figure size 432x288 with 1 Axes>"
      ]
     },
     "metadata": {
      "needs_background": "light"
     },
     "output_type": "display_data"
    }
   ],
   "source": [
    "#KDE plot of age and attrition status\n",
    "\n",
    "df = emp[emp.Attrition == 0]\n",
    "sns.distplot(df['Age'], hist = True, kde = True, label='0')\n",
    "df = emp[emp.Attrition == 1]\n",
    "sns.distplot(df['Age'], hist = True, kde = True, label='1')\n",
    "plt.legend(prop={'size': 12})"
   ]
  },
  {
   "cell_type": "markdown",
   "id": "daa6fd6d",
   "metadata": {},
   "source": [
    "1.From the above plot we can see that as a person's age is low, the probabilty of leaving the organization is more than probability of statying, but as the age reaches approximately 33 the probability of staying in the organization is more than probabilty of leaving.\n",
    "\n",
    "2.We can also see that the maximum number of employees leaving is in the age range of 28-32\n",
    "\n",
    "3. From the frequency plot we can see that the attrtion rate among the yonger workforce is  roughly 50%(in a particular age \n",
    "   there are as many people staying as leaving), but as we move to the mid-age and old workforce this trend is notfollowed.\n"
   ]
  },
  {
   "cell_type": "markdown",
   "id": "6403b516",
   "metadata": {},
   "source": [
    "2. Monthly Income"
   ]
  },
  {
   "cell_type": "code",
   "execution_count": 82,
   "id": "56a9833d",
   "metadata": {},
   "outputs": [
    {
     "name": "stderr",
     "output_type": "stream",
     "text": [
      "C:\\ProgramData\\Anaconda3\\lib\\site-packages\\seaborn\\distributions.py:2619: FutureWarning: `distplot` is a deprecated function and will be removed in a future version. Please adapt your code to use either `displot` (a figure-level function with similar flexibility) or `histplot` (an axes-level function for histograms).\n",
      "  warnings.warn(msg, FutureWarning)\n",
      "C:\\ProgramData\\Anaconda3\\lib\\site-packages\\seaborn\\distributions.py:2619: FutureWarning: `distplot` is a deprecated function and will be removed in a future version. Please adapt your code to use either `displot` (a figure-level function with similar flexibility) or `histplot` (an axes-level function for histograms).\n",
      "  warnings.warn(msg, FutureWarning)\n"
     ]
    },
    {
     "data": {
      "text/plain": [
       "<matplotlib.legend.Legend at 0x225dc9e9ca0>"
      ]
     },
     "execution_count": 82,
     "metadata": {},
     "output_type": "execute_result"
    },
    {
     "data": {
      "image/png": "[encoded data removed]",
      "text/plain": [
       "<Figure size 432x288 with 1 Axes>"
      ]
     },
     "metadata": {
      "needs_background": "light"
     },
     "output_type": "display_data"
    }
   ],
   "source": [
    "#KDE plot of monthly income and attrition status\n",
    "\n",
    "df = emp[emp.Attrition == 0]\n",
    "sns.distplot(df['MonthlyIncome'], hist = True, kde = True, label='0')\n",
    "df = emp[emp.Attrition == 1]\n",
    "sns.distplot(df['MonthlyIncome'], hist = True, kde = True, label='1')\n",
    "plt.legend(prop={'size': 12})"
   ]
  },
  {
   "cell_type": "markdown",
   "id": "a626e995",
   "metadata": {},
   "source": [
    "1.From the above plot we can see that as a person's monthly is low, the probabilty of leaving the organization is more than probability of statying, but as the monthly income reaches approximately 10000 the probability of staying in the organization is more than probabilty of leaving.\n",
    "\n",
    "2.We can also see that the maximum number of employees leaving is in the income range of 2000-3000\n"
   ]
  },
  {
   "cell_type": "code",
   "execution_count": 29,
   "id": "463cbb6f",
   "metadata": {},
   "outputs": [
    {
     "data": {
      "image/png": "[encoded data removed]",
      "text/plain": [
       "<Figure size 576x504 with 1 Axes>"
      ]
     },
     "metadata": {
      "needs_background": "light"
     },
     "output_type": "display_data"
    }
   ],
   "source": [
    "#Scatter plot of age vs monthly income\n",
    "\n",
    "emp.plot(kind=\"scatter\",\n",
    "         x=\"Age\", y = \"MonthlyIncome\",\n",
    "         color = \"green\",\n",
    "         figsize=(8,7))\n",
    "\n",
    "plt.xlabel(\"Age\", fontsize=12)\n",
    "plt.ylabel(\"MonthlyIncome\", fontsize=12)\n",
    "plt.title(\"Scatter Plot\", fontsize=14)\n",
    "\n",
    "plt.show()"
   ]
  },
  {
   "cell_type": "markdown",
   "id": "0e9cbef8",
   "metadata": {},
   "source": [
    "It is evident from the scatter plot that very young employees(18-20) have the minumum monthly income and that could be a reason that they have high probability of leaving."
   ]
  },
  {
   "cell_type": "markdown",
   "id": "76357943",
   "metadata": {},
   "source": [
    "3. Total Working years"
   ]
  },
  {
   "cell_type": "code",
   "execution_count": 30,
   "id": "d99e2cd3",
   "metadata": {},
   "outputs": [
    {
     "data": {
      "text/plain": [
       "<AxesSubplot:xlabel='TotalWorkingYears', ylabel='count'>"
      ]
     },
     "execution_count": 30,
     "metadata": {},
     "output_type": "execute_result"
    },
    {
     "data": {
      "image/png": "[encoded data removed]",
      "text/plain": [
       "<Figure size 1500x700 with 1 Axes>"
      ]
     },
     "metadata": {
      "needs_background": "light"
     },
     "output_type": "display_data"
    }
   ],
   "source": [
    "#Frequency plot of Total working years and attrition status\n",
    "plt.figure(figsize = (15, 7), dpi = 100)\n",
    "sns.countplot(x='TotalWorkingYears', hue='Attrition', data=emp,\n",
    "            palette=['purple', 'steelblue'])"
   ]
  },
  {
   "cell_type": "code",
   "execution_count": 31,
   "id": "5597fa9c",
   "metadata": {},
   "outputs": [],
   "source": [
    "#We can see that attrtion is highest amongst the low experience employees(0-1 years) who have just started and as an employee moves \n",
    "# gains suffcient work-ex, the attrition rate reduces significantly."
   ]
  },
  {
   "cell_type": "code",
   "execution_count": 32,
   "id": "ff14c660",
   "metadata": {},
   "outputs": [
    {
     "name": "stderr",
     "output_type": "stream",
     "text": [
      "C:\\ProgramData\\Anaconda3\\lib\\site-packages\\seaborn\\distributions.py:2619: FutureWarning: `distplot` is a deprecated function and will be removed in a future version. Please adapt your code to use either `displot` (a figure-level function with similar flexibility) or `histplot` (an axes-level function for histograms).\n",
      "  warnings.warn(msg, FutureWarning)\n",
      "C:\\ProgramData\\Anaconda3\\lib\\site-packages\\seaborn\\distributions.py:2619: FutureWarning: `distplot` is a deprecated function and will be removed in a future version. Please adapt your code to use either `displot` (a figure-level function with similar flexibility) or `histplot` (an axes-level function for histograms).\n",
      "  warnings.warn(msg, FutureWarning)\n"
     ]
    },
    {
     "data": {
      "text/plain": [
       "<matplotlib.legend.Legend at 0x225d9bbda00>"
      ]
     },
     "execution_count": 32,
     "metadata": {},
     "output_type": "execute_result"
    },
    {
     "data": {
      "image/png": "[encoded data removed]",
      "text/plain": [
       "<Figure size 432x288 with 1 Axes>"
      ]
     },
     "metadata": {
      "needs_background": "light"
     },
     "output_type": "display_data"
    }
   ],
   "source": [
    "#KDE plot of total working years and attriton\n",
    "df = emp[emp.Attrition == 0]\n",
    "sns.distplot(df['TotalWorkingYears'], hist = True, kde = True, label='0')\n",
    "df = emp[emp.Attrition == 1]\n",
    "sns.distplot(df['TotalWorkingYears'], hist = True, kde = True, label='1')\n",
    "plt.legend(prop={'size': 12})"
   ]
  },
  {
   "cell_type": "markdown",
   "id": "b2bda677",
   "metadata": {},
   "source": [
    "1.From the above plot we can see that as a person's work experince is low, the probabilty of leaving the organization is more than probability of statying, but as the work-ex reaches approximately 8 years the probability of staying in the organization is more than probabilty of leaving.\n",
    "\n",
    "2.We can also see that the maximum number of employees leaving have 1 year of work ex.\n",
    "\n"
   ]
  },
  {
   "cell_type": "code",
   "execution_count": 33,
   "id": "809fbcd7",
   "metadata": {},
   "outputs": [
    {
     "data": {
      "image/png": "[encoded data removed]",
      "text/plain": [
       "<Figure size 576x504 with 1 Axes>"
      ]
     },
     "metadata": {
      "needs_background": "light"
     },
     "output_type": "display_data"
    }
   ],
   "source": [
    "#Scatter plot of Monthly Income vs Total years of work ex\n",
    "emp.plot(kind=\"scatter\",\n",
    "         x=\"TotalWorkingYears\", y = \"MonthlyIncome\",\n",
    "         color = \"green\",\n",
    "         figsize=(8,7))\n",
    "\n",
    "plt.xlabel(\"TotalWorkingYears\", fontsize=12)\n",
    "plt.ylabel(\"MonthlyIncome\", fontsize=12)\n",
    "plt.title(\"Scatter Plot\", fontsize=14)\n",
    "\n",
    "plt.show()"
   ]
  },
  {
   "cell_type": "code",
   "execution_count": 34,
   "id": "29a0ad05",
   "metadata": {},
   "outputs": [],
   "source": [
    "# Assumption - Employees who are freshers have very low monthly wage.\n",
    "\n",
    "# Prove - From the scatter plot we can see that those with 0-1 years of work ex are earning the lowest monthly income in the company"
   ]
  },
  {
   "cell_type": "markdown",
   "id": "565fadbe",
   "metadata": {},
   "source": [
    "4. Years At Company"
   ]
  },
  {
   "cell_type": "code",
   "execution_count": 35,
   "id": "deb54f51",
   "metadata": {},
   "outputs": [
    {
     "data": {
      "text/plain": [
       "<AxesSubplot:xlabel='YearsAtCompany', ylabel='count'>"
      ]
     },
     "execution_count": 35,
     "metadata": {},
     "output_type": "execute_result"
    },
    {
     "data": {
      "image/png": "[encoded data removed]",
      "text/plain": [
       "<Figure size 1500x700 with 1 Axes>"
      ]
     },
     "metadata": {
      "needs_background": "light"
     },
     "output_type": "display_data"
    }
   ],
   "source": [
    "#Frequency plot of years at company and attrition status\n",
    "plt.figure(figsize = (15, 7), dpi = 100)\n",
    "sns.countplot(x='YearsAtCompany', hue='Attrition', data=emp,\n",
    "            palette=['purple', 'steelblue'])"
   ]
  },
  {
   "cell_type": "code",
   "execution_count": null,
   "id": "01191f98",
   "metadata": {},
   "outputs": [],
   "source": [
    "#Maximum attrition is for employees  who have spent 1 year in the company and attrition drops significantly in extreme years."
   ]
  },
  {
   "cell_type": "code",
   "execution_count": 36,
   "id": "9edf8320",
   "metadata": {},
   "outputs": [
    {
     "name": "stderr",
     "output_type": "stream",
     "text": [
      "C:\\ProgramData\\Anaconda3\\lib\\site-packages\\seaborn\\distributions.py:2619: FutureWarning: `distplot` is a deprecated function and will be removed in a future version. Please adapt your code to use either `displot` (a figure-level function with similar flexibility) or `histplot` (an axes-level function for histograms).\n",
      "  warnings.warn(msg, FutureWarning)\n",
      "C:\\ProgramData\\Anaconda3\\lib\\site-packages\\seaborn\\distributions.py:2619: FutureWarning: `distplot` is a deprecated function and will be removed in a future version. Please adapt your code to use either `displot` (a figure-level function with similar flexibility) or `histplot` (an axes-level function for histograms).\n",
      "  warnings.warn(msg, FutureWarning)\n"
     ]
    },
    {
     "data": {
      "text/plain": [
       "<matplotlib.legend.Legend at 0x225db8a7f70>"
      ]
     },
     "execution_count": 36,
     "metadata": {},
     "output_type": "execute_result"
    },
    {
     "data": {
      "image/png": "[encoded data removed]",
      "text/plain": [
       "<Figure size 432x288 with 1 Axes>"
      ]
     },
     "metadata": {
      "needs_background": "light"
     },
     "output_type": "display_data"
    }
   ],
   "source": [
    "#KDE plot of years at company and attriton\n",
    "df = emp[emp.Attrition == 0]\n",
    "sns.distplot(df['YearsAtCompany'], hist = True, kde = True, label='0')\n",
    "df = emp[emp.Attrition == 1]\n",
    "sns.distplot(df['YearsAtCompany'], hist = True, kde = True, label='1')\n",
    "plt.legend(prop={'size': 12})"
   ]
  },
  {
   "cell_type": "code",
   "execution_count": null,
   "id": "8967267b",
   "metadata": {},
   "outputs": [],
   "source": [
    "#The probabilty of leaving is high as compared to probabilty of staying in the intial years when emp joins the company\n",
    "# but as an employee spends 2-4 years in the company this trend is reversed."
   ]
  },
  {
   "cell_type": "code",
   "execution_count": null,
   "id": "bbbe803d",
   "metadata": {},
   "outputs": [],
   "source": []
  },
  {
   "cell_type": "markdown",
   "id": "4bff761b",
   "metadata": {},
   "source": [
    "5.YearsInCurrentRole"
   ]
  },
  {
   "cell_type": "code",
   "execution_count": 37,
   "id": "c672f4b7",
   "metadata": {},
   "outputs": [
    {
     "data": {
      "text/plain": [
       "<AxesSubplot:xlabel='YearsInCurrentRole', ylabel='count'>"
      ]
     },
     "execution_count": 37,
     "metadata": {},
     "output_type": "execute_result"
    },
    {
     "data": {
      "image/png": "[encoded data removed]",
      "text/plain": [
       "<Figure size 1500x700 with 1 Axes>"
      ]
     },
     "metadata": {
      "needs_background": "light"
     },
     "output_type": "display_data"
    }
   ],
   "source": [
    "#Frequency plot of years in current role and attrition status\n",
    "plt.figure(figsize = (15, 7), dpi = 100)\n",
    "sns.countplot(x='YearsInCurrentRole', hue='Attrition', data=emp,\n",
    "            palette=['purple', 'steelblue'])"
   ]
  },
  {
   "cell_type": "code",
   "execution_count": null,
   "id": "90f677cd",
   "metadata": {},
   "outputs": [],
   "source": [
    "#Maximum attrition is for employees who have just started a new role."
   ]
  },
  {
   "cell_type": "code",
   "execution_count": null,
   "id": "c839f88e",
   "metadata": {},
   "outputs": [],
   "source": []
  },
  {
   "cell_type": "code",
   "execution_count": 38,
   "id": "8c4e88b7",
   "metadata": {},
   "outputs": [
    {
     "name": "stderr",
     "output_type": "stream",
     "text": [
      "C:\\ProgramData\\Anaconda3\\lib\\site-packages\\seaborn\\distributions.py:2619: FutureWarning: `distplot` is a deprecated function and will be removed in a future version. Please adapt your code to use either `displot` (a figure-level function with similar flexibility) or `histplot` (an axes-level function for histograms).\n",
      "  warnings.warn(msg, FutureWarning)\n",
      "C:\\ProgramData\\Anaconda3\\lib\\site-packages\\seaborn\\distributions.py:2619: FutureWarning: `distplot` is a deprecated function and will be removed in a future version. Please adapt your code to use either `displot` (a figure-level function with similar flexibility) or `histplot` (an axes-level function for histograms).\n",
      "  warnings.warn(msg, FutureWarning)\n"
     ]
    },
    {
     "data": {
      "text/plain": [
       "<matplotlib.legend.Legend at 0x225db22caf0>"
      ]
     },
     "execution_count": 38,
     "metadata": {},
     "output_type": "execute_result"
    },
    {
     "data": {
      "image/png": "[encoded data removed]",
      "text/plain": [
       "<Figure size 432x288 with 1 Axes>"
      ]
     },
     "metadata": {
      "needs_background": "light"
     },
     "output_type": "display_data"
    }
   ],
   "source": [
    "#KDE plot of years in current role and attriton\n",
    "df = emp[emp.Attrition == 0]\n",
    "sns.distplot(df['YearsInCurrentRole'], hist = True, kde = True, label='0')\n",
    "df = emp[emp.Attrition == 1]\n",
    "sns.distplot(df['YearsInCurrentRole'], hist = True, kde = True, label='1')\n",
    "plt.legend(prop={'size': 12})\n"
   ]
  },
  {
   "cell_type": "code",
   "execution_count": null,
   "id": "ce5fe8ff",
   "metadata": {},
   "outputs": [],
   "source": [
    "#Probabilty of leaving is high as compared to probabilty of staying if an employee has just started a new role but\n",
    "# as an employee spends3-4 years in that role the trend is reveresed."
   ]
  },
  {
   "cell_type": "markdown",
   "id": "4a090e22",
   "metadata": {},
   "source": [
    "6.YearsSinceLastPromotion"
   ]
  },
  {
   "cell_type": "code",
   "execution_count": 39,
   "id": "f4e264f4",
   "metadata": {},
   "outputs": [
    {
     "data": {
      "text/plain": [
       "<AxesSubplot:xlabel='YearsSinceLastPromotion', ylabel='count'>"
      ]
     },
     "execution_count": 39,
     "metadata": {},
     "output_type": "execute_result"
    },
    {
     "data": {
      "image/png": "[encoded data removed]",
      "text/plain": [
       "<Figure size 1500x700 with 1 Axes>"
      ]
     },
     "metadata": {
      "needs_background": "light"
     },
     "output_type": "display_data"
    }
   ],
   "source": [
    "#Frequency plot of YearsSinceLastPromotion and attrition status\n",
    "plt.figure(figsize = (15, 7), dpi = 100)\n",
    "sns.countplot(x='YearsSinceLastPromotion', hue='Attrition', data=emp,\n",
    "            palette=['purple', 'steelblue'])"
   ]
  },
  {
   "cell_type": "code",
   "execution_count": 40,
   "id": "114914d0",
   "metadata": {},
   "outputs": [
    {
     "name": "stderr",
     "output_type": "stream",
     "text": [
      "C:\\ProgramData\\Anaconda3\\lib\\site-packages\\seaborn\\distributions.py:2619: FutureWarning: `distplot` is a deprecated function and will be removed in a future version. Please adapt your code to use either `displot` (a figure-level function with similar flexibility) or `histplot` (an axes-level function for histograms).\n",
      "  warnings.warn(msg, FutureWarning)\n",
      "C:\\ProgramData\\Anaconda3\\lib\\site-packages\\seaborn\\distributions.py:2619: FutureWarning: `distplot` is a deprecated function and will be removed in a future version. Please adapt your code to use either `displot` (a figure-level function with similar flexibility) or `histplot` (an axes-level function for histograms).\n",
      "  warnings.warn(msg, FutureWarning)\n"
     ]
    },
    {
     "data": {
      "text/plain": [
       "<matplotlib.legend.Legend at 0x225db979eb0>"
      ]
     },
     "execution_count": 40,
     "metadata": {},
     "output_type": "execute_result"
    },
    {
     "data": {
      "image/png": "[encoded data removed]",
      "text/plain": [
       "<Figure size 432x288 with 1 Axes>"
      ]
     },
     "metadata": {
      "needs_background": "light"
     },
     "output_type": "display_data"
    }
   ],
   "source": [
    "#KDE plot of years since last promotion and attriton\n",
    "df = emp[emp.Attrition == 0]\n",
    "sns.distplot(df['YearsSinceLastPromotion'], hist = True, kde = True, label='0')\n",
    "df = emp[emp.Attrition == 1]\n",
    "sns.distplot(df['YearsSinceLastPromotion'], hist = True, kde = True, label='1')\n",
    "plt.legend(prop={'size': 12})"
   ]
  },
  {
   "cell_type": "code",
   "execution_count": null,
   "id": "d6e886b2",
   "metadata": {},
   "outputs": [],
   "source": [
    "#Those who have been recently promoted have high probailty of staying."
   ]
  },
  {
   "cell_type": "markdown",
   "id": "2f3f2eca",
   "metadata": {},
   "source": [
    "7.YearsWithCurrManager"
   ]
  },
  {
   "cell_type": "code",
   "execution_count": 41,
   "id": "16355773",
   "metadata": {},
   "outputs": [
    {
     "data": {
      "text/plain": [
       "<AxesSubplot:xlabel='YearsWithCurrManager', ylabel='count'>"
      ]
     },
     "execution_count": 41,
     "metadata": {},
     "output_type": "execute_result"
    },
    {
     "data": {
      "image/png": "[encoded data removed]",
      "text/plain": [
       "<Figure size 1500x700 with 1 Axes>"
      ]
     },
     "metadata": {
      "needs_background": "light"
     },
     "output_type": "display_data"
    }
   ],
   "source": [
    "#Frequency plot of Years with current manager and attrition status\n",
    "plt.figure(figsize = (15, 7), dpi = 100)\n",
    "sns.countplot(x='YearsWithCurrManager', hue='Attrition', data=emp,\n",
    "            palette=['purple', 'steelblue'])"
   ]
  },
  {
   "cell_type": "code",
   "execution_count": null,
   "id": "98fd0afa",
   "metadata": {},
   "outputs": [],
   "source": [
    "#Maximum attrition is for employees who have spent less than 1 year with their manager. It could be that after 1 year\n",
    "#the trust between both emp and manager increases and attrition decreases."
   ]
  },
  {
   "cell_type": "code",
   "execution_count": 42,
   "id": "1f0833b8",
   "metadata": {},
   "outputs": [
    {
     "name": "stderr",
     "output_type": "stream",
     "text": [
      "C:\\ProgramData\\Anaconda3\\lib\\site-packages\\seaborn\\distributions.py:2619: FutureWarning: `distplot` is a deprecated function and will be removed in a future version. Please adapt your code to use either `displot` (a figure-level function with similar flexibility) or `histplot` (an axes-level function for histograms).\n",
      "  warnings.warn(msg, FutureWarning)\n",
      "C:\\ProgramData\\Anaconda3\\lib\\site-packages\\seaborn\\distributions.py:2619: FutureWarning: `distplot` is a deprecated function and will be removed in a future version. Please adapt your code to use either `displot` (a figure-level function with similar flexibility) or `histplot` (an axes-level function for histograms).\n",
      "  warnings.warn(msg, FutureWarning)\n"
     ]
    },
    {
     "data": {
      "text/plain": [
       "<matplotlib.legend.Legend at 0x225dbeddf10>"
      ]
     },
     "execution_count": 42,
     "metadata": {},
     "output_type": "execute_result"
    },
    {
     "data": {
      "image/png": "[encoded data removed]",
      "text/plain": [
       "<Figure size 432x288 with 1 Axes>"
      ]
     },
     "metadata": {
      "needs_background": "light"
     },
     "output_type": "display_data"
    }
   ],
   "source": [
    "#KDE plot of years with current manager and attriton\n",
    "df = emp[emp.Attrition == 0]\n",
    "sns.distplot(df['YearsWithCurrManager'], hist = True, kde = True, label='0')\n",
    "df = emp[emp.Attrition == 1]\n",
    "sns.distplot(df['YearsWithCurrManager'], hist = True, kde = True, label='1')\n",
    "plt.legend(prop={'size': 12})"
   ]
  },
  {
   "cell_type": "code",
   "execution_count": null,
   "id": "5ce2e665",
   "metadata": {},
   "outputs": [],
   "source": [
    "#The probabilty of leaving the company is more than staying when an has stayed 0-3 years with a manager but after that\n",
    "#probabilty of staying increases and remains more than probabilty of leaving till last."
   ]
  },
  {
   "cell_type": "markdown",
   "id": "11b368ea",
   "metadata": {},
   "source": [
    "Bi-Variate and multi-variate analysis of categorical column"
   ]
  },
  {
   "cell_type": "markdown",
   "id": "ca7eba38",
   "metadata": {},
   "source": [
    "1. Gender"
   ]
  },
  {
   "cell_type": "code",
   "execution_count": 43,
   "id": "5d0fd750",
   "metadata": {},
   "outputs": [
    {
     "data": {
      "text/plain": [
       "<AxesSubplot:xlabel='Gender', ylabel='count'>"
      ]
     },
     "execution_count": 43,
     "metadata": {},
     "output_type": "execute_result"
    },
    {
     "data": {
      "image/png": "[encoded data removed]",
      "text/plain": [
       "<Figure size 900x500 with 1 Axes>"
      ]
     },
     "metadata": {
      "needs_background": "light"
     },
     "output_type": "display_data"
    }
   ],
   "source": [
    "#Frequency table of Gender\n",
    "plt.figure(figsize = (9, 5), dpi = 100)\n",
    "sns.countplot(x='Gender', data=emp,\n",
    "            palette=['purple', 'steelblue'])"
   ]
  },
  {
   "cell_type": "code",
   "execution_count": null,
   "id": "912a1f16",
   "metadata": {},
   "outputs": [],
   "source": [
    "#More males working in the company than females"
   ]
  },
  {
   "cell_type": "code",
   "execution_count": 44,
   "id": "ded5d039",
   "metadata": {},
   "outputs": [
    {
     "data": {
      "text/plain": [
       "<AxesSubplot:xlabel='Gender', ylabel='count'>"
      ]
     },
     "execution_count": 44,
     "metadata": {},
     "output_type": "execute_result"
    },
    {
     "data": {
      "image/png": "[encoded data removed]",
      "text/plain": [
       "<Figure size 900x500 with 1 Axes>"
      ]
     },
     "metadata": {
      "needs_background": "light"
     },
     "output_type": "display_data"
    }
   ],
   "source": [
    "##Frequency table of Gender with atrrtion status\n",
    "plt.figure(figsize = (9, 5), dpi = 100)\n",
    "sns.countplot(x='Gender', hue='Attrition', data=emp,\n",
    "            palette=['purple', 'steelblue'])"
   ]
  },
  {
   "cell_type": "code",
   "execution_count": 45,
   "id": "43191b98",
   "metadata": {},
   "outputs": [
    {
     "data": {
      "text/html": [
       "<div>\n",
       "<style scoped>\n",
       "    .dataframe tbody tr th:only-of-type {\n",
       "        vertical-align: middle;\n",
       "    }\n",
       "\n",
       "    .dataframe tbody tr th {\n",
       "        vertical-align: top;\n",
       "    }\n",
       "\n",
       "    .dataframe thead th {\n",
       "        text-align: right;\n",
       "    }\n",
       "</style>\n",
       "<table border=\"1\" class=\"dataframe\">\n",
       "  <thead>\n",
       "    <tr style=\"text-align: right;\">\n",
       "      <th>Gender</th>\n",
       "      <th>Female</th>\n",
       "      <th>Male</th>\n",
       "    </tr>\n",
       "    <tr>\n",
       "      <th>Attrition</th>\n",
       "      <th></th>\n",
       "      <th></th>\n",
       "    </tr>\n",
       "  </thead>\n",
       "  <tbody>\n",
       "    <tr>\n",
       "      <th>0</th>\n",
       "      <td>0.852041</td>\n",
       "      <td>0.829932</td>\n",
       "    </tr>\n",
       "    <tr>\n",
       "      <th>1</th>\n",
       "      <td>0.147959</td>\n",
       "      <td>0.170068</td>\n",
       "    </tr>\n",
       "  </tbody>\n",
       "</table>\n",
       "</div>"
      ],
      "text/plain": [
       "Gender       Female      Male\n",
       "Attrition                    \n",
       "0          0.852041  0.829932\n",
       "1          0.147959  0.170068"
      ]
     },
     "execution_count": 45,
     "metadata": {},
     "output_type": "execute_result"
    }
   ],
   "source": [
    "#Conditional probabilty table conditioned on columns\n",
    "table = pd.crosstab(emp.Attrition,columns=emp.Gender)\n",
    "coltotal = table.sum(axis=0)\n",
    "table.div(coltotal,axis=1)"
   ]
  },
  {
   "cell_type": "code",
   "execution_count": null,
   "id": "dd09bcb5",
   "metadata": {},
   "outputs": [],
   "source": [
    "#From the conditional probabilty table we can see that male employees have high probabilty of leaving as compared to female\n",
    "#employees but the difference is very small so we can say that gender doesn't has a significant role in attrition."
   ]
  },
  {
   "cell_type": "markdown",
   "id": "f04890b2",
   "metadata": {},
   "source": [
    "2.BusinessTravel"
   ]
  },
  {
   "cell_type": "code",
   "execution_count": 46,
   "id": "2b2a7faf",
   "metadata": {},
   "outputs": [
    {
     "data": {
      "text/plain": [
       "<AxesSubplot:xlabel='BusinessTravel', ylabel='count'>"
      ]
     },
     "execution_count": 46,
     "metadata": {},
     "output_type": "execute_result"
    },
    {
     "data": {
      "image/png": "[encoded data removed]",
      "text/plain": [
       "<Figure size 900x500 with 1 Axes>"
      ]
     },
     "metadata": {
      "needs_background": "light"
     },
     "output_type": "display_data"
    }
   ],
   "source": [
    "#Frequency table of BusinessTravel\n",
    "plt.figure(figsize = (9, 5), dpi = 100)\n",
    "sns.countplot(x='BusinessTravel', data=emp,\n",
    "            palette=['purple', 'steelblue'])"
   ]
  },
  {
   "cell_type": "code",
   "execution_count": null,
   "id": "e7b3b58e",
   "metadata": {},
   "outputs": [],
   "source": [
    "#Majority of the employees don't travel on work."
   ]
  },
  {
   "cell_type": "code",
   "execution_count": 47,
   "id": "194f53c1",
   "metadata": {},
   "outputs": [
    {
     "data": {
      "text/plain": [
       "<AxesSubplot:xlabel='BusinessTravel', ylabel='count'>"
      ]
     },
     "execution_count": 47,
     "metadata": {},
     "output_type": "execute_result"
    },
    {
     "data": {
      "image/png": "[encoded data removed]",
      "text/plain": [
       "<Figure size 900x500 with 1 Axes>"
      ]
     },
     "metadata": {
      "needs_background": "light"
     },
     "output_type": "display_data"
    }
   ],
   "source": [
    "##Frequency table of BusinessTravel with atrrtion status\n",
    "plt.figure(figsize = (9, 5), dpi = 100)\n",
    "sns.countplot(x='BusinessTravel', hue='Attrition', data=emp,\n",
    "            palette=['purple', 'steelblue'])"
   ]
  },
  {
   "cell_type": "code",
   "execution_count": null,
   "id": "28508012",
   "metadata": {},
   "outputs": [],
   "source": [
    "#From the above plot we can see that the attrtition is lowest among employees who don't travel. It could be that employees\n",
    "#don't like traveling."
   ]
  },
  {
   "cell_type": "code",
   "execution_count": 48,
   "id": "42ec7872",
   "metadata": {},
   "outputs": [
    {
     "data": {
      "text/html": [
       "<div>\n",
       "<style scoped>\n",
       "    .dataframe tbody tr th:only-of-type {\n",
       "        vertical-align: middle;\n",
       "    }\n",
       "\n",
       "    .dataframe tbody tr th {\n",
       "        vertical-align: top;\n",
       "    }\n",
       "\n",
       "    .dataframe thead th {\n",
       "        text-align: right;\n",
       "    }\n",
       "</style>\n",
       "<table border=\"1\" class=\"dataframe\">\n",
       "  <thead>\n",
       "    <tr style=\"text-align: right;\">\n",
       "      <th>BusinessTravel</th>\n",
       "      <th>Non-Travel</th>\n",
       "      <th>Travel_Frequently</th>\n",
       "      <th>Travel_Rarely</th>\n",
       "    </tr>\n",
       "    <tr>\n",
       "      <th>Attrition</th>\n",
       "      <th></th>\n",
       "      <th></th>\n",
       "      <th></th>\n",
       "    </tr>\n",
       "  </thead>\n",
       "  <tbody>\n",
       "    <tr>\n",
       "      <th>0</th>\n",
       "      <td>0.92</td>\n",
       "      <td>0.750903</td>\n",
       "      <td>0.850431</td>\n",
       "    </tr>\n",
       "    <tr>\n",
       "      <th>1</th>\n",
       "      <td>0.08</td>\n",
       "      <td>0.249097</td>\n",
       "      <td>0.149569</td>\n",
       "    </tr>\n",
       "  </tbody>\n",
       "</table>\n",
       "</div>"
      ],
      "text/plain": [
       "BusinessTravel  Non-Travel  Travel_Frequently  Travel_Rarely\n",
       "Attrition                                                   \n",
       "0                     0.92           0.750903       0.850431\n",
       "1                     0.08           0.249097       0.149569"
      ]
     },
     "execution_count": 48,
     "metadata": {},
     "output_type": "execute_result"
    }
   ],
   "source": [
    "#Conditional probabilty table conditioned on columns\n",
    "table = pd.crosstab(emp.Attrition,columns=emp.BusinessTravel)\n",
    "coltotal = table.sum(axis=0)\n",
    "table.div(coltotal,axis=1)"
   ]
  },
  {
   "cell_type": "code",
   "execution_count": 71,
   "id": "217a10cc",
   "metadata": {},
   "outputs": [],
   "source": [
    "#From the conditional probailty table it is evident that the probaility of leaving is highest for employees who travel\n",
    "#frequently(0.24) and lowest for those who never travel(0.08). Employees of this company don't like traveling and it could\n",
    "#be a reason they are leaving. This factor has a significant impact on attrtion"
   ]
  },
  {
   "cell_type": "markdown",
   "id": "d970e530",
   "metadata": {},
   "source": [
    "3.EnvironmentSatisfaction"
   ]
  },
  {
   "cell_type": "code",
   "execution_count": 49,
   "id": "ea196e1e",
   "metadata": {},
   "outputs": [
    {
     "data": {
      "text/plain": [
       "<AxesSubplot:xlabel='EnvironmentSatisfaction', ylabel='count'>"
      ]
     },
     "execution_count": 49,
     "metadata": {},
     "output_type": "execute_result"
    },
    {
     "data": {
      "image/png": "[encoded data removed]",
      "text/plain": [
       "<Figure size 900x500 with 1 Axes>"
      ]
     },
     "metadata": {
      "needs_background": "light"
     },
     "output_type": "display_data"
    }
   ],
   "source": [
    "#Frequency table of EnvironmentSatisfaction\n",
    "plt.figure(figsize = (9, 5), dpi = 100)\n",
    "sns.countplot(x='EnvironmentSatisfaction', data=emp,\n",
    "            palette=['purple', 'steelblue'])"
   ]
  },
  {
   "cell_type": "code",
   "execution_count": null,
   "id": "da36d27e",
   "metadata": {},
   "outputs": [],
   "source": [
    "# From the above plot we can say that majority of the employees in the company are satisfied with the enviroment."
   ]
  },
  {
   "cell_type": "code",
   "execution_count": 50,
   "id": "149bf82f",
   "metadata": {},
   "outputs": [
    {
     "data": {
      "text/plain": [
       "<AxesSubplot:xlabel='EnvironmentSatisfaction', ylabel='count'>"
      ]
     },
     "execution_count": 50,
     "metadata": {},
     "output_type": "execute_result"
    },
    {
     "data": {
      "image/png": "[encoded data removed]",
      "text/plain": [
       "<Figure size 900x500 with 1 Axes>"
      ]
     },
     "metadata": {
      "needs_background": "light"
     },
     "output_type": "display_data"
    }
   ],
   "source": [
    "#Frequency table of EnvironmentSatisfaction with atrrtion status\n",
    "plt.figure(figsize = (9, 5), dpi = 100)\n",
    "sns.countplot(x='EnvironmentSatisfaction', hue='Attrition', data=emp,\n",
    "            palette=['purple', 'steelblue'])"
   ]
  },
  {
   "cell_type": "code",
   "execution_count": null,
   "id": "8a6d71ec",
   "metadata": {},
   "outputs": [],
   "source": [
    "#From the above plot we can say that maximum attrition is for people who are not very happy in the company."
   ]
  },
  {
   "cell_type": "code",
   "execution_count": 51,
   "id": "efa80bc6",
   "metadata": {},
   "outputs": [
    {
     "data": {
      "text/html": [
       "<div>\n",
       "<style scoped>\n",
       "    .dataframe tbody tr th:only-of-type {\n",
       "        vertical-align: middle;\n",
       "    }\n",
       "\n",
       "    .dataframe tbody tr th {\n",
       "        vertical-align: top;\n",
       "    }\n",
       "\n",
       "    .dataframe thead th {\n",
       "        text-align: right;\n",
       "    }\n",
       "</style>\n",
       "<table border=\"1\" class=\"dataframe\">\n",
       "  <thead>\n",
       "    <tr style=\"text-align: right;\">\n",
       "      <th>EnvironmentSatisfaction</th>\n",
       "      <th>1</th>\n",
       "      <th>2</th>\n",
       "      <th>3</th>\n",
       "      <th>4</th>\n",
       "    </tr>\n",
       "    <tr>\n",
       "      <th>Attrition</th>\n",
       "      <th></th>\n",
       "      <th></th>\n",
       "      <th></th>\n",
       "      <th></th>\n",
       "    </tr>\n",
       "  </thead>\n",
       "  <tbody>\n",
       "    <tr>\n",
       "      <th>0</th>\n",
       "      <td>0.746479</td>\n",
       "      <td>0.850174</td>\n",
       "      <td>0.863135</td>\n",
       "      <td>0.865471</td>\n",
       "    </tr>\n",
       "    <tr>\n",
       "      <th>1</th>\n",
       "      <td>0.253521</td>\n",
       "      <td>0.149826</td>\n",
       "      <td>0.136865</td>\n",
       "      <td>0.134529</td>\n",
       "    </tr>\n",
       "  </tbody>\n",
       "</table>\n",
       "</div>"
      ],
      "text/plain": [
       "EnvironmentSatisfaction         1         2         3         4\n",
       "Attrition                                                      \n",
       "0                        0.746479  0.850174  0.863135  0.865471\n",
       "1                        0.253521  0.149826  0.136865  0.134529"
      ]
     },
     "execution_count": 51,
     "metadata": {},
     "output_type": "execute_result"
    }
   ],
   "source": [
    "#Conditional probabilty table conditioned on columns\n",
    "table = pd.crosstab(emp.Attrition,columns=emp.EnvironmentSatisfaction)\n",
    "coltotal = table.sum(axis=0)\n",
    "table.div(coltotal,axis=1)"
   ]
  },
  {
   "cell_type": "code",
   "execution_count": null,
   "id": "d1d4bc5d",
   "metadata": {},
   "outputs": [],
   "source": [
    "#From the conditional probability table we can say that given that a person is not very happy with the enviroment(1),he/she \n",
    "#has high probabilty of leaving(0.25).\n",
    "#For levels 2 and 3 the probabilty of leaving is almost equal hence only people who are very unhappy with enviroment tend \n",
    "#to leave."
   ]
  },
  {
   "cell_type": "markdown",
   "id": "eb43716e",
   "metadata": {},
   "source": [
    "4.JobInvolvement"
   ]
  },
  {
   "cell_type": "code",
   "execution_count": 52,
   "id": "aa6f0d22",
   "metadata": {},
   "outputs": [
    {
     "data": {
      "text/plain": [
       "<AxesSubplot:xlabel='JobInvolvement', ylabel='count'>"
      ]
     },
     "execution_count": 52,
     "metadata": {},
     "output_type": "execute_result"
    },
    {
     "data": {
      "image/png": "[encoded data removed]",
      "text/plain": [
       "<Figure size 900x500 with 1 Axes>"
      ]
     },
     "metadata": {
      "needs_background": "light"
     },
     "output_type": "display_data"
    }
   ],
   "source": [
    "#Frequency table of JobInvolvement\n",
    "plt.figure(figsize = (9, 5), dpi = 100)\n",
    "sns.countplot(x='JobInvolvement', data=emp,\n",
    "            palette=['purple', 'steelblue'])"
   ]
  },
  {
   "cell_type": "code",
   "execution_count": null,
   "id": "0dd8c98f",
   "metadata": {},
   "outputs": [],
   "source": [
    "# From the above plot we can say that majority of the employees in the company feel connected with their work."
   ]
  },
  {
   "cell_type": "code",
   "execution_count": 53,
   "id": "7a0dce08",
   "metadata": {},
   "outputs": [
    {
     "data": {
      "text/plain": [
       "<AxesSubplot:xlabel='JobInvolvement', ylabel='count'>"
      ]
     },
     "execution_count": 53,
     "metadata": {},
     "output_type": "execute_result"
    },
    {
     "data": {
      "image/png": "[encoded data removed]",
      "text/plain": [
       "<Figure size 900x500 with 1 Axes>"
      ]
     },
     "metadata": {
      "needs_background": "light"
     },
     "output_type": "display_data"
    }
   ],
   "source": [
    "##Frequency table of JobInvolvement with atrrtion status\n",
    "plt.figure(figsize = (9, 5), dpi = 100)\n",
    "sns.countplot(x='JobInvolvement', hue='Attrition', data=emp,\n",
    "            palette=['purple', 'steelblue'])"
   ]
  },
  {
   "cell_type": "code",
   "execution_count": null,
   "id": "7b6c5ee4",
   "metadata": {},
   "outputs": [],
   "source": []
  },
  {
   "cell_type": "code",
   "execution_count": 54,
   "id": "18d9788a",
   "metadata": {},
   "outputs": [
    {
     "data": {
      "text/html": [
       "<div>\n",
       "<style scoped>\n",
       "    .dataframe tbody tr th:only-of-type {\n",
       "        vertical-align: middle;\n",
       "    }\n",
       "\n",
       "    .dataframe tbody tr th {\n",
       "        vertical-align: top;\n",
       "    }\n",
       "\n",
       "    .dataframe thead th {\n",
       "        text-align: right;\n",
       "    }\n",
       "</style>\n",
       "<table border=\"1\" class=\"dataframe\">\n",
       "  <thead>\n",
       "    <tr style=\"text-align: right;\">\n",
       "      <th>JobInvolvement</th>\n",
       "      <th>1</th>\n",
       "      <th>2</th>\n",
       "      <th>3</th>\n",
       "      <th>4</th>\n",
       "    </tr>\n",
       "    <tr>\n",
       "      <th>Attrition</th>\n",
       "      <th></th>\n",
       "      <th></th>\n",
       "      <th></th>\n",
       "      <th></th>\n",
       "    </tr>\n",
       "  </thead>\n",
       "  <tbody>\n",
       "    <tr>\n",
       "      <th>0</th>\n",
       "      <td>0.662651</td>\n",
       "      <td>0.810667</td>\n",
       "      <td>0.855991</td>\n",
       "      <td>0.909722</td>\n",
       "    </tr>\n",
       "    <tr>\n",
       "      <th>1</th>\n",
       "      <td>0.337349</td>\n",
       "      <td>0.189333</td>\n",
       "      <td>0.144009</td>\n",
       "      <td>0.090278</td>\n",
       "    </tr>\n",
       "  </tbody>\n",
       "</table>\n",
       "</div>"
      ],
      "text/plain": [
       "JobInvolvement         1         2         3         4\n",
       "Attrition                                             \n",
       "0               0.662651  0.810667  0.855991  0.909722\n",
       "1               0.337349  0.189333  0.144009  0.090278"
      ]
     },
     "execution_count": 54,
     "metadata": {},
     "output_type": "execute_result"
    }
   ],
   "source": [
    "#Conditional probabilty table conditioned on columns\n",
    "table = pd.crosstab(emp.Attrition,columns=emp.JobInvolvement)\n",
    "coltotal = table.sum(axis=0)\n",
    "table.div(coltotal,axis=1)"
   ]
  },
  {
   "cell_type": "code",
   "execution_count": null,
   "id": "7883114c",
   "metadata": {},
   "outputs": [],
   "source": [
    "#From the conditional probability table we can say that given that a person is not very much\n",
    "#involved with the job( level 1 ),he/she has high probabilty of leaving(0.33).\n",
    "#From level 2 this probabilty decreases and is least for employees who have job level 4. This is a major factor."
   ]
  },
  {
   "cell_type": "markdown",
   "id": "41e81527",
   "metadata": {},
   "source": [
    "5.JobLevel"
   ]
  },
  {
   "cell_type": "code",
   "execution_count": 55,
   "id": "ffef9832",
   "metadata": {},
   "outputs": [
    {
     "data": {
      "text/plain": [
       "<AxesSubplot:xlabel='JobLevel', ylabel='count'>"
      ]
     },
     "execution_count": 55,
     "metadata": {},
     "output_type": "execute_result"
    },
    {
     "data": {
      "image/png": "[encoded data removed]",
      "text/plain": [
       "<Figure size 900x500 with 1 Axes>"
      ]
     },
     "metadata": {
      "needs_background": "light"
     },
     "output_type": "display_data"
    }
   ],
   "source": [
    "#Frequency table of JobLevel\n",
    "plt.figure(figsize = (9, 5), dpi = 100)\n",
    "sns.countplot(x='JobLevel', data=emp,\n",
    "            palette=['purple', 'steelblue'])"
   ]
  },
  {
   "cell_type": "code",
   "execution_count": null,
   "id": "c05bd65b",
   "metadata": {},
   "outputs": [],
   "source": [
    "#Majority of the employees are in the job level 1. They could be low aged and low experinced."
   ]
  },
  {
   "cell_type": "code",
   "execution_count": 56,
   "id": "a033d73b",
   "metadata": {},
   "outputs": [
    {
     "data": {
      "text/plain": [
       "<AxesSubplot:xlabel='JobLevel', ylabel='count'>"
      ]
     },
     "execution_count": 56,
     "metadata": {},
     "output_type": "execute_result"
    },
    {
     "data": {
      "image/png": "[encoded data removed]",
      "text/plain": [
       "<Figure size 900x500 with 1 Axes>"
      ]
     },
     "metadata": {
      "needs_background": "light"
     },
     "output_type": "display_data"
    }
   ],
   "source": [
    "##Frequency table of JobLevel with atrrtion status\n",
    "plt.figure(figsize = (9, 5), dpi = 100)\n",
    "sns.countplot(x='JobLevel', hue='Attrition', data=emp,\n",
    "            palette=['purple', 'steelblue'])"
   ]
  },
  {
   "cell_type": "code",
   "execution_count": null,
   "id": "a3f41fcf",
   "metadata": {},
   "outputs": [],
   "source": [
    "#Attrition is maximum in people who are in job level 1."
   ]
  },
  {
   "cell_type": "code",
   "execution_count": 57,
   "id": "c98482c0",
   "metadata": {},
   "outputs": [
    {
     "data": {
      "text/html": [
       "<div>\n",
       "<style scoped>\n",
       "    .dataframe tbody tr th:only-of-type {\n",
       "        vertical-align: middle;\n",
       "    }\n",
       "\n",
       "    .dataframe tbody tr th {\n",
       "        vertical-align: top;\n",
       "    }\n",
       "\n",
       "    .dataframe thead th {\n",
       "        text-align: right;\n",
       "    }\n",
       "</style>\n",
       "<table border=\"1\" class=\"dataframe\">\n",
       "  <thead>\n",
       "    <tr style=\"text-align: right;\">\n",
       "      <th>JobLevel</th>\n",
       "      <th>1</th>\n",
       "      <th>2</th>\n",
       "      <th>3</th>\n",
       "      <th>4</th>\n",
       "      <th>5</th>\n",
       "    </tr>\n",
       "    <tr>\n",
       "      <th>Attrition</th>\n",
       "      <th></th>\n",
       "      <th></th>\n",
       "      <th></th>\n",
       "      <th></th>\n",
       "      <th></th>\n",
       "    </tr>\n",
       "  </thead>\n",
       "  <tbody>\n",
       "    <tr>\n",
       "      <th>0</th>\n",
       "      <td>0.736648</td>\n",
       "      <td>0.902622</td>\n",
       "      <td>0.853211</td>\n",
       "      <td>0.95283</td>\n",
       "      <td>0.927536</td>\n",
       "    </tr>\n",
       "    <tr>\n",
       "      <th>1</th>\n",
       "      <td>0.263352</td>\n",
       "      <td>0.097378</td>\n",
       "      <td>0.146789</td>\n",
       "      <td>0.04717</td>\n",
       "      <td>0.072464</td>\n",
       "    </tr>\n",
       "  </tbody>\n",
       "</table>\n",
       "</div>"
      ],
      "text/plain": [
       "JobLevel          1         2         3        4         5\n",
       "Attrition                                                 \n",
       "0          0.736648  0.902622  0.853211  0.95283  0.927536\n",
       "1          0.263352  0.097378  0.146789  0.04717  0.072464"
      ]
     },
     "execution_count": 57,
     "metadata": {},
     "output_type": "execute_result"
    }
   ],
   "source": [
    "#Conditional probabilty table conditioned on columns\n",
    "table = pd.crosstab(emp.Attrition,columns=emp.JobLevel)\n",
    "coltotal = table.sum(axis=0)\n",
    "table.div(coltotal,axis=1)"
   ]
  },
  {
   "cell_type": "code",
   "execution_count": null,
   "id": "8ea07aca",
   "metadata": {},
   "outputs": [],
   "source": [
    "#From the conditional probability table we can say that given that a person is in job level 1,he/she \n",
    "#has high probabilty of leaving(0.26).\n",
    "#For levels 2 and 3 the probabilty of leaving is low(0.1 and 0.14) as compared to  job level 1. For job levels\n",
    "#4 and 5 the probabilty of leaving decreases significantly. So employee who are at intial stage of career in this \n",
    "#organization tend to leave."
   ]
  },
  {
   "cell_type": "code",
   "execution_count": 72,
   "id": "5a318c3c",
   "metadata": {},
   "outputs": [
    {
     "data": {
      "image/png": "[encoded data removed]",
      "text/plain": [
       "<Figure size 576x504 with 1 Axes>"
      ]
     },
     "metadata": {
      "needs_background": "light"
     },
     "output_type": "display_data"
    }
   ],
   "source": [
    "#Scatter plot of Monthly Income vs Job level\n",
    "emp.plot(kind=\"scatter\",\n",
    "         x=\"JobLevel\", y = \"MonthlyIncome\",\n",
    "         color = \"green\",\n",
    "         figsize=(8,7))\n",
    "\n",
    "plt.xlabel(\"JobLevel\", fontsize=12)\n",
    "plt.ylabel(\"MonthlyIncome\", fontsize=12)\n",
    "plt.title(\"Scatter Plot\", fontsize=14)\n",
    "\n",
    "plt.show()"
   ]
  },
  {
   "cell_type": "code",
   "execution_count": null,
   "id": "b92ddb37",
   "metadata": {},
   "outputs": [],
   "source": [
    "#As expected, the employees in job level 1 are least paid and that could be the reason they have high chance of leaving.\n",
    "#When we see job level 5, these guys are highly paid and they have least chance of leaving. We are getting a connection\n",
    "#over here that income is very important for employees of this organisation."
   ]
  },
  {
   "cell_type": "markdown",
   "id": "7f24f6cd",
   "metadata": {},
   "source": [
    "6.JobSatisfaction"
   ]
  },
  {
   "cell_type": "code",
   "execution_count": 58,
   "id": "1de41a41",
   "metadata": {},
   "outputs": [
    {
     "data": {
      "text/plain": [
       "<AxesSubplot:xlabel='JobSatisfaction', ylabel='count'>"
      ]
     },
     "execution_count": 58,
     "metadata": {},
     "output_type": "execute_result"
    },
    {
     "data": {
      "image/png": "[encoded data removed]",
      "text/plain": [
       "<Figure size 900x500 with 1 Axes>"
      ]
     },
     "metadata": {
      "needs_background": "light"
     },
     "output_type": "display_data"
    }
   ],
   "source": [
    "#Frequency table of JobSatisfaction\n",
    "plt.figure(figsize = (9, 5), dpi = 100)\n",
    "sns.countplot(x='JobSatisfaction', data=emp,\n",
    "            palette=['purple', 'steelblue'])"
   ]
  },
  {
   "cell_type": "code",
   "execution_count": null,
   "id": "c8b31909",
   "metadata": {},
   "outputs": [],
   "source": [
    "#Majority of the people are satisfied with their job."
   ]
  },
  {
   "cell_type": "code",
   "execution_count": 59,
   "id": "f7ca6822",
   "metadata": {},
   "outputs": [
    {
     "data": {
      "text/plain": [
       "<AxesSubplot:xlabel='JobSatisfaction', ylabel='count'>"
      ]
     },
     "execution_count": 59,
     "metadata": {},
     "output_type": "execute_result"
    },
    {
     "data": {
      "image/png": "[encoded data removed]",
      "text/plain": [
       "<Figure size 900x500 with 1 Axes>"
      ]
     },
     "metadata": {
      "needs_background": "light"
     },
     "output_type": "display_data"
    }
   ],
   "source": [
    "##Frequency table ofJobSatisfaction with atrrtion status\n",
    "plt.figure(figsize = (9, 5), dpi = 100)\n",
    "sns.countplot(x='JobSatisfaction', hue='Attrition', data=emp,\n",
    "            palette=['purple', 'steelblue'])"
   ]
  },
  {
   "cell_type": "code",
   "execution_count": null,
   "id": "e6d72bec",
   "metadata": {},
   "outputs": [],
   "source": []
  },
  {
   "cell_type": "code",
   "execution_count": 60,
   "id": "00588229",
   "metadata": {},
   "outputs": [
    {
     "data": {
      "text/html": [
       "<div>\n",
       "<style scoped>\n",
       "    .dataframe tbody tr th:only-of-type {\n",
       "        vertical-align: middle;\n",
       "    }\n",
       "\n",
       "    .dataframe tbody tr th {\n",
       "        vertical-align: top;\n",
       "    }\n",
       "\n",
       "    .dataframe thead th {\n",
       "        text-align: right;\n",
       "    }\n",
       "</style>\n",
       "<table border=\"1\" class=\"dataframe\">\n",
       "  <thead>\n",
       "    <tr style=\"text-align: right;\">\n",
       "      <th>JobSatisfaction</th>\n",
       "      <th>1</th>\n",
       "      <th>2</th>\n",
       "      <th>3</th>\n",
       "      <th>4</th>\n",
       "    </tr>\n",
       "    <tr>\n",
       "      <th>Attrition</th>\n",
       "      <th></th>\n",
       "      <th></th>\n",
       "      <th></th>\n",
       "      <th></th>\n",
       "    </tr>\n",
       "  </thead>\n",
       "  <tbody>\n",
       "    <tr>\n",
       "      <th>0</th>\n",
       "      <td>0.771626</td>\n",
       "      <td>0.835714</td>\n",
       "      <td>0.834842</td>\n",
       "      <td>0.88671</td>\n",
       "    </tr>\n",
       "    <tr>\n",
       "      <th>1</th>\n",
       "      <td>0.228374</td>\n",
       "      <td>0.164286</td>\n",
       "      <td>0.165158</td>\n",
       "      <td>0.11329</td>\n",
       "    </tr>\n",
       "  </tbody>\n",
       "</table>\n",
       "</div>"
      ],
      "text/plain": [
       "JobSatisfaction         1         2         3        4\n",
       "Attrition                                             \n",
       "0                0.771626  0.835714  0.834842  0.88671\n",
       "1                0.228374  0.164286  0.165158  0.11329"
      ]
     },
     "execution_count": 60,
     "metadata": {},
     "output_type": "execute_result"
    }
   ],
   "source": [
    "#Conditional probabilty table conditioned on columns\n",
    "table = pd.crosstab(emp.Attrition,columns=emp.JobSatisfaction)\n",
    "coltotal = table.sum(axis=0)\n",
    "table.div(coltotal,axis=1)"
   ]
  },
  {
   "cell_type": "code",
   "execution_count": null,
   "id": "256ebbac",
   "metadata": {},
   "outputs": [],
   "source": [
    "#From the conditional probability table we can say that given that a person is very dissatisfied with the job, there is \n",
    "#0.22 probabilty that the person will leave the organisation. But as the job satisfaction increases the probabilty of \n",
    "#leaving decreases. This is a major factor."
   ]
  },
  {
   "cell_type": "code",
   "execution_count": 81,
   "id": "a983627d",
   "metadata": {},
   "outputs": [
    {
     "name": "stderr",
     "output_type": "stream",
     "text": [
      "C:\\ProgramData\\Anaconda3\\lib\\site-packages\\seaborn\\_decorators.py:36: FutureWarning: Pass the following variables as keyword args: x, y. From version 0.12, the only valid positional argument will be `data`, and passing other arguments without an explicit keyword will result in an error or misinterpretation.\n",
      "  warnings.warn(\n"
     ]
    },
    {
     "data": {
      "text/plain": [
       "<AxesSubplot:xlabel='JobLevel', ylabel='MonthlyIncome'>"
      ]
     },
     "execution_count": 81,
     "metadata": {},
     "output_type": "execute_result"
    },
    {
     "data": {
      "image/png": "[encoded data removed]",
      "text/plain": [
       "<Figure size 432x288 with 1 Axes>"
      ]
     },
     "metadata": {
      "needs_background": "light"
     },
     "output_type": "display_data"
    }
   ],
   "source": [
    "sns.scatterplot(emp['JobLevel'],emp['MonthlyIncome'],hue=emp['Attrition'])\n"
   ]
  },
  {
   "cell_type": "code",
   "execution_count": null,
   "id": "204680ff",
   "metadata": {},
   "outputs": [],
   "source": []
  },
  {
   "cell_type": "code",
   "execution_count": null,
   "id": "aa1606a7",
   "metadata": {},
   "outputs": [],
   "source": []
  },
  {
   "cell_type": "markdown",
   "id": "639a2bbb",
   "metadata": {},
   "source": [
    "7.MaritalStatus"
   ]
  },
  {
   "cell_type": "code",
   "execution_count": 61,
   "id": "51028342",
   "metadata": {},
   "outputs": [
    {
     "data": {
      "text/plain": [
       "<AxesSubplot:xlabel='MaritalStatus', ylabel='count'>"
      ]
     },
     "execution_count": 61,
     "metadata": {},
     "output_type": "execute_result"
    },
    {
     "data": {
      "image/png": "[encoded data removed]",
      "text/plain": [
       "<Figure size 900x500 with 1 Axes>"
      ]
     },
     "metadata": {
      "needs_background": "light"
     },
     "output_type": "display_data"
    }
   ],
   "source": [
    "#Frequency table of MaritalStatus\n",
    "plt.figure(figsize = (9, 5), dpi = 100)\n",
    "sns.countplot(x='MaritalStatus', data=emp,\n",
    "            palette=['purple', 'steelblue'])"
   ]
  },
  {
   "cell_type": "code",
   "execution_count": null,
   "id": "61d6106e",
   "metadata": {},
   "outputs": [],
   "source": [
    "#Maximum people in the company are married."
   ]
  },
  {
   "cell_type": "code",
   "execution_count": 62,
   "id": "f7ebdf7e",
   "metadata": {},
   "outputs": [
    {
     "data": {
      "text/plain": [
       "<AxesSubplot:xlabel='MaritalStatus', ylabel='count'>"
      ]
     },
     "execution_count": 62,
     "metadata": {},
     "output_type": "execute_result"
    },
    {
     "data": {
      "image/png": "[encoded data removed]",
      "text/plain": [
       "<Figure size 900x500 with 1 Axes>"
      ]
     },
     "metadata": {
      "needs_background": "light"
     },
     "output_type": "display_data"
    }
   ],
   "source": [
    "##Frequency table of MaritalStatus with atrrtion status\n",
    "plt.figure(figsize = (9, 5), dpi = 100)\n",
    "sns.countplot(x='MaritalStatus', hue='Attrition', data=emp,\n",
    "            palette=['purple', 'steelblue'])"
   ]
  },
  {
   "cell_type": "code",
   "execution_count": 63,
   "id": "a0d0cb3a",
   "metadata": {},
   "outputs": [
    {
     "data": {
      "text/html": [
       "<div>\n",
       "<style scoped>\n",
       "    .dataframe tbody tr th:only-of-type {\n",
       "        vertical-align: middle;\n",
       "    }\n",
       "\n",
       "    .dataframe tbody tr th {\n",
       "        vertical-align: top;\n",
       "    }\n",
       "\n",
       "    .dataframe thead th {\n",
       "        text-align: right;\n",
       "    }\n",
       "</style>\n",
       "<table border=\"1\" class=\"dataframe\">\n",
       "  <thead>\n",
       "    <tr style=\"text-align: right;\">\n",
       "      <th>MaritalStatus</th>\n",
       "      <th>Divorced</th>\n",
       "      <th>Married</th>\n",
       "      <th>Single</th>\n",
       "    </tr>\n",
       "    <tr>\n",
       "      <th>Attrition</th>\n",
       "      <th></th>\n",
       "      <th></th>\n",
       "      <th></th>\n",
       "    </tr>\n",
       "  </thead>\n",
       "  <tbody>\n",
       "    <tr>\n",
       "      <th>0</th>\n",
       "      <td>0.899083</td>\n",
       "      <td>0.875186</td>\n",
       "      <td>0.744681</td>\n",
       "    </tr>\n",
       "    <tr>\n",
       "      <th>1</th>\n",
       "      <td>0.100917</td>\n",
       "      <td>0.124814</td>\n",
       "      <td>0.255319</td>\n",
       "    </tr>\n",
       "  </tbody>\n",
       "</table>\n",
       "</div>"
      ],
      "text/plain": [
       "MaritalStatus  Divorced   Married    Single\n",
       "Attrition                                  \n",
       "0              0.899083  0.875186  0.744681\n",
       "1              0.100917  0.124814  0.255319"
      ]
     },
     "execution_count": 63,
     "metadata": {},
     "output_type": "execute_result"
    }
   ],
   "source": [
    "#Conditional probabilty table conditioned on columns\n",
    "table = pd.crosstab(emp.Attrition,columns=emp.MaritalStatus)\n",
    "coltotal = table.sum(axis=0)\n",
    "table.div(coltotal,axis=1)"
   ]
  },
  {
   "cell_type": "code",
   "execution_count": null,
   "id": "e521486a",
   "metadata": {},
   "outputs": [],
   "source": []
  },
  {
   "cell_type": "code",
   "execution_count": null,
   "id": "b3d42597",
   "metadata": {},
   "outputs": [],
   "source": [
    "#From the conditional probability table we can say that given that a person is single, there is 0.25 probabilty that the\n",
    "#person will leave the organisation. But when we see the married and divorced employees, the probabilty is quiet low.\n",
    "#Married people are less likely to leave maybe because of job security and responsibilites they have."
   ]
  },
  {
   "cell_type": "markdown",
   "id": "3a135cb6",
   "metadata": {},
   "source": [
    "8.OverTime"
   ]
  },
  {
   "cell_type": "code",
   "execution_count": 64,
   "id": "6e6d64dc",
   "metadata": {},
   "outputs": [
    {
     "data": {
      "text/plain": [
       "<AxesSubplot:xlabel='OverTime', ylabel='count'>"
      ]
     },
     "execution_count": 64,
     "metadata": {},
     "output_type": "execute_result"
    },
    {
     "data": {
      "image/png": "[encoded data removed]",
      "text/plain": [
       "<Figure size 900x500 with 1 Axes>"
      ]
     },
     "metadata": {
      "needs_background": "light"
     },
     "output_type": "display_data"
    }
   ],
   "source": [
    "#Frequency table of OverTime\n",
    "plt.figure(figsize = (9, 5), dpi = 100)\n",
    "sns.countplot(x='OverTime', data=emp,\n",
    "            palette=['purple', 'steelblue'])"
   ]
  },
  {
   "cell_type": "code",
   "execution_count": null,
   "id": "53233d71",
   "metadata": {},
   "outputs": [],
   "source": [
    "#From the above plot it is evident that more than 50% of the employees don't work overtime."
   ]
  },
  {
   "cell_type": "code",
   "execution_count": 65,
   "id": "24e56d3b",
   "metadata": {},
   "outputs": [
    {
     "data": {
      "text/plain": [
       "<AxesSubplot:xlabel='OverTime', ylabel='count'>"
      ]
     },
     "execution_count": 65,
     "metadata": {},
     "output_type": "execute_result"
    },
    {
     "data": {
      "image/png": "[encoded data removed]",
      "text/plain": [
       "<Figure size 900x500 with 1 Axes>"
      ]
     },
     "metadata": {
      "needs_background": "light"
     },
     "output_type": "display_data"
    }
   ],
   "source": [
    "##Frequency table of OverTime with atrrtion status\n",
    "plt.figure(figsize = (9, 5), dpi = 100)\n",
    "sns.countplot(x='OverTime', hue='Attrition', data=emp,\n",
    "            palette=['purple', 'steelblue'])"
   ]
  },
  {
   "cell_type": "code",
   "execution_count": null,
   "id": "a6c90bd2",
   "metadata": {},
   "outputs": [],
   "source": [
    "#Attriton is maximum for employees working overtime and if we look at the percentage of people leaving who are working\n",
    "#overtime, the percentage is very high as compared to percentage of employees not working overtime and leaving.\n",
    "#It could be true that working overtime is a reason for leaving, let's understand that."
   ]
  },
  {
   "cell_type": "code",
   "execution_count": 66,
   "id": "65024ac1",
   "metadata": {},
   "outputs": [
    {
     "data": {
      "text/html": [
       "<div>\n",
       "<style scoped>\n",
       "    .dataframe tbody tr th:only-of-type {\n",
       "        vertical-align: middle;\n",
       "    }\n",
       "\n",
       "    .dataframe tbody tr th {\n",
       "        vertical-align: top;\n",
       "    }\n",
       "\n",
       "    .dataframe thead th {\n",
       "        text-align: right;\n",
       "    }\n",
       "</style>\n",
       "<table border=\"1\" class=\"dataframe\">\n",
       "  <thead>\n",
       "    <tr style=\"text-align: right;\">\n",
       "      <th>OverTime</th>\n",
       "      <th>No</th>\n",
       "      <th>Yes</th>\n",
       "    </tr>\n",
       "    <tr>\n",
       "      <th>Attrition</th>\n",
       "      <th></th>\n",
       "      <th></th>\n",
       "    </tr>\n",
       "  </thead>\n",
       "  <tbody>\n",
       "    <tr>\n",
       "      <th>0</th>\n",
       "      <td>0.895636</td>\n",
       "      <td>0.694712</td>\n",
       "    </tr>\n",
       "    <tr>\n",
       "      <th>1</th>\n",
       "      <td>0.104364</td>\n",
       "      <td>0.305288</td>\n",
       "    </tr>\n",
       "  </tbody>\n",
       "</table>\n",
       "</div>"
      ],
      "text/plain": [
       "OverTime         No       Yes\n",
       "Attrition                    \n",
       "0          0.895636  0.694712\n",
       "1          0.104364  0.305288"
      ]
     },
     "execution_count": 66,
     "metadata": {},
     "output_type": "execute_result"
    }
   ],
   "source": [
    "#Conditional probabilty table conditioned on columns\n",
    "table = pd.crosstab(emp.Attrition,columns=emp.OverTime)\n",
    "coltotal = table.sum(axis=0)\n",
    "table.div(coltotal,axis=1)"
   ]
  },
  {
   "cell_type": "code",
   "execution_count": null,
   "id": "317631e8",
   "metadata": {},
   "outputs": [],
   "source": [
    "#From the conditional probabilty table we can say that given that an employee is working overtime, there is high \n",
    "#probabilty(0.30) that the person will leave. This factor is affecting attrtiton significantly and employees are not happy\n",
    "#woprking overtime."
   ]
  },
  {
   "cell_type": "markdown",
   "id": "a34b4bea",
   "metadata": {},
   "source": [
    "9.Department"
   ]
  },
  {
   "cell_type": "code",
   "execution_count": 67,
   "id": "1252464d",
   "metadata": {},
   "outputs": [
    {
     "data": {
      "text/plain": [
       "<AxesSubplot:xlabel='Department', ylabel='count'>"
      ]
     },
     "execution_count": 67,
     "metadata": {},
     "output_type": "execute_result"
    },
    {
     "data": {
      "image/png": "[encoded data removed]",
      "text/plain": [
       "<Figure size 900x500 with 1 Axes>"
      ]
     },
     "metadata": {
      "needs_background": "light"
     },
     "output_type": "display_data"
    }
   ],
   "source": [
    "#Frequency table of .Department\n",
    "plt.figure(figsize = (9, 5), dpi = 100)\n",
    "sns.countplot(x='Department', data=emp,\n",
    "            palette=['purple', 'steelblue'])"
   ]
  },
  {
   "cell_type": "code",
   "execution_count": null,
   "id": "1dfc3555",
   "metadata": {},
   "outputs": [],
   "source": [
    "#Majority of the employees are working in R&D department, so majortiy of roles would be in this area. Company is highly\n",
    "#involved in R and D and sales so this could be a product based company."
   ]
  },
  {
   "cell_type": "code",
   "execution_count": 68,
   "id": "2e0c8d8d",
   "metadata": {},
   "outputs": [
    {
     "data": {
      "text/plain": [
       "<AxesSubplot:xlabel='Department', ylabel='count'>"
      ]
     },
     "execution_count": 68,
     "metadata": {},
     "output_type": "execute_result"
    },
    {
     "data": {
      "image/png": "[encoded data removed]",
      "text/plain": [
       "<Figure size 900x500 with 1 Axes>"
      ]
     },
     "metadata": {
      "needs_background": "light"
     },
     "output_type": "display_data"
    }
   ],
   "source": [
    "##Frequency table of .Department with atrrtion status\n",
    "plt.figure(figsize = (9, 5), dpi = 100)\n",
    "sns.countplot(x='Department', hue='Attrition', data=emp,\n",
    "            palette=['purple', 'steelblue'])"
   ]
  },
  {
   "cell_type": "code",
   "execution_count": null,
   "id": "8b74f98d",
   "metadata": {},
   "outputs": [],
   "source": [
    "#Maximum attrition is in R and D department but employees are also maximum in this area, next highest is sales."
   ]
  },
  {
   "cell_type": "code",
   "execution_count": 69,
   "id": "e6e57fa5",
   "metadata": {},
   "outputs": [
    {
     "data": {
      "text/html": [
       "<div>\n",
       "<style scoped>\n",
       "    .dataframe tbody tr th:only-of-type {\n",
       "        vertical-align: middle;\n",
       "    }\n",
       "\n",
       "    .dataframe tbody tr th {\n",
       "        vertical-align: top;\n",
       "    }\n",
       "\n",
       "    .dataframe thead th {\n",
       "        text-align: right;\n",
       "    }\n",
       "</style>\n",
       "<table border=\"1\" class=\"dataframe\">\n",
       "  <thead>\n",
       "    <tr style=\"text-align: right;\">\n",
       "      <th>Department</th>\n",
       "      <th>Human Resources</th>\n",
       "      <th>Research &amp; Development</th>\n",
       "      <th>Sales</th>\n",
       "    </tr>\n",
       "    <tr>\n",
       "      <th>Attrition</th>\n",
       "      <th></th>\n",
       "      <th></th>\n",
       "      <th></th>\n",
       "    </tr>\n",
       "  </thead>\n",
       "  <tbody>\n",
       "    <tr>\n",
       "      <th>0</th>\n",
       "      <td>0.809524</td>\n",
       "      <td>0.861602</td>\n",
       "      <td>0.793722</td>\n",
       "    </tr>\n",
       "    <tr>\n",
       "      <th>1</th>\n",
       "      <td>0.190476</td>\n",
       "      <td>0.138398</td>\n",
       "      <td>0.206278</td>\n",
       "    </tr>\n",
       "  </tbody>\n",
       "</table>\n",
       "</div>"
      ],
      "text/plain": [
       "Department  Human Resources  Research & Development     Sales\n",
       "Attrition                                                    \n",
       "0                  0.809524                0.861602  0.793722\n",
       "1                  0.190476                0.138398  0.206278"
      ]
     },
     "execution_count": 69,
     "metadata": {},
     "output_type": "execute_result"
    }
   ],
   "source": [
    "#Conditional probabilty table conditioned on columns\n",
    "table = pd.crosstab(emp.Attrition,columns=emp.Department)\n",
    "coltotal = table.sum(axis=0)\n",
    "table.div(coltotal,axis=1)"
   ]
  },
  {
   "cell_type": "code",
   "execution_count": null,
   "id": "e9cdf752",
   "metadata": {},
   "outputs": [],
   "source": [
    "#Given that a person is from HR there is 0.19 probabilty that he/she will leave. The same probahilty for sales  and R and D\n",
    "# is 0.20 and 0.13, there is not a very significant difference among the probabilties so this could not be a very strong\n",
    "#factor affecting attrition."
   ]
  },
  {
   "cell_type": "markdown",
   "id": "eea224c6",
   "metadata": {},
   "source": [
    "10.EducationField"
   ]
  },
  {
   "cell_type": "code",
   "execution_count": 70,
   "id": "2d2f52b0",
   "metadata": {},
   "outputs": [
    {
     "data": {
      "text/plain": [
       "<AxesSubplot:xlabel='EducationField', ylabel='count'>"
      ]
     },
     "execution_count": 70,
     "metadata": {},
     "output_type": "execute_result"
    },
    {
     "data": {
      "image/png": "[encoded data removed]",
      "text/plain": [
       "<Figure size 900x500 with 1 Axes>"
      ]
     },
     "metadata": {
      "needs_background": "light"
     },
     "output_type": "display_data"
    }
   ],
   "source": [
    "#Frequency table of EducationField\n",
    "plt.figure(figsize = (9, 5), dpi = 100)\n",
    "sns.countplot(x='EducationField', data=emp,\n",
    "            palette=['purple', 'steelblue'])"
   ]
  },
  {
   "cell_type": "code",
   "execution_count": null,
   "id": "490e8b5e",
   "metadata": {},
   "outputs": [],
   "source": [
    "#Majority of the employees are from Life science and Medical background. This could be a healthcare related company."
   ]
  },
  {
   "cell_type": "code",
   "execution_count": 18,
   "id": "11dff776",
   "metadata": {},
   "outputs": [
    {
     "data": {
      "text/plain": [
       "<AxesSubplot:xlabel='EducationField', ylabel='count'>"
      ]
     },
     "execution_count": 18,
     "metadata": {},
     "output_type": "execute_result"
    },
    {
     "data": {
      "image/png": "[encoded data removed]",
      "text/plain": [
       "<Figure size 900x500 with 1 Axes>"
      ]
     },
     "metadata": {
      "needs_background": "light"
     },
     "output_type": "display_data"
    }
   ],
   "source": [
    "##Frequency table of EducationField with atrrtion status\n",
    "plt.figure(figsize = (9, 5), dpi = 100)\n",
    "sns.countplot(x='EducationField', hue='Attrition', data=emp,\n",
    "            palette=['purple', 'steelblue'])\n"
   ]
  },
  {
   "cell_type": "code",
   "execution_count": null,
   "id": "b1e973db",
   "metadata": {},
   "outputs": [],
   "source": [
    "#Maximum attrtiton is among the employees who are from life sciences and medical background."
   ]
  },
  {
   "cell_type": "code",
   "execution_count": 17,
   "id": "fc866c25",
   "metadata": {},
   "outputs": [
    {
     "data": {
      "text/html": [
       "<div>\n",
       "<style scoped>\n",
       "    .dataframe tbody tr th:only-of-type {\n",
       "        vertical-align: middle;\n",
       "    }\n",
       "\n",
       "    .dataframe tbody tr th {\n",
       "        vertical-align: top;\n",
       "    }\n",
       "\n",
       "    .dataframe thead th {\n",
       "        text-align: right;\n",
       "    }\n",
       "</style>\n",
       "<table border=\"1\" class=\"dataframe\">\n",
       "  <thead>\n",
       "    <tr style=\"text-align: right;\">\n",
       "      <th>EducationField</th>\n",
       "      <th>Human Resources</th>\n",
       "      <th>Life Sciences</th>\n",
       "      <th>Marketing</th>\n",
       "      <th>Medical</th>\n",
       "      <th>Other</th>\n",
       "      <th>Technical Degree</th>\n",
       "    </tr>\n",
       "    <tr>\n",
       "      <th>Attrition</th>\n",
       "      <th></th>\n",
       "      <th></th>\n",
       "      <th></th>\n",
       "      <th></th>\n",
       "      <th></th>\n",
       "      <th></th>\n",
       "    </tr>\n",
       "  </thead>\n",
       "  <tbody>\n",
       "    <tr>\n",
       "      <th>0</th>\n",
       "      <td>0.740741</td>\n",
       "      <td>0.853135</td>\n",
       "      <td>0.779874</td>\n",
       "      <td>0.864224</td>\n",
       "      <td>0.865854</td>\n",
       "      <td>0.757576</td>\n",
       "    </tr>\n",
       "    <tr>\n",
       "      <th>1</th>\n",
       "      <td>0.259259</td>\n",
       "      <td>0.146865</td>\n",
       "      <td>0.220126</td>\n",
       "      <td>0.135776</td>\n",
       "      <td>0.134146</td>\n",
       "      <td>0.242424</td>\n",
       "    </tr>\n",
       "  </tbody>\n",
       "</table>\n",
       "</div>"
      ],
      "text/plain": [
       "EducationField  Human Resources  Life Sciences  Marketing   Medical     Other  \\\n",
       "Attrition                                                                       \n",
       "0                      0.740741       0.853135   0.779874  0.864224  0.865854   \n",
       "1                      0.259259       0.146865   0.220126  0.135776  0.134146   \n",
       "\n",
       "EducationField  Technical Degree  \n",
       "Attrition                         \n",
       "0                       0.757576  \n",
       "1                       0.242424  "
      ]
     },
     "execution_count": 17,
     "metadata": {},
     "output_type": "execute_result"
    }
   ],
   "source": [
    "#Conditional probabilty table conditioned on columns\n",
    "table = pd.crosstab(emp.Attrition,columns=emp.EducationField)\n",
    "coltotal = table.sum(axis=0)\n",
    "table.div(coltotal,axis=1)"
   ]
  },
  {
   "cell_type": "code",
   "execution_count": null,
   "id": "37052eb8",
   "metadata": {},
   "outputs": [],
   "source": [
    "#Given that a person is from HR background there is 0.25 probabilty that he/she will leave. These probailties are nearly \n",
    "#same for Marketing and technical background employees.So people from these backgrounds have more chances of leaving\n",
    "#when compared with life-sciences and medical background. It could be that this company is good for life sciences and\n",
    "#medical background employees."
   ]
  },
  {
   "cell_type": "code",
   "execution_count": 46,
   "id": "4a399009",
   "metadata": {},
   "outputs": [
    {
     "data": {
      "text/plain": [
       "['Gender', 'OverTime']"
      ]
     },
     "execution_count": 46,
     "metadata": {},
     "output_type": "execute_result"
    }
   ],
   "source": [
    "y_n_type = []\n",
    "others =[]\n",
    "for col in emp.select_dtypes('object').columns:\n",
    "    if(len(emp[col].unique()) ==2):\n",
    "        y_n_type.append(col)\n",
    "        \n",
    "y_n_type   \n",
    "\n"
   ]
  },
  {
   "cell_type": "code",
   "execution_count": 47,
   "id": "90c9be5b",
   "metadata": {},
   "outputs": [],
   "source": [
    "emp['Gender'].replace({'Male':1 ,'Female':0} ,inplace = True)\n",
    "emp['OverTime'].replace({'Yes':1 ,'No':0} ,inplace = True)"
   ]
  },
  {
   "cell_type": "code",
   "execution_count": 48,
   "id": "f01e9bb3",
   "metadata": {},
   "outputs": [
    {
     "data": {
      "text/html": [
       "<div>\n",
       "<style scoped>\n",
       "    .dataframe tbody tr th:only-of-type {\n",
       "        vertical-align: middle;\n",
       "    }\n",
       "\n",
       "    .dataframe tbody tr th {\n",
       "        vertical-align: top;\n",
       "    }\n",
       "\n",
       "    .dataframe thead th {\n",
       "        text-align: right;\n",
       "    }\n",
       "</style>\n",
       "<table border=\"1\" class=\"dataframe\">\n",
       "  <thead>\n",
       "    <tr style=\"text-align: right;\">\n",
       "      <th></th>\n",
       "      <th>Age</th>\n",
       "      <th>Attrition</th>\n",
       "      <th>EnvironmentSatisfaction</th>\n",
       "      <th>Gender</th>\n",
       "      <th>JobInvolvement</th>\n",
       "      <th>JobLevel</th>\n",
       "      <th>JobSatisfaction</th>\n",
       "      <th>MonthlyIncome</th>\n",
       "      <th>OverTime</th>\n",
       "      <th>TotalWorkingYears</th>\n",
       "      <th>...</th>\n",
       "      <th>Department_Sales</th>\n",
       "      <th>EducationField_Human Resources</th>\n",
       "      <th>EducationField_Life Sciences</th>\n",
       "      <th>EducationField_Marketing</th>\n",
       "      <th>EducationField_Medical</th>\n",
       "      <th>EducationField_Other</th>\n",
       "      <th>EducationField_Technical Degree</th>\n",
       "      <th>MaritalStatus_Divorced</th>\n",
       "      <th>MaritalStatus_Married</th>\n",
       "      <th>MaritalStatus_Single</th>\n",
       "    </tr>\n",
       "  </thead>\n",
       "  <tbody>\n",
       "    <tr>\n",
       "      <th>0</th>\n",
       "      <td>41</td>\n",
       "      <td>1</td>\n",
       "      <td>2</td>\n",
       "      <td>0</td>\n",
       "      <td>3</td>\n",
       "      <td>2</td>\n",
       "      <td>4</td>\n",
       "      <td>5993</td>\n",
       "      <td>1</td>\n",
       "      <td>8</td>\n",
       "      <td>...</td>\n",
       "      <td>1</td>\n",
       "      <td>0</td>\n",
       "      <td>1</td>\n",
       "      <td>0</td>\n",
       "      <td>0</td>\n",
       "      <td>0</td>\n",
       "      <td>0</td>\n",
       "      <td>0</td>\n",
       "      <td>0</td>\n",
       "      <td>1</td>\n",
       "    </tr>\n",
       "    <tr>\n",
       "      <th>1</th>\n",
       "      <td>49</td>\n",
       "      <td>0</td>\n",
       "      <td>3</td>\n",
       "      <td>1</td>\n",
       "      <td>2</td>\n",
       "      <td>2</td>\n",
       "      <td>2</td>\n",
       "      <td>5130</td>\n",
       "      <td>0</td>\n",
       "      <td>10</td>\n",
       "      <td>...</td>\n",
       "      <td>0</td>\n",
       "      <td>0</td>\n",
       "      <td>1</td>\n",
       "      <td>0</td>\n",
       "      <td>0</td>\n",
       "      <td>0</td>\n",
       "      <td>0</td>\n",
       "      <td>0</td>\n",
       "      <td>1</td>\n",
       "      <td>0</td>\n",
       "    </tr>\n",
       "    <tr>\n",
       "      <th>2</th>\n",
       "      <td>37</td>\n",
       "      <td>1</td>\n",
       "      <td>4</td>\n",
       "      <td>1</td>\n",
       "      <td>2</td>\n",
       "      <td>1</td>\n",
       "      <td>3</td>\n",
       "      <td>2090</td>\n",
       "      <td>1</td>\n",
       "      <td>7</td>\n",
       "      <td>...</td>\n",
       "      <td>0</td>\n",
       "      <td>0</td>\n",
       "      <td>0</td>\n",
       "      <td>0</td>\n",
       "      <td>0</td>\n",
       "      <td>1</td>\n",
       "      <td>0</td>\n",
       "      <td>0</td>\n",
       "      <td>0</td>\n",
       "      <td>1</td>\n",
       "    </tr>\n",
       "    <tr>\n",
       "      <th>3</th>\n",
       "      <td>33</td>\n",
       "      <td>0</td>\n",
       "      <td>4</td>\n",
       "      <td>0</td>\n",
       "      <td>3</td>\n",
       "      <td>1</td>\n",
       "      <td>3</td>\n",
       "      <td>2909</td>\n",
       "      <td>1</td>\n",
       "      <td>8</td>\n",
       "      <td>...</td>\n",
       "      <td>0</td>\n",
       "      <td>0</td>\n",
       "      <td>1</td>\n",
       "      <td>0</td>\n",
       "      <td>0</td>\n",
       "      <td>0</td>\n",
       "      <td>0</td>\n",
       "      <td>0</td>\n",
       "      <td>1</td>\n",
       "      <td>0</td>\n",
       "    </tr>\n",
       "    <tr>\n",
       "      <th>4</th>\n",
       "      <td>27</td>\n",
       "      <td>0</td>\n",
       "      <td>1</td>\n",
       "      <td>1</td>\n",
       "      <td>3</td>\n",
       "      <td>1</td>\n",
       "      <td>2</td>\n",
       "      <td>3468</td>\n",
       "      <td>0</td>\n",
       "      <td>6</td>\n",
       "      <td>...</td>\n",
       "      <td>0</td>\n",
       "      <td>0</td>\n",
       "      <td>0</td>\n",
       "      <td>0</td>\n",
       "      <td>1</td>\n",
       "      <td>0</td>\n",
       "      <td>0</td>\n",
       "      <td>0</td>\n",
       "      <td>1</td>\n",
       "      <td>0</td>\n",
       "    </tr>\n",
       "    <tr>\n",
       "      <th>...</th>\n",
       "      <td>...</td>\n",
       "      <td>...</td>\n",
       "      <td>...</td>\n",
       "      <td>...</td>\n",
       "      <td>...</td>\n",
       "      <td>...</td>\n",
       "      <td>...</td>\n",
       "      <td>...</td>\n",
       "      <td>...</td>\n",
       "      <td>...</td>\n",
       "      <td>...</td>\n",
       "      <td>...</td>\n",
       "      <td>...</td>\n",
       "      <td>...</td>\n",
       "      <td>...</td>\n",
       "      <td>...</td>\n",
       "      <td>...</td>\n",
       "      <td>...</td>\n",
       "      <td>...</td>\n",
       "      <td>...</td>\n",
       "      <td>...</td>\n",
       "    </tr>\n",
       "    <tr>\n",
       "      <th>1465</th>\n",
       "      <td>36</td>\n",
       "      <td>0</td>\n",
       "      <td>3</td>\n",
       "      <td>1</td>\n",
       "      <td>4</td>\n",
       "      <td>2</td>\n",
       "      <td>4</td>\n",
       "      <td>2571</td>\n",
       "      <td>0</td>\n",
       "      <td>17</td>\n",
       "      <td>...</td>\n",
       "      <td>0</td>\n",
       "      <td>0</td>\n",
       "      <td>0</td>\n",
       "      <td>0</td>\n",
       "      <td>1</td>\n",
       "      <td>0</td>\n",
       "      <td>0</td>\n",
       "      <td>0</td>\n",
       "      <td>1</td>\n",
       "      <td>0</td>\n",
       "    </tr>\n",
       "    <tr>\n",
       "      <th>1466</th>\n",
       "      <td>39</td>\n",
       "      <td>0</td>\n",
       "      <td>4</td>\n",
       "      <td>1</td>\n",
       "      <td>2</td>\n",
       "      <td>3</td>\n",
       "      <td>1</td>\n",
       "      <td>9991</td>\n",
       "      <td>0</td>\n",
       "      <td>9</td>\n",
       "      <td>...</td>\n",
       "      <td>0</td>\n",
       "      <td>0</td>\n",
       "      <td>0</td>\n",
       "      <td>0</td>\n",
       "      <td>1</td>\n",
       "      <td>0</td>\n",
       "      <td>0</td>\n",
       "      <td>0</td>\n",
       "      <td>1</td>\n",
       "      <td>0</td>\n",
       "    </tr>\n",
       "    <tr>\n",
       "      <th>1467</th>\n",
       "      <td>27</td>\n",
       "      <td>0</td>\n",
       "      <td>2</td>\n",
       "      <td>1</td>\n",
       "      <td>4</td>\n",
       "      <td>2</td>\n",
       "      <td>2</td>\n",
       "      <td>6142</td>\n",
       "      <td>1</td>\n",
       "      <td>6</td>\n",
       "      <td>...</td>\n",
       "      <td>0</td>\n",
       "      <td>0</td>\n",
       "      <td>1</td>\n",
       "      <td>0</td>\n",
       "      <td>0</td>\n",
       "      <td>0</td>\n",
       "      <td>0</td>\n",
       "      <td>0</td>\n",
       "      <td>1</td>\n",
       "      <td>0</td>\n",
       "    </tr>\n",
       "    <tr>\n",
       "      <th>1468</th>\n",
       "      <td>49</td>\n",
       "      <td>0</td>\n",
       "      <td>4</td>\n",
       "      <td>1</td>\n",
       "      <td>2</td>\n",
       "      <td>2</td>\n",
       "      <td>2</td>\n",
       "      <td>5390</td>\n",
       "      <td>0</td>\n",
       "      <td>17</td>\n",
       "      <td>...</td>\n",
       "      <td>1</td>\n",
       "      <td>0</td>\n",
       "      <td>0</td>\n",
       "      <td>0</td>\n",
       "      <td>1</td>\n",
       "      <td>0</td>\n",
       "      <td>0</td>\n",
       "      <td>0</td>\n",
       "      <td>1</td>\n",
       "      <td>0</td>\n",
       "    </tr>\n",
       "    <tr>\n",
       "      <th>1469</th>\n",
       "      <td>34</td>\n",
       "      <td>0</td>\n",
       "      <td>2</td>\n",
       "      <td>1</td>\n",
       "      <td>4</td>\n",
       "      <td>2</td>\n",
       "      <td>3</td>\n",
       "      <td>4404</td>\n",
       "      <td>0</td>\n",
       "      <td>6</td>\n",
       "      <td>...</td>\n",
       "      <td>0</td>\n",
       "      <td>0</td>\n",
       "      <td>0</td>\n",
       "      <td>0</td>\n",
       "      <td>1</td>\n",
       "      <td>0</td>\n",
       "      <td>0</td>\n",
       "      <td>0</td>\n",
       "      <td>1</td>\n",
       "      <td>0</td>\n",
       "    </tr>\n",
       "  </tbody>\n",
       "</table>\n",
       "<p>1470 rows × 31 columns</p>\n",
       "</div>"
      ],
      "text/plain": [
       "      Age  Attrition  EnvironmentSatisfaction  Gender  JobInvolvement  \\\n",
       "0      41          1                        2       0               3   \n",
       "1      49          0                        3       1               2   \n",
       "2      37          1                        4       1               2   \n",
       "3      33          0                        4       0               3   \n",
       "4      27          0                        1       1               3   \n",
       "...   ...        ...                      ...     ...             ...   \n",
       "1465   36          0                        3       1               4   \n",
       "1466   39          0                        4       1               2   \n",
       "1467   27          0                        2       1               4   \n",
       "1468   49          0                        4       1               2   \n",
       "1469   34          0                        2       1               4   \n",
       "\n",
       "      JobLevel  JobSatisfaction  MonthlyIncome  OverTime  TotalWorkingYears  \\\n",
       "0            2                4           5993         1                  8   \n",
       "1            2                2           5130         0                 10   \n",
       "2            1                3           2090         1                  7   \n",
       "3            1                3           2909         1                  8   \n",
       "4            1                2           3468         0                  6   \n",
       "...        ...              ...            ...       ...                ...   \n",
       "1465         2                4           2571         0                 17   \n",
       "1466         3                1           9991         0                  9   \n",
       "1467         2                2           6142         1                  6   \n",
       "1468         2                2           5390         0                 17   \n",
       "1469         2                3           4404         0                  6   \n",
       "\n",
       "      ...  Department_Sales  EducationField_Human Resources  \\\n",
       "0     ...                 1                               0   \n",
       "1     ...                 0                               0   \n",
       "2     ...                 0                               0   \n",
       "3     ...                 0                               0   \n",
       "4     ...                 0                               0   \n",
       "...   ...               ...                             ...   \n",
       "1465  ...                 0                               0   \n",
       "1466  ...                 0                               0   \n",
       "1467  ...                 0                               0   \n",
       "1468  ...                 1                               0   \n",
       "1469  ...                 0                               0   \n",
       "\n",
       "      EducationField_Life Sciences  EducationField_Marketing  \\\n",
       "0                                1                         0   \n",
       "1                                1                         0   \n",
       "2                                0                         0   \n",
       "3                                1                         0   \n",
       "4                                0                         0   \n",
       "...                            ...                       ...   \n",
       "1465                             0                         0   \n",
       "1466                             0                         0   \n",
       "1467                             1                         0   \n",
       "1468                             0                         0   \n",
       "1469                             0                         0   \n",
       "\n",
       "      EducationField_Medical  EducationField_Other  \\\n",
       "0                          0                     0   \n",
       "1                          0                     0   \n",
       "2                          0                     1   \n",
       "3                          0                     0   \n",
       "4                          1                     0   \n",
       "...                      ...                   ...   \n",
       "1465                       1                     0   \n",
       "1466                       1                     0   \n",
       "1467                       0                     0   \n",
       "1468                       1                     0   \n",
       "1469                       1                     0   \n",
       "\n",
       "      EducationField_Technical Degree  MaritalStatus_Divorced  \\\n",
       "0                                   0                       0   \n",
       "1                                   0                       0   \n",
       "2                                   0                       0   \n",
       "3                                   0                       0   \n",
       "4                                   0                       0   \n",
       "...                               ...                     ...   \n",
       "1465                                0                       0   \n",
       "1466                                0                       0   \n",
       "1467                                0                       0   \n",
       "1468                                0                       0   \n",
       "1469                                0                       0   \n",
       "\n",
       "      MaritalStatus_Married  MaritalStatus_Single  \n",
       "0                         0                     1  \n",
       "1                         1                     0  \n",
       "2                         0                     1  \n",
       "3                         1                     0  \n",
       "4                         1                     0  \n",
       "...                     ...                   ...  \n",
       "1465                      1                     0  \n",
       "1466                      1                     0  \n",
       "1467                      1                     0  \n",
       "1468                      1                     0  \n",
       "1469                      1                     0  \n",
       "\n",
       "[1470 rows x 31 columns]"
      ]
     },
     "execution_count": 48,
     "metadata": {},
     "output_type": "execute_result"
    }
   ],
   "source": [
    "nominals = ['BusinessTravel','Department','EducationField','MaritalStatus']\n",
    "all_data_ohe = pd.get_dummies(emp, columns = nominals)\n",
    "all_data_ohe"
   ]
  },
  {
   "cell_type": "code",
   "execution_count": 49,
   "id": "9d2a4f5b",
   "metadata": {},
   "outputs": [
    {
     "data": {
      "text/plain": [
       "Index(['Age', 'Attrition', 'EnvironmentSatisfaction', 'Gender',\n",
       "       'JobInvolvement', 'JobLevel', 'JobSatisfaction', 'MonthlyIncome',\n",
       "       'OverTime', 'TotalWorkingYears', 'WorkLifeBalance', 'YearsAtCompany',\n",
       "       'YearsInCurrentRole', 'YearsSinceLastPromotion', 'YearsWithCurrManager',\n",
       "       'DistanceFromHome', 'BusinessTravel_Non-Travel',\n",
       "       'BusinessTravel_Travel_Frequently', 'BusinessTravel_Travel_Rarely',\n",
       "       'Department_Human Resources', 'Department_Research & Development',\n",
       "       'Department_Sales', 'EducationField_Human Resources',\n",
       "       'EducationField_Life Sciences', 'EducationField_Marketing',\n",
       "       'EducationField_Medical', 'EducationField_Other',\n",
       "       'EducationField_Technical Degree', 'MaritalStatus_Divorced',\n",
       "       'MaritalStatus_Married', 'MaritalStatus_Single'],\n",
       "      dtype='object')"
      ]
     },
     "execution_count": 49,
     "metadata": {},
     "output_type": "execute_result"
    }
   ],
   "source": [
    "all_data_ohe.columns"
   ]
  },
  {
   "cell_type": "code",
   "execution_count": 50,
   "id": "36d45383",
   "metadata": {},
   "outputs": [],
   "source": [
    "x = all_data_ohe.drop(['Attrition'],axis=1)\n",
    "y = all_data_ohe['Attrition']"
   ]
  },
  {
   "cell_type": "code",
   "execution_count": 51,
   "id": "2567a4d1",
   "metadata": {},
   "outputs": [],
   "source": [
    "from sklearn.model_selection import train_test_split\n"
   ]
  },
  {
   "cell_type": "code",
   "execution_count": 27,
   "id": "a6e83caf",
   "metadata": {},
   "outputs": [
    {
     "data": {
      "text/html": [
       "<div>\n",
       "<style scoped>\n",
       "    .dataframe tbody tr th:only-of-type {\n",
       "        vertical-align: middle;\n",
       "    }\n",
       "\n",
       "    .dataframe tbody tr th {\n",
       "        vertical-align: top;\n",
       "    }\n",
       "\n",
       "    .dataframe thead th {\n",
       "        text-align: right;\n",
       "    }\n",
       "</style>\n",
       "<table border=\"1\" class=\"dataframe\">\n",
       "  <thead>\n",
       "    <tr style=\"text-align: right;\">\n",
       "      <th></th>\n",
       "      <th>Age</th>\n",
       "      <th>EnvironmentSatisfaction</th>\n",
       "      <th>Gender</th>\n",
       "      <th>JobInvolvement</th>\n",
       "      <th>JobLevel</th>\n",
       "      <th>JobSatisfaction</th>\n",
       "      <th>MonthlyIncome</th>\n",
       "      <th>OverTime</th>\n",
       "      <th>TotalWorkingYears</th>\n",
       "      <th>WorkLifeBalance</th>\n",
       "      <th>...</th>\n",
       "      <th>Department_Sales</th>\n",
       "      <th>EducationField_Human Resources</th>\n",
       "      <th>EducationField_Life Sciences</th>\n",
       "      <th>EducationField_Marketing</th>\n",
       "      <th>EducationField_Medical</th>\n",
       "      <th>EducationField_Other</th>\n",
       "      <th>EducationField_Technical Degree</th>\n",
       "      <th>MaritalStatus_Divorced</th>\n",
       "      <th>MaritalStatus_Married</th>\n",
       "      <th>MaritalStatus_Single</th>\n",
       "    </tr>\n",
       "  </thead>\n",
       "  <tbody>\n",
       "    <tr>\n",
       "      <th>0</th>\n",
       "      <td>41</td>\n",
       "      <td>2</td>\n",
       "      <td>0</td>\n",
       "      <td>3</td>\n",
       "      <td>2</td>\n",
       "      <td>4</td>\n",
       "      <td>5993</td>\n",
       "      <td>1</td>\n",
       "      <td>8</td>\n",
       "      <td>1</td>\n",
       "      <td>...</td>\n",
       "      <td>1</td>\n",
       "      <td>0</td>\n",
       "      <td>1</td>\n",
       "      <td>0</td>\n",
       "      <td>0</td>\n",
       "      <td>0</td>\n",
       "      <td>0</td>\n",
       "      <td>0</td>\n",
       "      <td>0</td>\n",
       "      <td>1</td>\n",
       "    </tr>\n",
       "    <tr>\n",
       "      <th>1</th>\n",
       "      <td>49</td>\n",
       "      <td>3</td>\n",
       "      <td>1</td>\n",
       "      <td>2</td>\n",
       "      <td>2</td>\n",
       "      <td>2</td>\n",
       "      <td>5130</td>\n",
       "      <td>0</td>\n",
       "      <td>10</td>\n",
       "      <td>3</td>\n",
       "      <td>...</td>\n",
       "      <td>0</td>\n",
       "      <td>0</td>\n",
       "      <td>1</td>\n",
       "      <td>0</td>\n",
       "      <td>0</td>\n",
       "      <td>0</td>\n",
       "      <td>0</td>\n",
       "      <td>0</td>\n",
       "      <td>1</td>\n",
       "      <td>0</td>\n",
       "    </tr>\n",
       "    <tr>\n",
       "      <th>2</th>\n",
       "      <td>37</td>\n",
       "      <td>4</td>\n",
       "      <td>1</td>\n",
       "      <td>2</td>\n",
       "      <td>1</td>\n",
       "      <td>3</td>\n",
       "      <td>2090</td>\n",
       "      <td>1</td>\n",
       "      <td>7</td>\n",
       "      <td>3</td>\n",
       "      <td>...</td>\n",
       "      <td>0</td>\n",
       "      <td>0</td>\n",
       "      <td>0</td>\n",
       "      <td>0</td>\n",
       "      <td>0</td>\n",
       "      <td>1</td>\n",
       "      <td>0</td>\n",
       "      <td>0</td>\n",
       "      <td>0</td>\n",
       "      <td>1</td>\n",
       "    </tr>\n",
       "    <tr>\n",
       "      <th>3</th>\n",
       "      <td>33</td>\n",
       "      <td>4</td>\n",
       "      <td>0</td>\n",
       "      <td>3</td>\n",
       "      <td>1</td>\n",
       "      <td>3</td>\n",
       "      <td>2909</td>\n",
       "      <td>1</td>\n",
       "      <td>8</td>\n",
       "      <td>3</td>\n",
       "      <td>...</td>\n",
       "      <td>0</td>\n",
       "      <td>0</td>\n",
       "      <td>1</td>\n",
       "      <td>0</td>\n",
       "      <td>0</td>\n",
       "      <td>0</td>\n",
       "      <td>0</td>\n",
       "      <td>0</td>\n",
       "      <td>1</td>\n",
       "      <td>0</td>\n",
       "    </tr>\n",
       "    <tr>\n",
       "      <th>4</th>\n",
       "      <td>27</td>\n",
       "      <td>1</td>\n",
       "      <td>1</td>\n",
       "      <td>3</td>\n",
       "      <td>1</td>\n",
       "      <td>2</td>\n",
       "      <td>3468</td>\n",
       "      <td>0</td>\n",
       "      <td>6</td>\n",
       "      <td>3</td>\n",
       "      <td>...</td>\n",
       "      <td>0</td>\n",
       "      <td>0</td>\n",
       "      <td>0</td>\n",
       "      <td>0</td>\n",
       "      <td>1</td>\n",
       "      <td>0</td>\n",
       "      <td>0</td>\n",
       "      <td>0</td>\n",
       "      <td>1</td>\n",
       "      <td>0</td>\n",
       "    </tr>\n",
       "    <tr>\n",
       "      <th>...</th>\n",
       "      <td>...</td>\n",
       "      <td>...</td>\n",
       "      <td>...</td>\n",
       "      <td>...</td>\n",
       "      <td>...</td>\n",
       "      <td>...</td>\n",
       "      <td>...</td>\n",
       "      <td>...</td>\n",
       "      <td>...</td>\n",
       "      <td>...</td>\n",
       "      <td>...</td>\n",
       "      <td>...</td>\n",
       "      <td>...</td>\n",
       "      <td>...</td>\n",
       "      <td>...</td>\n",
       "      <td>...</td>\n",
       "      <td>...</td>\n",
       "      <td>...</td>\n",
       "      <td>...</td>\n",
       "      <td>...</td>\n",
       "      <td>...</td>\n",
       "    </tr>\n",
       "    <tr>\n",
       "      <th>1465</th>\n",
       "      <td>36</td>\n",
       "      <td>3</td>\n",
       "      <td>1</td>\n",
       "      <td>4</td>\n",
       "      <td>2</td>\n",
       "      <td>4</td>\n",
       "      <td>2571</td>\n",
       "      <td>0</td>\n",
       "      <td>17</td>\n",
       "      <td>3</td>\n",
       "      <td>...</td>\n",
       "      <td>0</td>\n",
       "      <td>0</td>\n",
       "      <td>0</td>\n",
       "      <td>0</td>\n",
       "      <td>1</td>\n",
       "      <td>0</td>\n",
       "      <td>0</td>\n",
       "      <td>0</td>\n",
       "      <td>1</td>\n",
       "      <td>0</td>\n",
       "    </tr>\n",
       "    <tr>\n",
       "      <th>1466</th>\n",
       "      <td>39</td>\n",
       "      <td>4</td>\n",
       "      <td>1</td>\n",
       "      <td>2</td>\n",
       "      <td>3</td>\n",
       "      <td>1</td>\n",
       "      <td>9991</td>\n",
       "      <td>0</td>\n",
       "      <td>9</td>\n",
       "      <td>3</td>\n",
       "      <td>...</td>\n",
       "      <td>0</td>\n",
       "      <td>0</td>\n",
       "      <td>0</td>\n",
       "      <td>0</td>\n",
       "      <td>1</td>\n",
       "      <td>0</td>\n",
       "      <td>0</td>\n",
       "      <td>0</td>\n",
       "      <td>1</td>\n",
       "      <td>0</td>\n",
       "    </tr>\n",
       "    <tr>\n",
       "      <th>1467</th>\n",
       "      <td>27</td>\n",
       "      <td>2</td>\n",
       "      <td>1</td>\n",
       "      <td>4</td>\n",
       "      <td>2</td>\n",
       "      <td>2</td>\n",
       "      <td>6142</td>\n",
       "      <td>1</td>\n",
       "      <td>6</td>\n",
       "      <td>3</td>\n",
       "      <td>...</td>\n",
       "      <td>0</td>\n",
       "      <td>0</td>\n",
       "      <td>1</td>\n",
       "      <td>0</td>\n",
       "      <td>0</td>\n",
       "      <td>0</td>\n",
       "      <td>0</td>\n",
       "      <td>0</td>\n",
       "      <td>1</td>\n",
       "      <td>0</td>\n",
       "    </tr>\n",
       "    <tr>\n",
       "      <th>1468</th>\n",
       "      <td>49</td>\n",
       "      <td>4</td>\n",
       "      <td>1</td>\n",
       "      <td>2</td>\n",
       "      <td>2</td>\n",
       "      <td>2</td>\n",
       "      <td>5390</td>\n",
       "      <td>0</td>\n",
       "      <td>17</td>\n",
       "      <td>2</td>\n",
       "      <td>...</td>\n",
       "      <td>1</td>\n",
       "      <td>0</td>\n",
       "      <td>0</td>\n",
       "      <td>0</td>\n",
       "      <td>1</td>\n",
       "      <td>0</td>\n",
       "      <td>0</td>\n",
       "      <td>0</td>\n",
       "      <td>1</td>\n",
       "      <td>0</td>\n",
       "    </tr>\n",
       "    <tr>\n",
       "      <th>1469</th>\n",
       "      <td>34</td>\n",
       "      <td>2</td>\n",
       "      <td>1</td>\n",
       "      <td>4</td>\n",
       "      <td>2</td>\n",
       "      <td>3</td>\n",
       "      <td>4404</td>\n",
       "      <td>0</td>\n",
       "      <td>6</td>\n",
       "      <td>4</td>\n",
       "      <td>...</td>\n",
       "      <td>0</td>\n",
       "      <td>0</td>\n",
       "      <td>0</td>\n",
       "      <td>0</td>\n",
       "      <td>1</td>\n",
       "      <td>0</td>\n",
       "      <td>0</td>\n",
       "      <td>0</td>\n",
       "      <td>1</td>\n",
       "      <td>0</td>\n",
       "    </tr>\n",
       "  </tbody>\n",
       "</table>\n",
       "<p>1470 rows × 30 columns</p>\n",
       "</div>"
      ],
      "text/plain": [
       "      Age  EnvironmentSatisfaction  Gender  JobInvolvement  JobLevel  \\\n",
       "0      41                        2       0               3         2   \n",
       "1      49                        3       1               2         2   \n",
       "2      37                        4       1               2         1   \n",
       "3      33                        4       0               3         1   \n",
       "4      27                        1       1               3         1   \n",
       "...   ...                      ...     ...             ...       ...   \n",
       "1465   36                        3       1               4         2   \n",
       "1466   39                        4       1               2         3   \n",
       "1467   27                        2       1               4         2   \n",
       "1468   49                        4       1               2         2   \n",
       "1469   34                        2       1               4         2   \n",
       "\n",
       "      JobSatisfaction  MonthlyIncome  OverTime  TotalWorkingYears  \\\n",
       "0                   4           5993         1                  8   \n",
       "1                   2           5130         0                 10   \n",
       "2                   3           2090         1                  7   \n",
       "3                   3           2909         1                  8   \n",
       "4                   2           3468         0                  6   \n",
       "...               ...            ...       ...                ...   \n",
       "1465                4           2571         0                 17   \n",
       "1466                1           9991         0                  9   \n",
       "1467                2           6142         1                  6   \n",
       "1468                2           5390         0                 17   \n",
       "1469                3           4404         0                  6   \n",
       "\n",
       "      WorkLifeBalance  ...  Department_Sales  EducationField_Human Resources  \\\n",
       "0                   1  ...                 1                               0   \n",
       "1                   3  ...                 0                               0   \n",
       "2                   3  ...                 0                               0   \n",
       "3                   3  ...                 0                               0   \n",
       "4                   3  ...                 0                               0   \n",
       "...               ...  ...               ...                             ...   \n",
       "1465                3  ...                 0                               0   \n",
       "1466                3  ...                 0                               0   \n",
       "1467                3  ...                 0                               0   \n",
       "1468                2  ...                 1                               0   \n",
       "1469                4  ...                 0                               0   \n",
       "\n",
       "      EducationField_Life Sciences  EducationField_Marketing  \\\n",
       "0                                1                         0   \n",
       "1                                1                         0   \n",
       "2                                0                         0   \n",
       "3                                1                         0   \n",
       "4                                0                         0   \n",
       "...                            ...                       ...   \n",
       "1465                             0                         0   \n",
       "1466                             0                         0   \n",
       "1467                             1                         0   \n",
       "1468                             0                         0   \n",
       "1469                             0                         0   \n",
       "\n",
       "      EducationField_Medical  EducationField_Other  \\\n",
       "0                          0                     0   \n",
       "1                          0                     0   \n",
       "2                          0                     1   \n",
       "3                          0                     0   \n",
       "4                          1                     0   \n",
       "...                      ...                   ...   \n",
       "1465                       1                     0   \n",
       "1466                       1                     0   \n",
       "1467                       0                     0   \n",
       "1468                       1                     0   \n",
       "1469                       1                     0   \n",
       "\n",
       "      EducationField_Technical Degree  MaritalStatus_Divorced  \\\n",
       "0                                   0                       0   \n",
       "1                                   0                       0   \n",
       "2                                   0                       0   \n",
       "3                                   0                       0   \n",
       "4                                   0                       0   \n",
       "...                               ...                     ...   \n",
       "1465                                0                       0   \n",
       "1466                                0                       0   \n",
       "1467                                0                       0   \n",
       "1468                                0                       0   \n",
       "1469                                0                       0   \n",
       "\n",
       "      MaritalStatus_Married  MaritalStatus_Single  \n",
       "0                         0                     1  \n",
       "1                         1                     0  \n",
       "2                         0                     1  \n",
       "3                         1                     0  \n",
       "4                         1                     0  \n",
       "...                     ...                   ...  \n",
       "1465                      1                     0  \n",
       "1466                      1                     0  \n",
       "1467                      1                     0  \n",
       "1468                      1                     0  \n",
       "1469                      1                     0  \n",
       "\n",
       "[1470 rows x 30 columns]"
      ]
     },
     "execution_count": 27,
     "metadata": {},
     "output_type": "execute_result"
    }
   ],
   "source": []
  },
  {
   "cell_type": "code",
   "execution_count": 22,
   "id": "0be5a406",
   "metadata": {},
   "outputs": [],
   "source": []
  },
  {
   "cell_type": "code",
   "execution_count": 52,
   "id": "22537de0",
   "metadata": {},
   "outputs": [
    {
     "name": "stdout",
     "output_type": "stream",
     "text": [
      "Defaulting to user installation because normal site-packages is not writeable\n",
      "Requirement already satisfied: imblearn in c:\\users\\a\\appdata\\roaming\\python\\python39\\site-packages (0.0)\n",
      "Requirement already satisfied: imbalanced-learn in c:\\users\\a\\appdata\\roaming\\python\\python39\\site-packages (from imblearn) (0.9.1)\n",
      "Requirement already satisfied: scikit-learn>=1.1.0 in c:\\users\\a\\appdata\\roaming\\python\\python39\\site-packages (from imbalanced-learn->imblearn) (1.1.2)\n",
      "Requirement already satisfied: scipy>=1.3.2 in c:\\programdata\\anaconda3\\lib\\site-packages (from imbalanced-learn->imblearn) (1.7.3)\n",
      "Requirement already satisfied: numpy>=1.17.3 in c:\\programdata\\anaconda3\\lib\\site-packages (from imbalanced-learn->imblearn) (1.21.5)\n",
      "Requirement already satisfied: joblib>=1.0.0 in c:\\programdata\\anaconda3\\lib\\site-packages (from imbalanced-learn->imblearn) (1.1.0)\n",
      "Requirement already satisfied: threadpoolctl>=2.0.0 in c:\\programdata\\anaconda3\\lib\\site-packages (from imbalanced-learn->imblearn) (2.2.0)\n",
      "Note: you may need to restart the kernel to use updated packages.\n"
     ]
    }
   ],
   "source": [
    "pip install imblearn"
   ]
  },
  {
   "cell_type": "code",
   "execution_count": 53,
   "id": "fee2fdbe",
   "metadata": {},
   "outputs": [],
   "source": [
    "#Train-test split\n",
    "\n",
    "X_train, X_test, y_train, y_test = train_test_split(x, y, test_size=0.2)\n"
   ]
  },
  {
   "cell_type": "code",
   "execution_count": 87,
   "id": "8594391f",
   "metadata": {},
   "outputs": [],
   "source": [
    "np.savetxt('ytest.txt', y_test)"
   ]
  },
  {
   "cell_type": "code",
   "execution_count": 54,
   "id": "9921f43c",
   "metadata": {},
   "outputs": [],
   "source": [
    "#Train-validation split\n",
    "X_train, X_valid, y_train, y_valid = train_test_split(X_train, y_train, test_size=0.25)"
   ]
  },
  {
   "cell_type": "code",
   "execution_count": 83,
   "id": "67ba5b2a",
   "metadata": {},
   "outputs": [],
   "source": [
    "np.savetxt('Xvalid.txt', X_valid)"
   ]
  },
  {
   "cell_type": "code",
   "execution_count": 84,
   "id": "7becc248",
   "metadata": {},
   "outputs": [],
   "source": [
    "np.savetxt('Xtest.txt', X_test)"
   ]
  },
  {
   "cell_type": "code",
   "execution_count": 55,
   "id": "e1a3906a",
   "metadata": {},
   "outputs": [
    {
     "data": {
      "text/html": [
       "<div>\n",
       "<style scoped>\n",
       "    .dataframe tbody tr th:only-of-type {\n",
       "        vertical-align: middle;\n",
       "    }\n",
       "\n",
       "    .dataframe tbody tr th {\n",
       "        vertical-align: top;\n",
       "    }\n",
       "\n",
       "    .dataframe thead th {\n",
       "        text-align: right;\n",
       "    }\n",
       "</style>\n",
       "<table border=\"1\" class=\"dataframe\">\n",
       "  <thead>\n",
       "    <tr style=\"text-align: right;\">\n",
       "      <th></th>\n",
       "      <th>Age</th>\n",
       "      <th>EnvironmentSatisfaction</th>\n",
       "      <th>Gender</th>\n",
       "      <th>JobInvolvement</th>\n",
       "      <th>JobLevel</th>\n",
       "      <th>JobSatisfaction</th>\n",
       "      <th>MonthlyIncome</th>\n",
       "      <th>OverTime</th>\n",
       "      <th>TotalWorkingYears</th>\n",
       "      <th>WorkLifeBalance</th>\n",
       "      <th>...</th>\n",
       "      <th>Department_Sales</th>\n",
       "      <th>EducationField_Human Resources</th>\n",
       "      <th>EducationField_Life Sciences</th>\n",
       "      <th>EducationField_Marketing</th>\n",
       "      <th>EducationField_Medical</th>\n",
       "      <th>EducationField_Other</th>\n",
       "      <th>EducationField_Technical Degree</th>\n",
       "      <th>MaritalStatus_Divorced</th>\n",
       "      <th>MaritalStatus_Married</th>\n",
       "      <th>MaritalStatus_Single</th>\n",
       "    </tr>\n",
       "  </thead>\n",
       "  <tbody>\n",
       "    <tr>\n",
       "      <th>914</th>\n",
       "      <td>55</td>\n",
       "      <td>4</td>\n",
       "      <td>1</td>\n",
       "      <td>2</td>\n",
       "      <td>4</td>\n",
       "      <td>2</td>\n",
       "      <td>13577</td>\n",
       "      <td>1</td>\n",
       "      <td>34</td>\n",
       "      <td>3</td>\n",
       "      <td>...</td>\n",
       "      <td>0</td>\n",
       "      <td>0</td>\n",
       "      <td>0</td>\n",
       "      <td>0</td>\n",
       "      <td>1</td>\n",
       "      <td>0</td>\n",
       "      <td>0</td>\n",
       "      <td>1</td>\n",
       "      <td>0</td>\n",
       "      <td>0</td>\n",
       "    </tr>\n",
       "    <tr>\n",
       "      <th>1074</th>\n",
       "      <td>33</td>\n",
       "      <td>4</td>\n",
       "      <td>1</td>\n",
       "      <td>3</td>\n",
       "      <td>2</td>\n",
       "      <td>3</td>\n",
       "      <td>6388</td>\n",
       "      <td>1</td>\n",
       "      <td>14</td>\n",
       "      <td>3</td>\n",
       "      <td>...</td>\n",
       "      <td>0</td>\n",
       "      <td>0</td>\n",
       "      <td>1</td>\n",
       "      <td>0</td>\n",
       "      <td>0</td>\n",
       "      <td>0</td>\n",
       "      <td>0</td>\n",
       "      <td>0</td>\n",
       "      <td>0</td>\n",
       "      <td>1</td>\n",
       "    </tr>\n",
       "    <tr>\n",
       "      <th>767</th>\n",
       "      <td>37</td>\n",
       "      <td>4</td>\n",
       "      <td>0</td>\n",
       "      <td>3</td>\n",
       "      <td>2</td>\n",
       "      <td>2</td>\n",
       "      <td>4107</td>\n",
       "      <td>0</td>\n",
       "      <td>8</td>\n",
       "      <td>2</td>\n",
       "      <td>...</td>\n",
       "      <td>0</td>\n",
       "      <td>0</td>\n",
       "      <td>0</td>\n",
       "      <td>0</td>\n",
       "      <td>0</td>\n",
       "      <td>1</td>\n",
       "      <td>0</td>\n",
       "      <td>0</td>\n",
       "      <td>0</td>\n",
       "      <td>1</td>\n",
       "    </tr>\n",
       "    <tr>\n",
       "      <th>987</th>\n",
       "      <td>51</td>\n",
       "      <td>2</td>\n",
       "      <td>1</td>\n",
       "      <td>3</td>\n",
       "      <td>3</td>\n",
       "      <td>2</td>\n",
       "      <td>10596</td>\n",
       "      <td>0</td>\n",
       "      <td>14</td>\n",
       "      <td>3</td>\n",
       "      <td>...</td>\n",
       "      <td>1</td>\n",
       "      <td>0</td>\n",
       "      <td>0</td>\n",
       "      <td>1</td>\n",
       "      <td>0</td>\n",
       "      <td>0</td>\n",
       "      <td>0</td>\n",
       "      <td>0</td>\n",
       "      <td>1</td>\n",
       "      <td>0</td>\n",
       "    </tr>\n",
       "    <tr>\n",
       "      <th>330</th>\n",
       "      <td>43</td>\n",
       "      <td>3</td>\n",
       "      <td>0</td>\n",
       "      <td>2</td>\n",
       "      <td>2</td>\n",
       "      <td>3</td>\n",
       "      <td>5257</td>\n",
       "      <td>0</td>\n",
       "      <td>9</td>\n",
       "      <td>4</td>\n",
       "      <td>...</td>\n",
       "      <td>0</td>\n",
       "      <td>0</td>\n",
       "      <td>1</td>\n",
       "      <td>0</td>\n",
       "      <td>0</td>\n",
       "      <td>0</td>\n",
       "      <td>0</td>\n",
       "      <td>1</td>\n",
       "      <td>0</td>\n",
       "      <td>0</td>\n",
       "    </tr>\n",
       "    <tr>\n",
       "      <th>...</th>\n",
       "      <td>...</td>\n",
       "      <td>...</td>\n",
       "      <td>...</td>\n",
       "      <td>...</td>\n",
       "      <td>...</td>\n",
       "      <td>...</td>\n",
       "      <td>...</td>\n",
       "      <td>...</td>\n",
       "      <td>...</td>\n",
       "      <td>...</td>\n",
       "      <td>...</td>\n",
       "      <td>...</td>\n",
       "      <td>...</td>\n",
       "      <td>...</td>\n",
       "      <td>...</td>\n",
       "      <td>...</td>\n",
       "      <td>...</td>\n",
       "      <td>...</td>\n",
       "      <td>...</td>\n",
       "      <td>...</td>\n",
       "      <td>...</td>\n",
       "    </tr>\n",
       "    <tr>\n",
       "      <th>574</th>\n",
       "      <td>34</td>\n",
       "      <td>2</td>\n",
       "      <td>0</td>\n",
       "      <td>4</td>\n",
       "      <td>1</td>\n",
       "      <td>4</td>\n",
       "      <td>3280</td>\n",
       "      <td>0</td>\n",
       "      <td>10</td>\n",
       "      <td>3</td>\n",
       "      <td>...</td>\n",
       "      <td>0</td>\n",
       "      <td>0</td>\n",
       "      <td>1</td>\n",
       "      <td>0</td>\n",
       "      <td>0</td>\n",
       "      <td>0</td>\n",
       "      <td>0</td>\n",
       "      <td>0</td>\n",
       "      <td>0</td>\n",
       "      <td>1</td>\n",
       "    </tr>\n",
       "    <tr>\n",
       "      <th>732</th>\n",
       "      <td>30</td>\n",
       "      <td>2</td>\n",
       "      <td>0</td>\n",
       "      <td>3</td>\n",
       "      <td>1</td>\n",
       "      <td>2</td>\n",
       "      <td>2422</td>\n",
       "      <td>0</td>\n",
       "      <td>4</td>\n",
       "      <td>3</td>\n",
       "      <td>...</td>\n",
       "      <td>0</td>\n",
       "      <td>0</td>\n",
       "      <td>0</td>\n",
       "      <td>0</td>\n",
       "      <td>1</td>\n",
       "      <td>0</td>\n",
       "      <td>0</td>\n",
       "      <td>0</td>\n",
       "      <td>0</td>\n",
       "      <td>1</td>\n",
       "    </tr>\n",
       "    <tr>\n",
       "      <th>58</th>\n",
       "      <td>31</td>\n",
       "      <td>4</td>\n",
       "      <td>1</td>\n",
       "      <td>3</td>\n",
       "      <td>2</td>\n",
       "      <td>4</td>\n",
       "      <td>5915</td>\n",
       "      <td>0</td>\n",
       "      <td>10</td>\n",
       "      <td>2</td>\n",
       "      <td>...</td>\n",
       "      <td>0</td>\n",
       "      <td>0</td>\n",
       "      <td>1</td>\n",
       "      <td>0</td>\n",
       "      <td>0</td>\n",
       "      <td>0</td>\n",
       "      <td>0</td>\n",
       "      <td>1</td>\n",
       "      <td>0</td>\n",
       "      <td>0</td>\n",
       "    </tr>\n",
       "    <tr>\n",
       "      <th>742</th>\n",
       "      <td>50</td>\n",
       "      <td>1</td>\n",
       "      <td>1</td>\n",
       "      <td>3</td>\n",
       "      <td>1</td>\n",
       "      <td>4</td>\n",
       "      <td>2380</td>\n",
       "      <td>0</td>\n",
       "      <td>8</td>\n",
       "      <td>3</td>\n",
       "      <td>...</td>\n",
       "      <td>0</td>\n",
       "      <td>0</td>\n",
       "      <td>1</td>\n",
       "      <td>0</td>\n",
       "      <td>0</td>\n",
       "      <td>0</td>\n",
       "      <td>0</td>\n",
       "      <td>0</td>\n",
       "      <td>1</td>\n",
       "      <td>0</td>\n",
       "    </tr>\n",
       "    <tr>\n",
       "      <th>233</th>\n",
       "      <td>50</td>\n",
       "      <td>4</td>\n",
       "      <td>0</td>\n",
       "      <td>3</td>\n",
       "      <td>5</td>\n",
       "      <td>4</td>\n",
       "      <td>19517</td>\n",
       "      <td>0</td>\n",
       "      <td>32</td>\n",
       "      <td>2</td>\n",
       "      <td>...</td>\n",
       "      <td>1</td>\n",
       "      <td>0</td>\n",
       "      <td>0</td>\n",
       "      <td>0</td>\n",
       "      <td>1</td>\n",
       "      <td>0</td>\n",
       "      <td>0</td>\n",
       "      <td>1</td>\n",
       "      <td>0</td>\n",
       "      <td>0</td>\n",
       "    </tr>\n",
       "  </tbody>\n",
       "</table>\n",
       "<p>882 rows × 30 columns</p>\n",
       "</div>"
      ],
      "text/plain": [
       "      Age  EnvironmentSatisfaction  Gender  JobInvolvement  JobLevel  \\\n",
       "914    55                        4       1               2         4   \n",
       "1074   33                        4       1               3         2   \n",
       "767    37                        4       0               3         2   \n",
       "987    51                        2       1               3         3   \n",
       "330    43                        3       0               2         2   \n",
       "...   ...                      ...     ...             ...       ...   \n",
       "574    34                        2       0               4         1   \n",
       "732    30                        2       0               3         1   \n",
       "58     31                        4       1               3         2   \n",
       "742    50                        1       1               3         1   \n",
       "233    50                        4       0               3         5   \n",
       "\n",
       "      JobSatisfaction  MonthlyIncome  OverTime  TotalWorkingYears  \\\n",
       "914                 2          13577         1                 34   \n",
       "1074                3           6388         1                 14   \n",
       "767                 2           4107         0                  8   \n",
       "987                 2          10596         0                 14   \n",
       "330                 3           5257         0                  9   \n",
       "...               ...            ...       ...                ...   \n",
       "574                 4           3280         0                 10   \n",
       "732                 2           2422         0                  4   \n",
       "58                  4           5915         0                 10   \n",
       "742                 4           2380         0                  8   \n",
       "233                 4          19517         0                 32   \n",
       "\n",
       "      WorkLifeBalance  ...  Department_Sales  EducationField_Human Resources  \\\n",
       "914                 3  ...                 0                               0   \n",
       "1074                3  ...                 0                               0   \n",
       "767                 2  ...                 0                               0   \n",
       "987                 3  ...                 1                               0   \n",
       "330                 4  ...                 0                               0   \n",
       "...               ...  ...               ...                             ...   \n",
       "574                 3  ...                 0                               0   \n",
       "732                 3  ...                 0                               0   \n",
       "58                  2  ...                 0                               0   \n",
       "742                 3  ...                 0                               0   \n",
       "233                 2  ...                 1                               0   \n",
       "\n",
       "      EducationField_Life Sciences  EducationField_Marketing  \\\n",
       "914                              0                         0   \n",
       "1074                             1                         0   \n",
       "767                              0                         0   \n",
       "987                              0                         1   \n",
       "330                              1                         0   \n",
       "...                            ...                       ...   \n",
       "574                              1                         0   \n",
       "732                              0                         0   \n",
       "58                               1                         0   \n",
       "742                              1                         0   \n",
       "233                              0                         0   \n",
       "\n",
       "      EducationField_Medical  EducationField_Other  \\\n",
       "914                        1                     0   \n",
       "1074                       0                     0   \n",
       "767                        0                     1   \n",
       "987                        0                     0   \n",
       "330                        0                     0   \n",
       "...                      ...                   ...   \n",
       "574                        0                     0   \n",
       "732                        1                     0   \n",
       "58                         0                     0   \n",
       "742                        0                     0   \n",
       "233                        1                     0   \n",
       "\n",
       "      EducationField_Technical Degree  MaritalStatus_Divorced  \\\n",
       "914                                 0                       1   \n",
       "1074                                0                       0   \n",
       "767                                 0                       0   \n",
       "987                                 0                       0   \n",
       "330                                 0                       1   \n",
       "...                               ...                     ...   \n",
       "574                                 0                       0   \n",
       "732                                 0                       0   \n",
       "58                                  0                       1   \n",
       "742                                 0                       0   \n",
       "233                                 0                       1   \n",
       "\n",
       "      MaritalStatus_Married  MaritalStatus_Single  \n",
       "914                       0                     0  \n",
       "1074                      0                     1  \n",
       "767                       0                     1  \n",
       "987                       1                     0  \n",
       "330                       0                     0  \n",
       "...                     ...                   ...  \n",
       "574                       0                     1  \n",
       "732                       0                     1  \n",
       "58                        0                     0  \n",
       "742                       1                     0  \n",
       "233                       0                     0  \n",
       "\n",
       "[882 rows x 30 columns]"
      ]
     },
     "execution_count": 55,
     "metadata": {},
     "output_type": "execute_result"
    }
   ],
   "source": [
    "X_train"
   ]
  },
  {
   "cell_type": "code",
   "execution_count": 21,
   "id": "7862100b",
   "metadata": {},
   "outputs": [
    {
     "name": "stderr",
     "output_type": "stream",
     "text": [
      "C:\\ProgramData\\Anaconda3\\lib\\site-packages\\seaborn\\_decorators.py:36: FutureWarning: Pass the following variable as a keyword arg: x. From version 0.12, the only valid positional argument will be `data`, and passing other arguments without an explicit keyword will result in an error or misinterpretation.\n",
      "  warnings.warn(\n"
     ]
    },
    {
     "data": {
      "text/plain": [
       "<AxesSubplot:xlabel='Attrition', ylabel='count'>"
      ]
     },
     "execution_count": 21,
     "metadata": {},
     "output_type": "execute_result"
    },
    {
     "data": {
      "image/png": "[encoded data removed]",
      "text/plain": [
       "<Figure size 432x288 with 1 Axes>"
      ]
     },
     "metadata": {
      "needs_background": "light"
     },
     "output_type": "display_data"
    }
   ],
   "source": [
    "sns.countplot(y_train)"
   ]
  },
  {
   "cell_type": "code",
   "execution_count": 22,
   "id": "ab638f75",
   "metadata": {},
   "outputs": [
    {
     "data": {
      "text/html": [
       "<div>\n",
       "<style scoped>\n",
       "    .dataframe tbody tr th:only-of-type {\n",
       "        vertical-align: middle;\n",
       "    }\n",
       "\n",
       "    .dataframe tbody tr th {\n",
       "        vertical-align: top;\n",
       "    }\n",
       "\n",
       "    .dataframe thead th {\n",
       "        text-align: right;\n",
       "    }\n",
       "</style>\n",
       "<table border=\"1\" class=\"dataframe\">\n",
       "  <thead>\n",
       "    <tr style=\"text-align: right;\">\n",
       "      <th></th>\n",
       "      <th>Age</th>\n",
       "      <th>EnvironmentSatisfaction</th>\n",
       "      <th>Gender</th>\n",
       "      <th>JobInvolvement</th>\n",
       "      <th>JobLevel</th>\n",
       "      <th>JobSatisfaction</th>\n",
       "      <th>MonthlyIncome</th>\n",
       "      <th>OverTime</th>\n",
       "      <th>TotalWorkingYears</th>\n",
       "      <th>WorkLifeBalance</th>\n",
       "      <th>...</th>\n",
       "      <th>Department_Sales</th>\n",
       "      <th>EducationField_Human Resources</th>\n",
       "      <th>EducationField_Life Sciences</th>\n",
       "      <th>EducationField_Marketing</th>\n",
       "      <th>EducationField_Medical</th>\n",
       "      <th>EducationField_Other</th>\n",
       "      <th>EducationField_Technical Degree</th>\n",
       "      <th>MaritalStatus_Divorced</th>\n",
       "      <th>MaritalStatus_Married</th>\n",
       "      <th>MaritalStatus_Single</th>\n",
       "    </tr>\n",
       "  </thead>\n",
       "  <tbody>\n",
       "    <tr>\n",
       "      <th>871</th>\n",
       "      <td>24</td>\n",
       "      <td>4</td>\n",
       "      <td>0</td>\n",
       "      <td>3</td>\n",
       "      <td>1</td>\n",
       "      <td>2</td>\n",
       "      <td>2210</td>\n",
       "      <td>0</td>\n",
       "      <td>1</td>\n",
       "      <td>1</td>\n",
       "      <td>...</td>\n",
       "      <td>0</td>\n",
       "      <td>0</td>\n",
       "      <td>1</td>\n",
       "      <td>0</td>\n",
       "      <td>0</td>\n",
       "      <td>0</td>\n",
       "      <td>0</td>\n",
       "      <td>0</td>\n",
       "      <td>1</td>\n",
       "      <td>0</td>\n",
       "    </tr>\n",
       "    <tr>\n",
       "      <th>765</th>\n",
       "      <td>38</td>\n",
       "      <td>3</td>\n",
       "      <td>1</td>\n",
       "      <td>3</td>\n",
       "      <td>1</td>\n",
       "      <td>3</td>\n",
       "      <td>2821</td>\n",
       "      <td>0</td>\n",
       "      <td>8</td>\n",
       "      <td>3</td>\n",
       "      <td>...</td>\n",
       "      <td>0</td>\n",
       "      <td>0</td>\n",
       "      <td>0</td>\n",
       "      <td>0</td>\n",
       "      <td>0</td>\n",
       "      <td>1</td>\n",
       "      <td>0</td>\n",
       "      <td>0</td>\n",
       "      <td>1</td>\n",
       "      <td>0</td>\n",
       "    </tr>\n",
       "    <tr>\n",
       "      <th>221</th>\n",
       "      <td>33</td>\n",
       "      <td>3</td>\n",
       "      <td>0</td>\n",
       "      <td>2</td>\n",
       "      <td>1</td>\n",
       "      <td>2</td>\n",
       "      <td>2622</td>\n",
       "      <td>0</td>\n",
       "      <td>7</td>\n",
       "      <td>3</td>\n",
       "      <td>...</td>\n",
       "      <td>0</td>\n",
       "      <td>0</td>\n",
       "      <td>0</td>\n",
       "      <td>0</td>\n",
       "      <td>1</td>\n",
       "      <td>0</td>\n",
       "      <td>0</td>\n",
       "      <td>0</td>\n",
       "      <td>1</td>\n",
       "      <td>0</td>\n",
       "    </tr>\n",
       "    <tr>\n",
       "      <th>1343</th>\n",
       "      <td>29</td>\n",
       "      <td>4</td>\n",
       "      <td>1</td>\n",
       "      <td>3</td>\n",
       "      <td>1</td>\n",
       "      <td>1</td>\n",
       "      <td>2062</td>\n",
       "      <td>0</td>\n",
       "      <td>11</td>\n",
       "      <td>3</td>\n",
       "      <td>...</td>\n",
       "      <td>0</td>\n",
       "      <td>0</td>\n",
       "      <td>1</td>\n",
       "      <td>0</td>\n",
       "      <td>0</td>\n",
       "      <td>0</td>\n",
       "      <td>0</td>\n",
       "      <td>0</td>\n",
       "      <td>0</td>\n",
       "      <td>1</td>\n",
       "    </tr>\n",
       "    <tr>\n",
       "      <th>753</th>\n",
       "      <td>39</td>\n",
       "      <td>4</td>\n",
       "      <td>0</td>\n",
       "      <td>3</td>\n",
       "      <td>3</td>\n",
       "      <td>1</td>\n",
       "      <td>10880</td>\n",
       "      <td>1</td>\n",
       "      <td>21</td>\n",
       "      <td>3</td>\n",
       "      <td>...</td>\n",
       "      <td>0</td>\n",
       "      <td>0</td>\n",
       "      <td>0</td>\n",
       "      <td>0</td>\n",
       "      <td>1</td>\n",
       "      <td>0</td>\n",
       "      <td>0</td>\n",
       "      <td>0</td>\n",
       "      <td>0</td>\n",
       "      <td>1</td>\n",
       "    </tr>\n",
       "    <tr>\n",
       "      <th>...</th>\n",
       "      <td>...</td>\n",
       "      <td>...</td>\n",
       "      <td>...</td>\n",
       "      <td>...</td>\n",
       "      <td>...</td>\n",
       "      <td>...</td>\n",
       "      <td>...</td>\n",
       "      <td>...</td>\n",
       "      <td>...</td>\n",
       "      <td>...</td>\n",
       "      <td>...</td>\n",
       "      <td>...</td>\n",
       "      <td>...</td>\n",
       "      <td>...</td>\n",
       "      <td>...</td>\n",
       "      <td>...</td>\n",
       "      <td>...</td>\n",
       "      <td>...</td>\n",
       "      <td>...</td>\n",
       "      <td>...</td>\n",
       "      <td>...</td>\n",
       "    </tr>\n",
       "    <tr>\n",
       "      <th>1044</th>\n",
       "      <td>49</td>\n",
       "      <td>1</td>\n",
       "      <td>1</td>\n",
       "      <td>3</td>\n",
       "      <td>2</td>\n",
       "      <td>3</td>\n",
       "      <td>6651</td>\n",
       "      <td>0</td>\n",
       "      <td>20</td>\n",
       "      <td>2</td>\n",
       "      <td>...</td>\n",
       "      <td>0</td>\n",
       "      <td>0</td>\n",
       "      <td>0</td>\n",
       "      <td>0</td>\n",
       "      <td>0</td>\n",
       "      <td>0</td>\n",
       "      <td>1</td>\n",
       "      <td>0</td>\n",
       "      <td>1</td>\n",
       "      <td>0</td>\n",
       "    </tr>\n",
       "    <tr>\n",
       "      <th>163</th>\n",
       "      <td>57</td>\n",
       "      <td>3</td>\n",
       "      <td>1</td>\n",
       "      <td>4</td>\n",
       "      <td>3</td>\n",
       "      <td>4</td>\n",
       "      <td>9439</td>\n",
       "      <td>1</td>\n",
       "      <td>12</td>\n",
       "      <td>1</td>\n",
       "      <td>...</td>\n",
       "      <td>0</td>\n",
       "      <td>0</td>\n",
       "      <td>1</td>\n",
       "      <td>0</td>\n",
       "      <td>0</td>\n",
       "      <td>0</td>\n",
       "      <td>0</td>\n",
       "      <td>1</td>\n",
       "      <td>0</td>\n",
       "      <td>0</td>\n",
       "    </tr>\n",
       "    <tr>\n",
       "      <th>107</th>\n",
       "      <td>25</td>\n",
       "      <td>3</td>\n",
       "      <td>1</td>\n",
       "      <td>2</td>\n",
       "      <td>2</td>\n",
       "      <td>3</td>\n",
       "      <td>5744</td>\n",
       "      <td>1</td>\n",
       "      <td>6</td>\n",
       "      <td>3</td>\n",
       "      <td>...</td>\n",
       "      <td>1</td>\n",
       "      <td>0</td>\n",
       "      <td>0</td>\n",
       "      <td>1</td>\n",
       "      <td>0</td>\n",
       "      <td>0</td>\n",
       "      <td>0</td>\n",
       "      <td>0</td>\n",
       "      <td>0</td>\n",
       "      <td>1</td>\n",
       "    </tr>\n",
       "    <tr>\n",
       "      <th>715</th>\n",
       "      <td>33</td>\n",
       "      <td>3</td>\n",
       "      <td>0</td>\n",
       "      <td>4</td>\n",
       "      <td>2</td>\n",
       "      <td>2</td>\n",
       "      <td>5488</td>\n",
       "      <td>1</td>\n",
       "      <td>6</td>\n",
       "      <td>3</td>\n",
       "      <td>...</td>\n",
       "      <td>0</td>\n",
       "      <td>0</td>\n",
       "      <td>0</td>\n",
       "      <td>0</td>\n",
       "      <td>0</td>\n",
       "      <td>1</td>\n",
       "      <td>0</td>\n",
       "      <td>0</td>\n",
       "      <td>1</td>\n",
       "      <td>0</td>\n",
       "    </tr>\n",
       "    <tr>\n",
       "      <th>471</th>\n",
       "      <td>38</td>\n",
       "      <td>3</td>\n",
       "      <td>0</td>\n",
       "      <td>3</td>\n",
       "      <td>2</td>\n",
       "      <td>3</td>\n",
       "      <td>9824</td>\n",
       "      <td>0</td>\n",
       "      <td>18</td>\n",
       "      <td>3</td>\n",
       "      <td>...</td>\n",
       "      <td>0</td>\n",
       "      <td>0</td>\n",
       "      <td>0</td>\n",
       "      <td>0</td>\n",
       "      <td>1</td>\n",
       "      <td>0</td>\n",
       "      <td>0</td>\n",
       "      <td>0</td>\n",
       "      <td>1</td>\n",
       "      <td>0</td>\n",
       "    </tr>\n",
       "  </tbody>\n",
       "</table>\n",
       "<p>294 rows × 30 columns</p>\n",
       "</div>"
      ],
      "text/plain": [
       "      Age  EnvironmentSatisfaction  Gender  JobInvolvement  JobLevel  \\\n",
       "871    24                        4       0               3         1   \n",
       "765    38                        3       1               3         1   \n",
       "221    33                        3       0               2         1   \n",
       "1343   29                        4       1               3         1   \n",
       "753    39                        4       0               3         3   \n",
       "...   ...                      ...     ...             ...       ...   \n",
       "1044   49                        1       1               3         2   \n",
       "163    57                        3       1               4         3   \n",
       "107    25                        3       1               2         2   \n",
       "715    33                        3       0               4         2   \n",
       "471    38                        3       0               3         2   \n",
       "\n",
       "      JobSatisfaction  MonthlyIncome  OverTime  TotalWorkingYears  \\\n",
       "871                 2           2210         0                  1   \n",
       "765                 3           2821         0                  8   \n",
       "221                 2           2622         0                  7   \n",
       "1343                1           2062         0                 11   \n",
       "753                 1          10880         1                 21   \n",
       "...               ...            ...       ...                ...   \n",
       "1044                3           6651         0                 20   \n",
       "163                 4           9439         1                 12   \n",
       "107                 3           5744         1                  6   \n",
       "715                 2           5488         1                  6   \n",
       "471                 3           9824         0                 18   \n",
       "\n",
       "      WorkLifeBalance  ...  Department_Sales  EducationField_Human Resources  \\\n",
       "871                 1  ...                 0                               0   \n",
       "765                 3  ...                 0                               0   \n",
       "221                 3  ...                 0                               0   \n",
       "1343                3  ...                 0                               0   \n",
       "753                 3  ...                 0                               0   \n",
       "...               ...  ...               ...                             ...   \n",
       "1044                2  ...                 0                               0   \n",
       "163                 1  ...                 0                               0   \n",
       "107                 3  ...                 1                               0   \n",
       "715                 3  ...                 0                               0   \n",
       "471                 3  ...                 0                               0   \n",
       "\n",
       "      EducationField_Life Sciences  EducationField_Marketing  \\\n",
       "871                              1                         0   \n",
       "765                              0                         0   \n",
       "221                              0                         0   \n",
       "1343                             1                         0   \n",
       "753                              0                         0   \n",
       "...                            ...                       ...   \n",
       "1044                             0                         0   \n",
       "163                              1                         0   \n",
       "107                              0                         1   \n",
       "715                              0                         0   \n",
       "471                              0                         0   \n",
       "\n",
       "      EducationField_Medical  EducationField_Other  \\\n",
       "871                        0                     0   \n",
       "765                        0                     1   \n",
       "221                        1                     0   \n",
       "1343                       0                     0   \n",
       "753                        1                     0   \n",
       "...                      ...                   ...   \n",
       "1044                       0                     0   \n",
       "163                        0                     0   \n",
       "107                        0                     0   \n",
       "715                        0                     1   \n",
       "471                        1                     0   \n",
       "\n",
       "      EducationField_Technical Degree  MaritalStatus_Divorced  \\\n",
       "871                                 0                       0   \n",
       "765                                 0                       0   \n",
       "221                                 0                       0   \n",
       "1343                                0                       0   \n",
       "753                                 0                       0   \n",
       "...                               ...                     ...   \n",
       "1044                                1                       0   \n",
       "163                                 0                       1   \n",
       "107                                 0                       0   \n",
       "715                                 0                       0   \n",
       "471                                 0                       0   \n",
       "\n",
       "      MaritalStatus_Married  MaritalStatus_Single  \n",
       "871                       1                     0  \n",
       "765                       1                     0  \n",
       "221                       1                     0  \n",
       "1343                      0                     1  \n",
       "753                       0                     1  \n",
       "...                     ...                   ...  \n",
       "1044                      1                     0  \n",
       "163                       0                     0  \n",
       "107                       0                     1  \n",
       "715                       1                     0  \n",
       "471                       1                     0  \n",
       "\n",
       "[294 rows x 30 columns]"
      ]
     },
     "execution_count": 22,
     "metadata": {},
     "output_type": "execute_result"
    }
   ],
   "source": [
    " X_valid"
   ]
  },
  {
   "cell_type": "code",
   "execution_count": 23,
   "id": "62b6a24d",
   "metadata": {},
   "outputs": [
    {
     "name": "stderr",
     "output_type": "stream",
     "text": [
      "C:\\ProgramData\\Anaconda3\\lib\\site-packages\\seaborn\\_decorators.py:36: FutureWarning: Pass the following variable as a keyword arg: x. From version 0.12, the only valid positional argument will be `data`, and passing other arguments without an explicit keyword will result in an error or misinterpretation.\n",
      "  warnings.warn(\n"
     ]
    },
    {
     "data": {
      "text/plain": [
       "<AxesSubplot:xlabel='Attrition', ylabel='count'>"
      ]
     },
     "execution_count": 23,
     "metadata": {},
     "output_type": "execute_result"
    },
    {
     "data": {
      "image/png": "[encoded data removed]",
      "text/plain": [
       "<Figure size 432x288 with 1 Axes>"
      ]
     },
     "metadata": {
      "needs_background": "light"
     },
     "output_type": "display_data"
    }
   ],
   "source": [
    "sns.countplot(y_valid)"
   ]
  },
  {
   "cell_type": "code",
   "execution_count": 98,
   "id": "65ff059c",
   "metadata": {},
   "outputs": [
    {
     "data": {
      "text/html": [
       "<div>\n",
       "<style scoped>\n",
       "    .dataframe tbody tr th:only-of-type {\n",
       "        vertical-align: middle;\n",
       "    }\n",
       "\n",
       "    .dataframe tbody tr th {\n",
       "        vertical-align: top;\n",
       "    }\n",
       "\n",
       "    .dataframe thead th {\n",
       "        text-align: right;\n",
       "    }\n",
       "</style>\n",
       "<table border=\"1\" class=\"dataframe\">\n",
       "  <thead>\n",
       "    <tr style=\"text-align: right;\">\n",
       "      <th></th>\n",
       "      <th>Age</th>\n",
       "      <th>EnvironmentSatisfaction</th>\n",
       "      <th>Gender</th>\n",
       "      <th>JobInvolvement</th>\n",
       "      <th>JobLevel</th>\n",
       "      <th>JobSatisfaction</th>\n",
       "      <th>MonthlyIncome</th>\n",
       "      <th>OverTime</th>\n",
       "      <th>TotalWorkingYears</th>\n",
       "      <th>WorkLifeBalance</th>\n",
       "      <th>...</th>\n",
       "      <th>Department_Sales</th>\n",
       "      <th>EducationField_Human Resources</th>\n",
       "      <th>EducationField_Life Sciences</th>\n",
       "      <th>EducationField_Marketing</th>\n",
       "      <th>EducationField_Medical</th>\n",
       "      <th>EducationField_Other</th>\n",
       "      <th>EducationField_Technical Degree</th>\n",
       "      <th>MaritalStatus_Divorced</th>\n",
       "      <th>MaritalStatus_Married</th>\n",
       "      <th>MaritalStatus_Single</th>\n",
       "    </tr>\n",
       "  </thead>\n",
       "  <tbody>\n",
       "    <tr>\n",
       "      <th>932</th>\n",
       "      <td>29</td>\n",
       "      <td>2</td>\n",
       "      <td>0</td>\n",
       "      <td>3</td>\n",
       "      <td>1</td>\n",
       "      <td>3</td>\n",
       "      <td>3339</td>\n",
       "      <td>1</td>\n",
       "      <td>10</td>\n",
       "      <td>3</td>\n",
       "      <td>...</td>\n",
       "      <td>0</td>\n",
       "      <td>0</td>\n",
       "      <td>0</td>\n",
       "      <td>0</td>\n",
       "      <td>0</td>\n",
       "      <td>0</td>\n",
       "      <td>1</td>\n",
       "      <td>1</td>\n",
       "      <td>0</td>\n",
       "      <td>0</td>\n",
       "    </tr>\n",
       "    <tr>\n",
       "      <th>29</th>\n",
       "      <td>46</td>\n",
       "      <td>2</td>\n",
       "      <td>0</td>\n",
       "      <td>3</td>\n",
       "      <td>5</td>\n",
       "      <td>1</td>\n",
       "      <td>18947</td>\n",
       "      <td>0</td>\n",
       "      <td>22</td>\n",
       "      <td>2</td>\n",
       "      <td>...</td>\n",
       "      <td>1</td>\n",
       "      <td>0</td>\n",
       "      <td>0</td>\n",
       "      <td>1</td>\n",
       "      <td>0</td>\n",
       "      <td>0</td>\n",
       "      <td>0</td>\n",
       "      <td>0</td>\n",
       "      <td>0</td>\n",
       "      <td>1</td>\n",
       "    </tr>\n",
       "    <tr>\n",
       "      <th>1046</th>\n",
       "      <td>44</td>\n",
       "      <td>4</td>\n",
       "      <td>1</td>\n",
       "      <td>3</td>\n",
       "      <td>1</td>\n",
       "      <td>2</td>\n",
       "      <td>3420</td>\n",
       "      <td>0</td>\n",
       "      <td>6</td>\n",
       "      <td>2</td>\n",
       "      <td>...</td>\n",
       "      <td>0</td>\n",
       "      <td>0</td>\n",
       "      <td>1</td>\n",
       "      <td>0</td>\n",
       "      <td>0</td>\n",
       "      <td>0</td>\n",
       "      <td>0</td>\n",
       "      <td>0</td>\n",
       "      <td>0</td>\n",
       "      <td>1</td>\n",
       "    </tr>\n",
       "    <tr>\n",
       "      <th>512</th>\n",
       "      <td>27</td>\n",
       "      <td>1</td>\n",
       "      <td>1</td>\n",
       "      <td>2</td>\n",
       "      <td>1</td>\n",
       "      <td>4</td>\n",
       "      <td>2045</td>\n",
       "      <td>0</td>\n",
       "      <td>5</td>\n",
       "      <td>3</td>\n",
       "      <td>...</td>\n",
       "      <td>0</td>\n",
       "      <td>0</td>\n",
       "      <td>0</td>\n",
       "      <td>0</td>\n",
       "      <td>1</td>\n",
       "      <td>0</td>\n",
       "      <td>0</td>\n",
       "      <td>0</td>\n",
       "      <td>0</td>\n",
       "      <td>1</td>\n",
       "    </tr>\n",
       "    <tr>\n",
       "      <th>1349</th>\n",
       "      <td>26</td>\n",
       "      <td>2</td>\n",
       "      <td>0</td>\n",
       "      <td>2</td>\n",
       "      <td>1</td>\n",
       "      <td>3</td>\n",
       "      <td>2933</td>\n",
       "      <td>1</td>\n",
       "      <td>1</td>\n",
       "      <td>2</td>\n",
       "      <td>...</td>\n",
       "      <td>0</td>\n",
       "      <td>0</td>\n",
       "      <td>1</td>\n",
       "      <td>0</td>\n",
       "      <td>0</td>\n",
       "      <td>0</td>\n",
       "      <td>0</td>\n",
       "      <td>0</td>\n",
       "      <td>1</td>\n",
       "      <td>0</td>\n",
       "    </tr>\n",
       "    <tr>\n",
       "      <th>...</th>\n",
       "      <td>...</td>\n",
       "      <td>...</td>\n",
       "      <td>...</td>\n",
       "      <td>...</td>\n",
       "      <td>...</td>\n",
       "      <td>...</td>\n",
       "      <td>...</td>\n",
       "      <td>...</td>\n",
       "      <td>...</td>\n",
       "      <td>...</td>\n",
       "      <td>...</td>\n",
       "      <td>...</td>\n",
       "      <td>...</td>\n",
       "      <td>...</td>\n",
       "      <td>...</td>\n",
       "      <td>...</td>\n",
       "      <td>...</td>\n",
       "      <td>...</td>\n",
       "      <td>...</td>\n",
       "      <td>...</td>\n",
       "      <td>...</td>\n",
       "    </tr>\n",
       "    <tr>\n",
       "      <th>333</th>\n",
       "      <td>43</td>\n",
       "      <td>3</td>\n",
       "      <td>0</td>\n",
       "      <td>3</td>\n",
       "      <td>3</td>\n",
       "      <td>1</td>\n",
       "      <td>9985</td>\n",
       "      <td>0</td>\n",
       "      <td>10</td>\n",
       "      <td>2</td>\n",
       "      <td>...</td>\n",
       "      <td>0</td>\n",
       "      <td>0</td>\n",
       "      <td>1</td>\n",
       "      <td>0</td>\n",
       "      <td>0</td>\n",
       "      <td>0</td>\n",
       "      <td>0</td>\n",
       "      <td>0</td>\n",
       "      <td>1</td>\n",
       "      <td>0</td>\n",
       "    </tr>\n",
       "    <tr>\n",
       "      <th>1079</th>\n",
       "      <td>39</td>\n",
       "      <td>2</td>\n",
       "      <td>0</td>\n",
       "      <td>3</td>\n",
       "      <td>3</td>\n",
       "      <td>2</td>\n",
       "      <td>8376</td>\n",
       "      <td>0</td>\n",
       "      <td>9</td>\n",
       "      <td>3</td>\n",
       "      <td>...</td>\n",
       "      <td>0</td>\n",
       "      <td>0</td>\n",
       "      <td>1</td>\n",
       "      <td>0</td>\n",
       "      <td>0</td>\n",
       "      <td>0</td>\n",
       "      <td>0</td>\n",
       "      <td>0</td>\n",
       "      <td>0</td>\n",
       "      <td>1</td>\n",
       "    </tr>\n",
       "    <tr>\n",
       "      <th>1123</th>\n",
       "      <td>35</td>\n",
       "      <td>1</td>\n",
       "      <td>0</td>\n",
       "      <td>3</td>\n",
       "      <td>2</td>\n",
       "      <td>3</td>\n",
       "      <td>6142</td>\n",
       "      <td>1</td>\n",
       "      <td>10</td>\n",
       "      <td>3</td>\n",
       "      <td>...</td>\n",
       "      <td>0</td>\n",
       "      <td>0</td>\n",
       "      <td>0</td>\n",
       "      <td>0</td>\n",
       "      <td>1</td>\n",
       "      <td>0</td>\n",
       "      <td>0</td>\n",
       "      <td>0</td>\n",
       "      <td>0</td>\n",
       "      <td>1</td>\n",
       "    </tr>\n",
       "    <tr>\n",
       "      <th>1143</th>\n",
       "      <td>45</td>\n",
       "      <td>1</td>\n",
       "      <td>1</td>\n",
       "      <td>2</td>\n",
       "      <td>2</td>\n",
       "      <td>1</td>\n",
       "      <td>4385</td>\n",
       "      <td>0</td>\n",
       "      <td>10</td>\n",
       "      <td>3</td>\n",
       "      <td>...</td>\n",
       "      <td>1</td>\n",
       "      <td>0</td>\n",
       "      <td>0</td>\n",
       "      <td>1</td>\n",
       "      <td>0</td>\n",
       "      <td>0</td>\n",
       "      <td>0</td>\n",
       "      <td>0</td>\n",
       "      <td>1</td>\n",
       "      <td>0</td>\n",
       "    </tr>\n",
       "    <tr>\n",
       "      <th>637</th>\n",
       "      <td>32</td>\n",
       "      <td>4</td>\n",
       "      <td>1</td>\n",
       "      <td>3</td>\n",
       "      <td>1</td>\n",
       "      <td>4</td>\n",
       "      <td>2314</td>\n",
       "      <td>0</td>\n",
       "      <td>4</td>\n",
       "      <td>3</td>\n",
       "      <td>...</td>\n",
       "      <td>0</td>\n",
       "      <td>0</td>\n",
       "      <td>1</td>\n",
       "      <td>0</td>\n",
       "      <td>0</td>\n",
       "      <td>0</td>\n",
       "      <td>0</td>\n",
       "      <td>1</td>\n",
       "      <td>0</td>\n",
       "      <td>0</td>\n",
       "    </tr>\n",
       "  </tbody>\n",
       "</table>\n",
       "<p>294 rows × 30 columns</p>\n",
       "</div>"
      ],
      "text/plain": [
       "      Age  EnvironmentSatisfaction  Gender  JobInvolvement  JobLevel  \\\n",
       "932    29                        2       0               3         1   \n",
       "29     46                        2       0               3         5   \n",
       "1046   44                        4       1               3         1   \n",
       "512    27                        1       1               2         1   \n",
       "1349   26                        2       0               2         1   \n",
       "...   ...                      ...     ...             ...       ...   \n",
       "333    43                        3       0               3         3   \n",
       "1079   39                        2       0               3         3   \n",
       "1123   35                        1       0               3         2   \n",
       "1143   45                        1       1               2         2   \n",
       "637    32                        4       1               3         1   \n",
       "\n",
       "      JobSatisfaction  MonthlyIncome  OverTime  TotalWorkingYears  \\\n",
       "932                 3           3339         1                 10   \n",
       "29                  1          18947         0                 22   \n",
       "1046                2           3420         0                  6   \n",
       "512                 4           2045         0                  5   \n",
       "1349                3           2933         1                  1   \n",
       "...               ...            ...       ...                ...   \n",
       "333                 1           9985         0                 10   \n",
       "1079                2           8376         0                  9   \n",
       "1123                3           6142         1                 10   \n",
       "1143                1           4385         0                 10   \n",
       "637                 4           2314         0                  4   \n",
       "\n",
       "      WorkLifeBalance  ...  Department_Sales  EducationField_Human Resources  \\\n",
       "932                 3  ...                 0                               0   \n",
       "29                  2  ...                 1                               0   \n",
       "1046                2  ...                 0                               0   \n",
       "512                 3  ...                 0                               0   \n",
       "1349                2  ...                 0                               0   \n",
       "...               ...  ...               ...                             ...   \n",
       "333                 2  ...                 0                               0   \n",
       "1079                3  ...                 0                               0   \n",
       "1123                3  ...                 0                               0   \n",
       "1143                3  ...                 1                               0   \n",
       "637                 3  ...                 0                               0   \n",
       "\n",
       "      EducationField_Life Sciences  EducationField_Marketing  \\\n",
       "932                              0                         0   \n",
       "29                               0                         1   \n",
       "1046                             1                         0   \n",
       "512                              0                         0   \n",
       "1349                             1                         0   \n",
       "...                            ...                       ...   \n",
       "333                              1                         0   \n",
       "1079                             1                         0   \n",
       "1123                             0                         0   \n",
       "1143                             0                         1   \n",
       "637                              1                         0   \n",
       "\n",
       "      EducationField_Medical  EducationField_Other  \\\n",
       "932                        0                     0   \n",
       "29                         0                     0   \n",
       "1046                       0                     0   \n",
       "512                        1                     0   \n",
       "1349                       0                     0   \n",
       "...                      ...                   ...   \n",
       "333                        0                     0   \n",
       "1079                       0                     0   \n",
       "1123                       1                     0   \n",
       "1143                       0                     0   \n",
       "637                        0                     0   \n",
       "\n",
       "      EducationField_Technical Degree  MaritalStatus_Divorced  \\\n",
       "932                                 1                       1   \n",
       "29                                  0                       0   \n",
       "1046                                0                       0   \n",
       "512                                 0                       0   \n",
       "1349                                0                       0   \n",
       "...                               ...                     ...   \n",
       "333                                 0                       0   \n",
       "1079                                0                       0   \n",
       "1123                                0                       0   \n",
       "1143                                0                       0   \n",
       "637                                 0                       1   \n",
       "\n",
       "      MaritalStatus_Married  MaritalStatus_Single  \n",
       "932                       0                     0  \n",
       "29                        0                     1  \n",
       "1046                      0                     1  \n",
       "512                       0                     1  \n",
       "1349                      1                     0  \n",
       "...                     ...                   ...  \n",
       "333                       1                     0  \n",
       "1079                      0                     1  \n",
       "1123                      0                     1  \n",
       "1143                      1                     0  \n",
       "637                       0                     0  \n",
       "\n",
       "[294 rows x 30 columns]"
      ]
     },
     "execution_count": 98,
     "metadata": {},
     "output_type": "execute_result"
    }
   ],
   "source": [
    " X_test"
   ]
  },
  {
   "cell_type": "code",
   "execution_count": 99,
   "id": "9e045da6",
   "metadata": {},
   "outputs": [
    {
     "name": "stderr",
     "output_type": "stream",
     "text": [
      "C:\\ProgramData\\Anaconda3\\lib\\site-packages\\seaborn\\_decorators.py:36: FutureWarning: Pass the following variable as a keyword arg: x. From version 0.12, the only valid positional argument will be `data`, and passing other arguments without an explicit keyword will result in an error or misinterpretation.\n",
      "  warnings.warn(\n"
     ]
    },
    {
     "data": {
      "text/plain": [
       "<AxesSubplot:xlabel='Attrition', ylabel='count'>"
      ]
     },
     "execution_count": 99,
     "metadata": {},
     "output_type": "execute_result"
    },
    {
     "data": {
      "image/png": "[encoded data removed]",
      "text/plain": [
       "<Figure size 432x288 with 1 Axes>"
      ]
     },
     "metadata": {
      "needs_background": "light"
     },
     "output_type": "display_data"
    }
   ],
   "source": [
    "sns.countplot(y_test)"
   ]
  },
  {
   "cell_type": "code",
   "execution_count": 56,
   "id": "0f275d47",
   "metadata": {},
   "outputs": [],
   "source": [
    "from imblearn.over_sampling import SMOTE\n",
    "smote = SMOTE(sampling_strategy='minority')\n",
    "X_train ,y_train = smote.fit_resample(X_train ,y_train)"
   ]
  },
  {
   "cell_type": "code",
   "execution_count": 26,
   "id": "52a2a935",
   "metadata": {},
   "outputs": [
    {
     "name": "stderr",
     "output_type": "stream",
     "text": [
      "C:\\ProgramData\\Anaconda3\\lib\\site-packages\\seaborn\\_decorators.py:36: FutureWarning: Pass the following variable as a keyword arg: x. From version 0.12, the only valid positional argument will be `data`, and passing other arguments without an explicit keyword will result in an error or misinterpretation.\n",
      "  warnings.warn(\n"
     ]
    },
    {
     "data": {
      "text/plain": [
       "<AxesSubplot:xlabel='Attrition', ylabel='count'>"
      ]
     },
     "execution_count": 26,
     "metadata": {},
     "output_type": "execute_result"
    },
    {
     "data": {
      "image/png": "[encoded data removed]",
      "text/plain": [
       "<Figure size 432x288 with 1 Axes>"
      ]
     },
     "metadata": {
      "needs_background": "light"
     },
     "output_type": "display_data"
    }
   ],
   "source": [
    "sns.countplot(y_train)"
   ]
  },
  {
   "cell_type": "code",
   "execution_count": 55,
   "id": "538f87bf",
   "metadata": {},
   "outputs": [],
   "source": []
  },
  {
   "cell_type": "code",
   "execution_count": 56,
   "id": "01c7a1cb",
   "metadata": {},
   "outputs": [],
   "source": []
  },
  {
   "cell_type": "code",
   "execution_count": 57,
   "id": "76cbdcf9",
   "metadata": {},
   "outputs": [],
   "source": [
    "from sklearn.preprocessing import StandardScaler\n",
    "scaler = StandardScaler()\n",
    "\n",
    "X_train = pd.DataFrame(scaler.fit_transform(X_train), columns = X_train.columns)\n",
    "X_valid = pd.DataFrame(scaler.transform(X_valid), columns = X_valid.columns)\n",
    "X_test= pd.DataFrame(scaler.transform(X_test), columns = X_test.columns)"
   ]
  },
  {
   "cell_type": "code",
   "execution_count": 28,
   "id": "9f4393b5",
   "metadata": {},
   "outputs": [
    {
     "data": {
      "text/html": [
       "<div>\n",
       "<style scoped>\n",
       "    .dataframe tbody tr th:only-of-type {\n",
       "        vertical-align: middle;\n",
       "    }\n",
       "\n",
       "    .dataframe tbody tr th {\n",
       "        vertical-align: top;\n",
       "    }\n",
       "\n",
       "    .dataframe thead th {\n",
       "        text-align: right;\n",
       "    }\n",
       "</style>\n",
       "<table border=\"1\" class=\"dataframe\">\n",
       "  <thead>\n",
       "    <tr style=\"text-align: right;\">\n",
       "      <th></th>\n",
       "      <th>Age</th>\n",
       "      <th>EnvironmentSatisfaction</th>\n",
       "      <th>Gender</th>\n",
       "      <th>JobInvolvement</th>\n",
       "      <th>JobLevel</th>\n",
       "      <th>JobSatisfaction</th>\n",
       "      <th>MonthlyIncome</th>\n",
       "      <th>OverTime</th>\n",
       "      <th>TotalWorkingYears</th>\n",
       "      <th>WorkLifeBalance</th>\n",
       "      <th>...</th>\n",
       "      <th>Department_Sales</th>\n",
       "      <th>EducationField_Human Resources</th>\n",
       "      <th>EducationField_Life Sciences</th>\n",
       "      <th>EducationField_Marketing</th>\n",
       "      <th>EducationField_Medical</th>\n",
       "      <th>EducationField_Other</th>\n",
       "      <th>EducationField_Technical Degree</th>\n",
       "      <th>MaritalStatus_Divorced</th>\n",
       "      <th>MaritalStatus_Married</th>\n",
       "      <th>MaritalStatus_Single</th>\n",
       "    </tr>\n",
       "  </thead>\n",
       "  <tbody>\n",
       "    <tr>\n",
       "      <th>0</th>\n",
       "      <td>-0.513834</td>\n",
       "      <td>0.547963</td>\n",
       "      <td>-1.021653</td>\n",
       "      <td>-0.710676</td>\n",
       "      <td>0.121521</td>\n",
       "      <td>-1.406156</td>\n",
       "      <td>0.238100</td>\n",
       "      <td>-0.650275</td>\n",
       "      <td>-0.001690</td>\n",
       "      <td>0.567983</td>\n",
       "      <td>...</td>\n",
       "      <td>-0.56756</td>\n",
       "      <td>-0.107284</td>\n",
       "      <td>-0.649233</td>\n",
       "      <td>-0.281922</td>\n",
       "      <td>1.870829</td>\n",
       "      <td>-0.189897</td>\n",
       "      <td>-0.257645</td>\n",
       "      <td>-0.405535</td>\n",
       "      <td>-0.680640</td>\n",
       "      <td>1.583364</td>\n",
       "    </tr>\n",
       "    <tr>\n",
       "      <th>1</th>\n",
       "      <td>0.736255</td>\n",
       "      <td>-0.390863</td>\n",
       "      <td>0.978806</td>\n",
       "      <td>-2.042859</td>\n",
       "      <td>0.121521</td>\n",
       "      <td>1.420028</td>\n",
       "      <td>-0.352463</td>\n",
       "      <td>-0.650275</td>\n",
       "      <td>0.795831</td>\n",
       "      <td>0.567983</td>\n",
       "      <td>...</td>\n",
       "      <td>-0.56756</td>\n",
       "      <td>-0.107284</td>\n",
       "      <td>-0.649233</td>\n",
       "      <td>-0.281922</td>\n",
       "      <td>1.870829</td>\n",
       "      <td>-0.189897</td>\n",
       "      <td>-0.257645</td>\n",
       "      <td>-0.405535</td>\n",
       "      <td>-0.680640</td>\n",
       "      <td>1.583364</td>\n",
       "    </tr>\n",
       "    <tr>\n",
       "      <th>2</th>\n",
       "      <td>-0.513834</td>\n",
       "      <td>-0.390863</td>\n",
       "      <td>0.978806</td>\n",
       "      <td>-0.710676</td>\n",
       "      <td>-0.839073</td>\n",
       "      <td>0.477967</td>\n",
       "      <td>-0.804220</td>\n",
       "      <td>-0.650275</td>\n",
       "      <td>0.397070</td>\n",
       "      <td>1.902207</td>\n",
       "      <td>...</td>\n",
       "      <td>1.76193</td>\n",
       "      <td>-0.107284</td>\n",
       "      <td>1.540279</td>\n",
       "      <td>-0.281922</td>\n",
       "      <td>-0.534522</td>\n",
       "      <td>-0.189897</td>\n",
       "      <td>-0.257645</td>\n",
       "      <td>-0.405535</td>\n",
       "      <td>1.469205</td>\n",
       "      <td>-0.631567</td>\n",
       "    </tr>\n",
       "    <tr>\n",
       "      <th>3</th>\n",
       "      <td>0.281677</td>\n",
       "      <td>0.547963</td>\n",
       "      <td>-1.021653</td>\n",
       "      <td>0.621507</td>\n",
       "      <td>-0.839073</td>\n",
       "      <td>-1.406156</td>\n",
       "      <td>-0.736793</td>\n",
       "      <td>-0.650275</td>\n",
       "      <td>-0.267531</td>\n",
       "      <td>-0.766241</td>\n",
       "      <td>...</td>\n",
       "      <td>-0.56756</td>\n",
       "      <td>-0.107284</td>\n",
       "      <td>1.540279</td>\n",
       "      <td>-0.281922</td>\n",
       "      <td>-0.534522</td>\n",
       "      <td>-0.189897</td>\n",
       "      <td>-0.257645</td>\n",
       "      <td>-0.405535</td>\n",
       "      <td>-0.680640</td>\n",
       "      <td>1.583364</td>\n",
       "    </tr>\n",
       "    <tr>\n",
       "      <th>4</th>\n",
       "      <td>-0.059256</td>\n",
       "      <td>0.547963</td>\n",
       "      <td>-1.021653</td>\n",
       "      <td>0.621507</td>\n",
       "      <td>-0.839073</td>\n",
       "      <td>-1.406156</td>\n",
       "      <td>-0.412449</td>\n",
       "      <td>1.537812</td>\n",
       "      <td>-0.799211</td>\n",
       "      <td>0.567983</td>\n",
       "      <td>...</td>\n",
       "      <td>-0.56756</td>\n",
       "      <td>-0.107284</td>\n",
       "      <td>-0.649233</td>\n",
       "      <td>-0.281922</td>\n",
       "      <td>1.870829</td>\n",
       "      <td>-0.189897</td>\n",
       "      <td>-0.257645</td>\n",
       "      <td>-0.405535</td>\n",
       "      <td>1.469205</td>\n",
       "      <td>-0.631567</td>\n",
       "    </tr>\n",
       "  </tbody>\n",
       "</table>\n",
       "<p>5 rows × 30 columns</p>\n",
       "</div>"
      ],
      "text/plain": [
       "        Age  EnvironmentSatisfaction    Gender  JobInvolvement  JobLevel  \\\n",
       "0 -0.513834                 0.547963 -1.021653       -0.710676  0.121521   \n",
       "1  0.736255                -0.390863  0.978806       -2.042859  0.121521   \n",
       "2 -0.513834                -0.390863  0.978806       -0.710676 -0.839073   \n",
       "3  0.281677                 0.547963 -1.021653        0.621507 -0.839073   \n",
       "4 -0.059256                 0.547963 -1.021653        0.621507 -0.839073   \n",
       "\n",
       "   JobSatisfaction  MonthlyIncome  OverTime  TotalWorkingYears  \\\n",
       "0        -1.406156       0.238100 -0.650275          -0.001690   \n",
       "1         1.420028      -0.352463 -0.650275           0.795831   \n",
       "2         0.477967      -0.804220 -0.650275           0.397070   \n",
       "3        -1.406156      -0.736793 -0.650275          -0.267531   \n",
       "4        -1.406156      -0.412449  1.537812          -0.799211   \n",
       "\n",
       "   WorkLifeBalance  ...  Department_Sales  EducationField_Human Resources  \\\n",
       "0         0.567983  ...          -0.56756                       -0.107284   \n",
       "1         0.567983  ...          -0.56756                       -0.107284   \n",
       "2         1.902207  ...           1.76193                       -0.107284   \n",
       "3        -0.766241  ...          -0.56756                       -0.107284   \n",
       "4         0.567983  ...          -0.56756                       -0.107284   \n",
       "\n",
       "   EducationField_Life Sciences  EducationField_Marketing  \\\n",
       "0                     -0.649233                 -0.281922   \n",
       "1                     -0.649233                 -0.281922   \n",
       "2                      1.540279                 -0.281922   \n",
       "3                      1.540279                 -0.281922   \n",
       "4                     -0.649233                 -0.281922   \n",
       "\n",
       "   EducationField_Medical  EducationField_Other  \\\n",
       "0                1.870829             -0.189897   \n",
       "1                1.870829             -0.189897   \n",
       "2               -0.534522             -0.189897   \n",
       "3               -0.534522             -0.189897   \n",
       "4                1.870829             -0.189897   \n",
       "\n",
       "   EducationField_Technical Degree  MaritalStatus_Divorced  \\\n",
       "0                        -0.257645               -0.405535   \n",
       "1                        -0.257645               -0.405535   \n",
       "2                        -0.257645               -0.405535   \n",
       "3                        -0.257645               -0.405535   \n",
       "4                        -0.257645               -0.405535   \n",
       "\n",
       "   MaritalStatus_Married  MaritalStatus_Single  \n",
       "0              -0.680640              1.583364  \n",
       "1              -0.680640              1.583364  \n",
       "2               1.469205             -0.631567  \n",
       "3              -0.680640              1.583364  \n",
       "4               1.469205             -0.631567  \n",
       "\n",
       "[5 rows x 30 columns]"
      ]
     },
     "execution_count": 28,
     "metadata": {},
     "output_type": "execute_result"
    }
   ],
   "source": [
    "X_train.head()"
   ]
  },
  {
   "cell_type": "code",
   "execution_count": 127,
   "id": "22b0008a",
   "metadata": {},
   "outputs": [
    {
     "data": {
      "text/html": [
       "<div>\n",
       "<style scoped>\n",
       "    .dataframe tbody tr th:only-of-type {\n",
       "        vertical-align: middle;\n",
       "    }\n",
       "\n",
       "    .dataframe tbody tr th {\n",
       "        vertical-align: top;\n",
       "    }\n",
       "\n",
       "    .dataframe thead th {\n",
       "        text-align: right;\n",
       "    }\n",
       "</style>\n",
       "<table border=\"1\" class=\"dataframe\">\n",
       "  <thead>\n",
       "    <tr style=\"text-align: right;\">\n",
       "      <th></th>\n",
       "      <th>Age</th>\n",
       "      <th>EnvironmentSatisfaction</th>\n",
       "      <th>Gender</th>\n",
       "      <th>JobInvolvement</th>\n",
       "      <th>JobLevel</th>\n",
       "      <th>JobSatisfaction</th>\n",
       "      <th>MonthlyIncome</th>\n",
       "      <th>OverTime</th>\n",
       "      <th>TotalWorkingYears</th>\n",
       "      <th>WorkLifeBalance</th>\n",
       "      <th>...</th>\n",
       "      <th>Department_Sales</th>\n",
       "      <th>EducationField_Human Resources</th>\n",
       "      <th>EducationField_Life Sciences</th>\n",
       "      <th>EducationField_Marketing</th>\n",
       "      <th>EducationField_Medical</th>\n",
       "      <th>EducationField_Other</th>\n",
       "      <th>EducationField_Technical Degree</th>\n",
       "      <th>MaritalStatus_Divorced</th>\n",
       "      <th>MaritalStatus_Married</th>\n",
       "      <th>MaritalStatus_Single</th>\n",
       "    </tr>\n",
       "  </thead>\n",
       "  <tbody>\n",
       "    <tr>\n",
       "      <th>0</th>\n",
       "      <td>0.472889</td>\n",
       "      <td>0.162714</td>\n",
       "      <td>0.801535</td>\n",
       "      <td>-0.927792</td>\n",
       "      <td>-0.047851</td>\n",
       "      <td>-0.587261</td>\n",
       "      <td>0.517580</td>\n",
       "      <td>-0.664211</td>\n",
       "      <td>0.282562</td>\n",
       "      <td>0.313261</td>\n",
       "      <td>...</td>\n",
       "      <td>1.542501</td>\n",
       "      <td>-0.144338</td>\n",
       "      <td>1.179086</td>\n",
       "      <td>-0.324443</td>\n",
       "      <td>-0.712525</td>\n",
       "      <td>-0.231869</td>\n",
       "      <td>-0.291326</td>\n",
       "      <td>1.995758</td>\n",
       "      <td>-0.946982</td>\n",
       "      <td>-0.696311</td>\n",
       "    </tr>\n",
       "    <tr>\n",
       "      <th>1</th>\n",
       "      <td>-0.200377</td>\n",
       "      <td>1.100709</td>\n",
       "      <td>-1.247606</td>\n",
       "      <td>-0.927792</td>\n",
       "      <td>0.890030</td>\n",
       "      <td>0.284732</td>\n",
       "      <td>0.897348</td>\n",
       "      <td>1.505545</td>\n",
       "      <td>0.664801</td>\n",
       "      <td>0.313261</td>\n",
       "      <td>...</td>\n",
       "      <td>-0.648298</td>\n",
       "      <td>-0.144338</td>\n",
       "      <td>1.179086</td>\n",
       "      <td>-0.324443</td>\n",
       "      <td>-0.712525</td>\n",
       "      <td>-0.231869</td>\n",
       "      <td>-0.291326</td>\n",
       "      <td>-0.501063</td>\n",
       "      <td>1.055987</td>\n",
       "      <td>-0.696311</td>\n",
       "    </tr>\n",
       "    <tr>\n",
       "      <th>2</th>\n",
       "      <td>0.809521</td>\n",
       "      <td>-0.775282</td>\n",
       "      <td>0.801535</td>\n",
       "      <td>0.402797</td>\n",
       "      <td>-0.047851</td>\n",
       "      <td>-0.587261</td>\n",
       "      <td>-0.981492</td>\n",
       "      <td>-0.664211</td>\n",
       "      <td>0.664801</td>\n",
       "      <td>1.667654</td>\n",
       "      <td>...</td>\n",
       "      <td>-0.648298</td>\n",
       "      <td>-0.144338</td>\n",
       "      <td>-0.848115</td>\n",
       "      <td>-0.324443</td>\n",
       "      <td>1.403459</td>\n",
       "      <td>-0.231869</td>\n",
       "      <td>-0.291326</td>\n",
       "      <td>-0.501063</td>\n",
       "      <td>1.055987</td>\n",
       "      <td>-0.696311</td>\n",
       "    </tr>\n",
       "    <tr>\n",
       "      <th>3</th>\n",
       "      <td>-0.537009</td>\n",
       "      <td>1.100709</td>\n",
       "      <td>0.801535</td>\n",
       "      <td>-0.927792</td>\n",
       "      <td>-0.047851</td>\n",
       "      <td>-1.459253</td>\n",
       "      <td>-0.952362</td>\n",
       "      <td>-0.664211</td>\n",
       "      <td>-0.354503</td>\n",
       "      <td>0.313261</td>\n",
       "      <td>...</td>\n",
       "      <td>-0.648298</td>\n",
       "      <td>-0.144338</td>\n",
       "      <td>-0.848115</td>\n",
       "      <td>-0.324443</td>\n",
       "      <td>-0.712525</td>\n",
       "      <td>-0.231869</td>\n",
       "      <td>3.432580</td>\n",
       "      <td>-0.501063</td>\n",
       "      <td>-0.946982</td>\n",
       "      <td>1.436141</td>\n",
       "    </tr>\n",
       "    <tr>\n",
       "      <th>4</th>\n",
       "      <td>1.931630</td>\n",
       "      <td>-1.713278</td>\n",
       "      <td>-1.247606</td>\n",
       "      <td>0.402797</td>\n",
       "      <td>0.890030</td>\n",
       "      <td>0.284732</td>\n",
       "      <td>1.519933</td>\n",
       "      <td>-0.664211</td>\n",
       "      <td>0.537388</td>\n",
       "      <td>-2.395525</td>\n",
       "      <td>...</td>\n",
       "      <td>-0.648298</td>\n",
       "      <td>-0.144338</td>\n",
       "      <td>-0.848115</td>\n",
       "      <td>-0.324443</td>\n",
       "      <td>-0.712525</td>\n",
       "      <td>-0.231869</td>\n",
       "      <td>3.432580</td>\n",
       "      <td>-0.501063</td>\n",
       "      <td>1.055987</td>\n",
       "      <td>-0.696311</td>\n",
       "    </tr>\n",
       "    <tr>\n",
       "      <th>...</th>\n",
       "      <td>...</td>\n",
       "      <td>...</td>\n",
       "      <td>...</td>\n",
       "      <td>...</td>\n",
       "      <td>...</td>\n",
       "      <td>...</td>\n",
       "      <td>...</td>\n",
       "      <td>...</td>\n",
       "      <td>...</td>\n",
       "      <td>...</td>\n",
       "      <td>...</td>\n",
       "      <td>...</td>\n",
       "      <td>...</td>\n",
       "      <td>...</td>\n",
       "      <td>...</td>\n",
       "      <td>...</td>\n",
       "      <td>...</td>\n",
       "      <td>...</td>\n",
       "      <td>...</td>\n",
       "      <td>...</td>\n",
       "      <td>...</td>\n",
       "    </tr>\n",
       "    <tr>\n",
       "      <th>289</th>\n",
       "      <td>-0.312587</td>\n",
       "      <td>1.100709</td>\n",
       "      <td>-1.247606</td>\n",
       "      <td>-0.927792</td>\n",
       "      <td>-0.047851</td>\n",
       "      <td>1.156725</td>\n",
       "      <td>0.336066</td>\n",
       "      <td>1.505545</td>\n",
       "      <td>-0.354503</td>\n",
       "      <td>-1.041132</td>\n",
       "      <td>...</td>\n",
       "      <td>1.542501</td>\n",
       "      <td>-0.144338</td>\n",
       "      <td>-0.848115</td>\n",
       "      <td>-0.324443</td>\n",
       "      <td>1.403459</td>\n",
       "      <td>-0.231869</td>\n",
       "      <td>-0.291326</td>\n",
       "      <td>-0.501063</td>\n",
       "      <td>1.055987</td>\n",
       "      <td>-0.696311</td>\n",
       "    </tr>\n",
       "    <tr>\n",
       "      <th>290</th>\n",
       "      <td>0.136256</td>\n",
       "      <td>-1.713278</td>\n",
       "      <td>-1.247606</td>\n",
       "      <td>-0.927792</td>\n",
       "      <td>-0.047851</td>\n",
       "      <td>1.156725</td>\n",
       "      <td>0.462800</td>\n",
       "      <td>-0.664211</td>\n",
       "      <td>0.027736</td>\n",
       "      <td>1.667654</td>\n",
       "      <td>...</td>\n",
       "      <td>1.542501</td>\n",
       "      <td>-0.144338</td>\n",
       "      <td>1.179086</td>\n",
       "      <td>-0.324443</td>\n",
       "      <td>-0.712525</td>\n",
       "      <td>-0.231869</td>\n",
       "      <td>-0.291326</td>\n",
       "      <td>-0.501063</td>\n",
       "      <td>-0.946982</td>\n",
       "      <td>1.436141</td>\n",
       "    </tr>\n",
       "    <tr>\n",
       "      <th>291</th>\n",
       "      <td>-0.088166</td>\n",
       "      <td>0.162714</td>\n",
       "      <td>0.801535</td>\n",
       "      <td>0.402797</td>\n",
       "      <td>-0.985732</td>\n",
       "      <td>0.284732</td>\n",
       "      <td>-0.877800</td>\n",
       "      <td>-0.664211</td>\n",
       "      <td>0.537388</td>\n",
       "      <td>0.313261</td>\n",
       "      <td>...</td>\n",
       "      <td>-0.648298</td>\n",
       "      <td>-0.144338</td>\n",
       "      <td>-0.848115</td>\n",
       "      <td>-0.324443</td>\n",
       "      <td>1.403459</td>\n",
       "      <td>-0.231869</td>\n",
       "      <td>-0.291326</td>\n",
       "      <td>-0.501063</td>\n",
       "      <td>-0.946982</td>\n",
       "      <td>1.436141</td>\n",
       "    </tr>\n",
       "    <tr>\n",
       "      <th>292</th>\n",
       "      <td>-0.200377</td>\n",
       "      <td>0.162714</td>\n",
       "      <td>0.801535</td>\n",
       "      <td>0.402797</td>\n",
       "      <td>0.890030</td>\n",
       "      <td>1.156725</td>\n",
       "      <td>0.609751</td>\n",
       "      <td>-0.664211</td>\n",
       "      <td>-0.227090</td>\n",
       "      <td>0.313261</td>\n",
       "      <td>...</td>\n",
       "      <td>-0.648298</td>\n",
       "      <td>-0.144338</td>\n",
       "      <td>1.179086</td>\n",
       "      <td>-0.324443</td>\n",
       "      <td>-0.712525</td>\n",
       "      <td>-0.231869</td>\n",
       "      <td>-0.291326</td>\n",
       "      <td>-0.501063</td>\n",
       "      <td>-0.946982</td>\n",
       "      <td>1.436141</td>\n",
       "    </tr>\n",
       "    <tr>\n",
       "      <th>293</th>\n",
       "      <td>-0.537009</td>\n",
       "      <td>1.100709</td>\n",
       "      <td>0.801535</td>\n",
       "      <td>0.402797</td>\n",
       "      <td>-0.985732</td>\n",
       "      <td>-1.459253</td>\n",
       "      <td>-0.782804</td>\n",
       "      <td>-0.664211</td>\n",
       "      <td>-1.373806</td>\n",
       "      <td>0.313261</td>\n",
       "      <td>...</td>\n",
       "      <td>-0.648298</td>\n",
       "      <td>-0.144338</td>\n",
       "      <td>1.179086</td>\n",
       "      <td>-0.324443</td>\n",
       "      <td>-0.712525</td>\n",
       "      <td>-0.231869</td>\n",
       "      <td>-0.291326</td>\n",
       "      <td>-0.501063</td>\n",
       "      <td>-0.946982</td>\n",
       "      <td>1.436141</td>\n",
       "    </tr>\n",
       "  </tbody>\n",
       "</table>\n",
       "<p>294 rows × 30 columns</p>\n",
       "</div>"
      ],
      "text/plain": [
       "          Age  EnvironmentSatisfaction    Gender  JobInvolvement  JobLevel  \\\n",
       "0    0.472889                 0.162714  0.801535       -0.927792 -0.047851   \n",
       "1   -0.200377                 1.100709 -1.247606       -0.927792  0.890030   \n",
       "2    0.809521                -0.775282  0.801535        0.402797 -0.047851   \n",
       "3   -0.537009                 1.100709  0.801535       -0.927792 -0.047851   \n",
       "4    1.931630                -1.713278 -1.247606        0.402797  0.890030   \n",
       "..        ...                      ...       ...             ...       ...   \n",
       "289 -0.312587                 1.100709 -1.247606       -0.927792 -0.047851   \n",
       "290  0.136256                -1.713278 -1.247606       -0.927792 -0.047851   \n",
       "291 -0.088166                 0.162714  0.801535        0.402797 -0.985732   \n",
       "292 -0.200377                 0.162714  0.801535        0.402797  0.890030   \n",
       "293 -0.537009                 1.100709  0.801535        0.402797 -0.985732   \n",
       "\n",
       "     JobSatisfaction  MonthlyIncome  OverTime  TotalWorkingYears  \\\n",
       "0          -0.587261       0.517580 -0.664211           0.282562   \n",
       "1           0.284732       0.897348  1.505545           0.664801   \n",
       "2          -0.587261      -0.981492 -0.664211           0.664801   \n",
       "3          -1.459253      -0.952362 -0.664211          -0.354503   \n",
       "4           0.284732       1.519933 -0.664211           0.537388   \n",
       "..               ...            ...       ...                ...   \n",
       "289         1.156725       0.336066  1.505545          -0.354503   \n",
       "290         1.156725       0.462800 -0.664211           0.027736   \n",
       "291         0.284732      -0.877800 -0.664211           0.537388   \n",
       "292         1.156725       0.609751 -0.664211          -0.227090   \n",
       "293        -1.459253      -0.782804 -0.664211          -1.373806   \n",
       "\n",
       "     WorkLifeBalance  ...  Department_Sales  EducationField_Human Resources  \\\n",
       "0           0.313261  ...          1.542501                       -0.144338   \n",
       "1           0.313261  ...         -0.648298                       -0.144338   \n",
       "2           1.667654  ...         -0.648298                       -0.144338   \n",
       "3           0.313261  ...         -0.648298                       -0.144338   \n",
       "4          -2.395525  ...         -0.648298                       -0.144338   \n",
       "..               ...  ...               ...                             ...   \n",
       "289        -1.041132  ...          1.542501                       -0.144338   \n",
       "290         1.667654  ...          1.542501                       -0.144338   \n",
       "291         0.313261  ...         -0.648298                       -0.144338   \n",
       "292         0.313261  ...         -0.648298                       -0.144338   \n",
       "293         0.313261  ...         -0.648298                       -0.144338   \n",
       "\n",
       "     EducationField_Life Sciences  EducationField_Marketing  \\\n",
       "0                        1.179086                 -0.324443   \n",
       "1                        1.179086                 -0.324443   \n",
       "2                       -0.848115                 -0.324443   \n",
       "3                       -0.848115                 -0.324443   \n",
       "4                       -0.848115                 -0.324443   \n",
       "..                            ...                       ...   \n",
       "289                     -0.848115                 -0.324443   \n",
       "290                      1.179086                 -0.324443   \n",
       "291                     -0.848115                 -0.324443   \n",
       "292                      1.179086                 -0.324443   \n",
       "293                      1.179086                 -0.324443   \n",
       "\n",
       "     EducationField_Medical  EducationField_Other  \\\n",
       "0                 -0.712525             -0.231869   \n",
       "1                 -0.712525             -0.231869   \n",
       "2                  1.403459             -0.231869   \n",
       "3                 -0.712525             -0.231869   \n",
       "4                 -0.712525             -0.231869   \n",
       "..                      ...                   ...   \n",
       "289                1.403459             -0.231869   \n",
       "290               -0.712525             -0.231869   \n",
       "291                1.403459             -0.231869   \n",
       "292               -0.712525             -0.231869   \n",
       "293               -0.712525             -0.231869   \n",
       "\n",
       "     EducationField_Technical Degree  MaritalStatus_Divorced  \\\n",
       "0                          -0.291326                1.995758   \n",
       "1                          -0.291326               -0.501063   \n",
       "2                          -0.291326               -0.501063   \n",
       "3                           3.432580               -0.501063   \n",
       "4                           3.432580               -0.501063   \n",
       "..                               ...                     ...   \n",
       "289                        -0.291326               -0.501063   \n",
       "290                        -0.291326               -0.501063   \n",
       "291                        -0.291326               -0.501063   \n",
       "292                        -0.291326               -0.501063   \n",
       "293                        -0.291326               -0.501063   \n",
       "\n",
       "     MaritalStatus_Married  MaritalStatus_Single  \n",
       "0                -0.946982             -0.696311  \n",
       "1                 1.055987             -0.696311  \n",
       "2                 1.055987             -0.696311  \n",
       "3                -0.946982              1.436141  \n",
       "4                 1.055987             -0.696311  \n",
       "..                     ...                   ...  \n",
       "289               1.055987             -0.696311  \n",
       "290              -0.946982              1.436141  \n",
       "291              -0.946982              1.436141  \n",
       "292              -0.946982              1.436141  \n",
       "293              -0.946982              1.436141  \n",
       "\n",
       "[294 rows x 30 columns]"
      ]
     },
     "execution_count": 127,
     "metadata": {},
     "output_type": "execute_result"
    }
   ],
   "source": [
    "X_valid"
   ]
  },
  {
   "cell_type": "code",
   "execution_count": 58,
   "id": "94ba9f9c",
   "metadata": {},
   "outputs": [
    {
     "data": {
      "text/html": [
       "        <script type=\"text/javascript\">\n",
       "        window.PlotlyConfig = {MathJaxConfig: 'local'};\n",
       "        if (window.MathJax) {MathJax.Hub.Config({SVG: {font: \"STIX-Web\"}});}\n",
       "        if (typeof require !== 'undefined') {\n",
       "        require.undef(\"plotly\");\n",
       "        requirejs.config({\n",
       "            paths: {\n",
       "                'plotly': ['https://cdn.plot.ly/plotly-2.9.0.min']\n",
       "            }\n",
       "        });\n",
       "        require(['plotly'], function(Plotly) {\n",
       "            window._Plotly = Plotly;\n",
       "        });\n",
       "        }\n",
       "        </script>\n",
       "        "
      ]
     },
     "metadata": {},
     "output_type": "display_data"
    }
   ],
   "source": [
    "import numpy as np \n",
    "import pandas as pd \n",
    "\n",
    "import matplotlib.pyplot as plt\n",
    "import seaborn as sns\n",
    "import plotly.express as px\n",
    "import plotly.graph_objs as go\n",
    "import plotly.tools as tls\n",
    "import plotly.offline as py\n",
    "py.init_notebook_mode(connected=True)\n",
    "\n",
    "from sklearn.svm import SVC\n",
    "\n",
    "from sklearn.linear_model import LogisticRegression\n",
    "from sklearn.ensemble import RandomForestClassifier\n",
    "from sklearn.preprocessing import StandardScaler\n",
    "from sklearn.model_selection import train_test_split, GridSearchCV\n",
    "from sklearn.metrics import confusion_matrix, accuracy_score, classification_report, roc_auc_score"
   ]
  },
  {
   "cell_type": "code",
   "execution_count": 59,
   "id": "18797ecd",
   "metadata": {},
   "outputs": [
    {
     "data": {
      "text/html": [
       "<style>#sk-container-id-2 {color: black;background-color: white;}#sk-container-id-2 pre{padding: 0;}#sk-container-id-2 div.sk-toggleable {background-color: white;}#sk-container-id-2 label.sk-toggleable__label {cursor: pointer;display: block;width: 100%;margin-bottom: 0;padding: 0.3em;box-sizing: border-box;text-align: center;}#sk-container-id-2 label.sk-toggleable__label-arrow:before {content: \"▸\";float: left;margin-right: 0.25em;color: #696969;}#sk-container-id-2 label.sk-toggleable__label-arrow:hover:before {color: black;}#sk-container-id-2 div.sk-estimator:hover label.sk-toggleable__label-arrow:before {color: black;}#sk-container-id-2 div.sk-toggleable__content {max-height: 0;max-width: 0;overflow: hidden;text-align: left;background-color: #f0f8ff;}#sk-container-id-2 div.sk-toggleable__content pre {margin: 0.2em;color: black;border-radius: 0.25em;background-color: #f0f8ff;}#sk-container-id-2 input.sk-toggleable__control:checked~div.sk-toggleable__content {max-height: 200px;max-width: 100%;overflow: auto;}#sk-container-id-2 input.sk-toggleable__control:checked~label.sk-toggleable__label-arrow:before {content: \"▾\";}#sk-container-id-2 div.sk-estimator input.sk-toggleable__control:checked~label.sk-toggleable__label {background-color: #d4ebff;}#sk-container-id-2 div.sk-label input.sk-toggleable__control:checked~label.sk-toggleable__label {background-color: #d4ebff;}#sk-container-id-2 input.sk-hidden--visually {border: 0;clip: rect(1px 1px 1px 1px);clip: rect(1px, 1px, 1px, 1px);height: 1px;margin: -1px;overflow: hidden;padding: 0;position: absolute;width: 1px;}#sk-container-id-2 div.sk-estimator {font-family: monospace;background-color: #f0f8ff;border: 1px dotted black;border-radius: 0.25em;box-sizing: border-box;margin-bottom: 0.5em;}#sk-container-id-2 div.sk-estimator:hover {background-color: #d4ebff;}#sk-container-id-2 div.sk-parallel-item::after {content: \"\";width: 100%;border-bottom: 1px solid gray;flex-grow: 1;}#sk-container-id-2 div.sk-label:hover label.sk-toggleable__label {background-color: #d4ebff;}#sk-container-id-2 div.sk-serial::before {content: \"\";position: absolute;border-left: 1px solid gray;box-sizing: border-box;top: 0;bottom: 0;left: 50%;z-index: 0;}#sk-container-id-2 div.sk-serial {display: flex;flex-direction: column;align-items: center;background-color: white;padding-right: 0.2em;padding-left: 0.2em;position: relative;}#sk-container-id-2 div.sk-item {position: relative;z-index: 1;}#sk-container-id-2 div.sk-parallel {display: flex;align-items: stretch;justify-content: center;background-color: white;position: relative;}#sk-container-id-2 div.sk-item::before, #sk-container-id-2 div.sk-parallel-item::before {content: \"\";position: absolute;border-left: 1px solid gray;box-sizing: border-box;top: 0;bottom: 0;left: 50%;z-index: -1;}#sk-container-id-2 div.sk-parallel-item {display: flex;flex-direction: column;z-index: 1;position: relative;background-color: white;}#sk-container-id-2 div.sk-parallel-item:first-child::after {align-self: flex-end;width: 50%;}#sk-container-id-2 div.sk-parallel-item:last-child::after {align-self: flex-start;width: 50%;}#sk-container-id-2 div.sk-parallel-item:only-child::after {width: 0;}#sk-container-id-2 div.sk-dashed-wrapped {border: 1px dashed gray;margin: 0 0.4em 0.5em 0.4em;box-sizing: border-box;padding-bottom: 0.4em;background-color: white;}#sk-container-id-2 div.sk-label label {font-family: monospace;font-weight: bold;display: inline-block;line-height: 1.2em;}#sk-container-id-2 div.sk-label-container {text-align: center;}#sk-container-id-2 div.sk-container {/* jupyter's `normalize.less` sets `[hidden] { display: none; }` but bootstrap.min.css set `[hidden] { display: none !important; }` so we also need the `!important` here to be able to override the default hidden behavior on the sphinx rendered scikit-learn.org. See: https://github.com/scikit-learn/scikit-learn/issues/21755 */display: inline-block !important;position: relative;}#sk-container-id-2 div.sk-text-repr-fallback {display: none;}</style><div id=\"sk-container-id-2\" class=\"sk-top-container\"><div class=\"sk-text-repr-fallback\"><pre>LogisticRegression(penalty=&#x27;l1&#x27;, solver=&#x27;liblinear&#x27;)</pre><b>In a Jupyter environment, please rerun this cell to show the HTML representation or trust the notebook. <br />On GitHub, the HTML representation is unable to render, please try loading this page with nbviewer.org.</b></div><div class=\"sk-container\" hidden><div class=\"sk-item\"><div class=\"sk-estimator sk-toggleable\"><input class=\"sk-toggleable__control sk-hidden--visually\" id=\"sk-estimator-id-2\" type=\"checkbox\" checked><label for=\"sk-estimator-id-2\" class=\"sk-toggleable__label sk-toggleable__label-arrow\">LogisticRegression</label><div class=\"sk-toggleable__content\"><pre>LogisticRegression(penalty=&#x27;l1&#x27;, solver=&#x27;liblinear&#x27;)</pre></div></div></div></div></div>"
      ],
      "text/plain": [
       "LogisticRegression(penalty='l1', solver='liblinear')"
      ]
     },
     "execution_count": 59,
     "metadata": {},
     "output_type": "execute_result"
    }
   ],
   "source": [
    "from sklearn.linear_model import LogisticRegression\n",
    "\n",
    "lr_clf = LogisticRegression(solver='liblinear', penalty='l1')\n",
    "lr_clf.fit(X_train, y_train)\n",
    "\n"
   ]
  },
  {
   "cell_type": "code",
   "execution_count": 60,
   "id": "5aab25a1",
   "metadata": {},
   "outputs": [],
   "source": [
    "y_pred = lr_clf.predict(X_valid)"
   ]
  },
  {
   "cell_type": "code",
   "execution_count": 61,
   "id": "9b97bffd",
   "metadata": {},
   "outputs": [
    {
     "name": "stdout",
     "output_type": "stream",
     "text": [
      "Accuracy of the classifier is: 0.891156462585034\n"
     ]
    }
   ],
   "source": [
    "from sklearn.metrics import accuracy_score\n",
    "# Calculating the accuracy of classifier\n",
    "print(f\"Accuracy of the classifier is: {accuracy_score(y_valid, y_pred)}\")"
   ]
  },
  {
   "cell_type": "code",
   "execution_count": 62,
   "id": "c518c483",
   "metadata": {},
   "outputs": [
    {
     "name": "stdout",
     "output_type": "stream",
     "text": [
      "              precision    recall  f1-score   support\n",
      "\n",
      "           0       0.92      0.95      0.94       257\n",
      "           1       0.59      0.46      0.52        37\n",
      "\n",
      "    accuracy                           0.89       294\n",
      "   macro avg       0.76      0.71      0.73       294\n",
      "weighted avg       0.88      0.89      0.89       294\n",
      "\n"
     ]
    }
   ],
   "source": [
    "print(classification_report(y_valid,y_pred))"
   ]
  },
  {
   "cell_type": "code",
   "execution_count": 63,
   "id": "6cbeeb04",
   "metadata": {},
   "outputs": [],
   "source": [
    "from sklearn.neighbors import KNeighborsClassifier\n",
    "#Create kNN (k Nearest Neighbor) classifier, with k value of 15\n",
    "knn = KNeighborsClassifier(n_neighbors = 4)\n",
    "#Fit the classifier to the data\n",
    "knn.fit(X_train,y_train)\n",
    "y_pred = knn.predict(X_valid)"
   ]
  },
  {
   "cell_type": "code",
   "execution_count": 64,
   "id": "07aac0bd",
   "metadata": {},
   "outputs": [
    {
     "name": "stdout",
     "output_type": "stream",
     "text": [
      "Accuracy of the classifier is: 0.8639455782312925\n"
     ]
    }
   ],
   "source": [
    "from sklearn.metrics import accuracy_score\n",
    "# Calculating the accuracy of classifier\n",
    "print(f\"Accuracy of the classifier is: {accuracy_score(y_valid, y_pred)}\")"
   ]
  },
  {
   "cell_type": "code",
   "execution_count": 65,
   "id": "6cf78e2c",
   "metadata": {},
   "outputs": [
    {
     "name": "stdout",
     "output_type": "stream",
     "text": [
      "              precision    recall  f1-score   support\n",
      "\n",
      "           0       0.89      0.96      0.93       257\n",
      "           1       0.41      0.19      0.26        37\n",
      "\n",
      "    accuracy                           0.86       294\n",
      "   macro avg       0.65      0.58      0.59       294\n",
      "weighted avg       0.83      0.86      0.84       294\n",
      "\n"
     ]
    }
   ],
   "source": [
    "print(classification_report(y_valid,y_pred))"
   ]
  },
  {
   "cell_type": "code",
   "execution_count": 66,
   "id": "31ed86d9",
   "metadata": {},
   "outputs": [],
   "source": [
    "k = [1,2,3,4,5,6,7,8,9,10]\n",
    "accuracy=[]\n",
    "for i in k:\n",
    "    knn = KNeighborsClassifier(n_neighbors = i)\n",
    "    knn.fit(X_train,y_train)\n",
    "    y_pred = knn.predict(X_valid)\n",
    "    accuracy.append(accuracy_score(y_valid, y_pred))"
   ]
  },
  {
   "cell_type": "code",
   "execution_count": 67,
   "id": "36c12e9e",
   "metadata": {},
   "outputs": [
    {
     "data": {
      "image/png": "[encoded data removed]",
      "text/plain": [
       "<Figure size 432x288 with 1 Axes>"
      ]
     },
     "metadata": {
      "needs_background": "light"
     },
     "output_type": "display_data"
    }
   ],
   "source": [
    "plt.plot(k, np.array(accuracy))\n",
    "plt.show()"
   ]
  },
  {
   "cell_type": "code",
   "execution_count": null,
   "id": "f277ad6d",
   "metadata": {},
   "outputs": [],
   "source": []
  },
  {
   "cell_type": "code",
   "execution_count": 78,
   "id": "2ff89102",
   "metadata": {},
   "outputs": [
    {
     "data": {
      "text/plain": [
       "array([0, 0, 0, 0, 0, 0, 0, 1, 0, 1, 0, 0, 0, 0, 0, 1, 1, 0, 0, 1, 0, 0,\n",
       "       0, 0, 0, 0, 0, 0, 0, 0, 0, 0, 0, 1, 0, 0, 0, 1, 0, 0, 0, 0, 0, 0,\n",
       "       0, 0, 1, 0, 1, 0, 0, 1, 0, 0, 0, 0, 0, 0, 0, 0, 0, 1, 0, 0, 1, 0,\n",
       "       0, 0, 0, 0, 0, 0, 1, 1, 1, 0, 0, 0, 0, 0, 0, 0, 0, 0, 0, 0, 1, 0,\n",
       "       0, 0, 0, 0, 0, 0, 0, 1, 0, 0, 0, 0, 0, 0, 0, 0, 0, 0, 0, 0, 0, 1,\n",
       "       0, 1, 0, 0, 0, 1, 1, 1, 0, 1, 0, 0, 0, 0, 1, 0, 1, 0, 0, 0, 0, 0,\n",
       "       0, 0, 0, 1, 0, 0, 0, 0, 0, 0, 0, 0, 0, 1, 0, 0, 0, 0, 1, 1, 0, 0,\n",
       "       0, 0, 0, 0, 0, 1, 0, 0, 0, 0, 0, 0, 0, 1, 0, 1, 0, 0, 0, 0, 0, 0,\n",
       "       0, 0, 0, 0, 0, 0, 0, 0, 0, 0, 0, 1, 1, 1, 0, 0, 0, 0, 0, 1, 0, 0,\n",
       "       0, 0, 1, 0, 0, 0, 0, 0, 0, 0, 0, 0, 0, 0, 0, 0, 0, 1, 0, 0, 0, 0,\n",
       "       0, 0, 0, 0, 0, 0, 0, 0, 0, 1, 0, 0, 0, 0, 0, 1, 0, 0, 0, 0, 0, 0,\n",
       "       0, 1, 0, 0, 0, 1, 0, 0, 0, 0, 1, 0, 0, 0, 0, 0, 0, 0, 0, 1, 0, 0,\n",
       "       0, 0, 0, 0, 0, 0, 0, 0, 0, 0, 1, 0, 1, 0, 0, 1, 0, 0, 0, 0, 0, 0,\n",
       "       0, 0, 0, 0, 0, 0, 0, 1], dtype=int64)"
      ]
     },
     "execution_count": 78,
     "metadata": {},
     "output_type": "execute_result"
    }
   ],
   "source": [
    "from sklearn.tree import DecisionTreeClassifier\n",
    "clf = DecisionTreeClassifier(max_depth =7, random_state = 42)\n",
    "\n",
    "clf.fit(X_train, y_train)\n",
    "y_pred = clf.predict(X_valid)\n",
    "y_pred"
   ]
  },
  {
   "cell_type": "code",
   "execution_count": 74,
   "id": "6906a519",
   "metadata": {},
   "outputs": [
    {
     "name": "stdout",
     "output_type": "stream",
     "text": [
      "Accuracy of the classifier is: 0.8197278911564626\n"
     ]
    }
   ],
   "source": [
    "from sklearn.metrics import accuracy_score\n",
    "# Calculating the accuracy of classifier\n",
    "print(f\"Accuracy of the classifier is: {accuracy_score(y_valid, y_pred)}\")"
   ]
  },
  {
   "cell_type": "code",
   "execution_count": 75,
   "id": "f516f418",
   "metadata": {},
   "outputs": [
    {
     "name": "stdout",
     "output_type": "stream",
     "text": [
      "              precision    recall  f1-score   support\n",
      "\n",
      "           0       0.91      0.88      0.89       257\n",
      "           1       0.33      0.43      0.38        37\n",
      "\n",
      "    accuracy                           0.82       294\n",
      "   macro avg       0.62      0.65      0.64       294\n",
      "weighted avg       0.84      0.82      0.83       294\n",
      "\n"
     ]
    }
   ],
   "source": [
    "print(classification_report(y_valid,y_pred))"
   ]
  },
  {
   "cell_type": "code",
   "execution_count": 76,
   "id": "7fee2d86",
   "metadata": {},
   "outputs": [],
   "source": [
    "depth = [1,2,3,4,5,6,7,8,9,10,11,12,13,14,15,16,17,18,19,20]\n",
    "accuracy=[]\n",
    "for i in k:\n",
    "    clf = DecisionTreeClassifier(max_depth =i, random_state = 42)\n",
    "    clf.fit(X_train, y_train)\n",
    "    y_pred = clf.predict(X_valid)\n",
    "    accuracy.append(accuracy_score(y_valid, y_pred))"
   ]
  },
  {
   "cell_type": "code",
   "execution_count": 77,
   "id": "6c1a4dee",
   "metadata": {},
   "outputs": [
    {
     "data": {
      "image/png": "[encoded data removed]",
      "text/plain": [
       "<Figure size 432x288 with 1 Axes>"
      ]
     },
     "metadata": {
      "needs_background": "light"
     },
     "output_type": "display_data"
    }
   ],
   "source": [
    "plt.plot(k, np.array(accuracy))\n",
    "plt.show()"
   ]
  },
  {
   "cell_type": "markdown",
   "id": "05e1553d",
   "metadata": {},
   "source": [
    "## Final Testing\n",
    "\n",
    "## Logistic Regression"
   ]
  },
  {
   "cell_type": "code",
   "execution_count": 339,
   "id": "c656300d",
   "metadata": {},
   "outputs": [
    {
     "data": {
      "text/plain": [
       "LogisticRegression(penalty='l1', solver='liblinear')"
      ]
     },
     "execution_count": 339,
     "metadata": {},
     "output_type": "execute_result"
    }
   ],
   "source": [
    "#lr_clf = LogisticRegression(solver='liblinear', penalty='l1')\n",
    "#lr_clf.fit(X_test, y_test)\n"
   ]
  },
  {
   "cell_type": "code",
   "execution_count": 340,
   "id": "866ade77",
   "metadata": {},
   "outputs": [],
   "source": [
    "#y_pred = lr_clf.predict(X_test)"
   ]
  },
  {
   "cell_type": "code",
   "execution_count": 342,
   "id": "92b3a748",
   "metadata": {},
   "outputs": [
    {
     "name": "stdout",
     "output_type": "stream",
     "text": [
      "Accuracy of the classifier is: 0.8775510204081632\n"
     ]
    }
   ],
   "source": [
    "#from sklearn.metrics import accuracy_score\n",
    "# Calculating the accuracy of classifier\n",
    "#print(f\"Accuracy of the classifier is: {accuracy_score(y_test, y_pred)}\")"
   ]
  },
  {
   "cell_type": "markdown",
   "id": "0152af5c",
   "metadata": {},
   "source": [
    "## K-NN"
   ]
  },
  {
   "cell_type": "code",
   "execution_count": 343,
   "id": "2f0b0c0f",
   "metadata": {},
   "outputs": [],
   "source": [
    "#from sklearn.neighbors import KNeighborsClassifier\n",
    "#Create kNN (k Nearest Neighbor) classifier, with k value of 15\n",
    "#knn = KNeighborsClassifier(n_neighbors = 4)\n",
    "#Fit the classifier to the data\n",
    "#knn.fit(X_test,y_test)\n",
    "#y_pred = knn.predict(X_test)"
   ]
  },
  {
   "cell_type": "code",
   "execution_count": 345,
   "id": "c8cd2791",
   "metadata": {},
   "outputs": [
    {
     "name": "stdout",
     "output_type": "stream",
     "text": [
      "Accuracy of the classifier is: 0.8537414965986394\n"
     ]
    }
   ],
   "source": [
    "#from sklearn.metrics import accuracy_score\n",
    "# Calculating the accuracy of classifier\n",
    "#print(f\"Accuracy of the classifier is: {accuracy_score(y_test, y_pred)}\")"
   ]
  },
  {
   "cell_type": "code",
   "execution_count": null,
   "id": "edc15c36",
   "metadata": {},
   "outputs": [],
   "source": []
  },
  {
   "cell_type": "code",
   "execution_count": null,
   "id": "1cc6b77c",
   "metadata": {},
   "outputs": [],
   "source": []
  },
  {
   "cell_type": "code",
   "execution_count": null,
   "id": "89982509",
   "metadata": {},
   "outputs": [],
   "source": []
  },
  {
   "cell_type": "code",
   "execution_count": null,
   "id": "1ce6664d",
   "metadata": {},
   "outputs": [],
   "source": []
  },
  {
   "cell_type": "code",
   "execution_count": null,
   "id": "94b1ac40",
   "metadata": {},
   "outputs": [],
   "source": []
  },
  {
   "cell_type": "code",
   "execution_count": null,
   "id": "964b0466",
   "metadata": {},
   "outputs": [],
   "source": []
  }
 ],
 "metadata": {
  "kernelspec": {
   "display_name": "Python 3 (ipykernel)",
   "language": "python",
   "name": "python3"
  },
  "language_info": {
   "codemirror_mode": {
    "name": "ipython",
    "version": 3
   },
   "file_extension": ".py",
   "mimetype": "text/x-python",
   "name": "python",
   "nbconvert_exporter": "python",
   "pygments_lexer": "ipython3",
   "version": "3.9.12"
  }
 },
 "nbformat": 4,
 "nbformat_minor": 5
}
